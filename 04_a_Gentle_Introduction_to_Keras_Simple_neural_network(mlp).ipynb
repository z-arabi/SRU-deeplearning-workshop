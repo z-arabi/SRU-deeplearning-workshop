{
  "cells": [
    {
      "cell_type": "markdown",
      "metadata": {
        "id": "view-in-github",
        "colab_type": "text"
      },
      "source": [
        "<a href=\"https://colab.research.google.com/github/z-arabi/SRU-deeplearning-workshop/blob/master/04_a_Gentle_Introduction_to_Keras_Simple_neural_network(mlp).ipynb\" target=\"_parent\"><img src=\"https://colab.research.google.com/assets/colab-badge.svg\" alt=\"Open In Colab\"/></a>"
      ]
    },
    {
      "cell_type": "code",
      "source": [
        "! git clone https://github.com/z-arabi/SRU-deeplearning-workshop\n",
        "%cd SRU-deeplearning-workshop"
      ],
      "metadata": {
        "id": "vJLnjkCs2TUI",
        "outputId": "4708a3de-6be2-4411-919f-e304dfa83414",
        "colab": {
          "base_uri": "https://localhost:8080/"
        }
      },
      "execution_count": 24,
      "outputs": [
        {
          "output_type": "stream",
          "name": "stdout",
          "text": [
            "Cloning into 'SRU-deeplearning-workshop'...\n",
            "remote: Enumerating objects: 155, done.\u001b[K\n",
            "remote: Counting objects: 100% (66/66), done.\u001b[K\n",
            "remote: Compressing objects: 100% (55/55), done.\u001b[K\n",
            "remote: Total 155 (delta 28), reused 35 (delta 11), pack-reused 89\u001b[K\n",
            "Receiving objects: 100% (155/155), 14.51 MiB | 15.61 MiB/s, done.\n",
            "Resolving deltas: 100% (65/65), done.\n",
            "/content/SRU-deeplearning-workshop/SRU-deeplearning-workshop\n"
          ]
        }
      ]
    },
    {
      "cell_type": "markdown",
      "source": [
        "## Dataset\n",
        "\n",
        "\n",
        "```\n",
        "# for more information read \"19-Intro2ML-HodaDataset.ipynb\"\n",
        "import cv2\n",
        "import numpy as np\n",
        "from scipy import io\n",
        "\n",
        "def load_hoda(training_sample_size=1000, test_sample_size=200, size=5):\n",
        "    #load dataset\n",
        "    trs = training_sample_size\n",
        "    tes = test_sample_size\n",
        "    dataset = io.loadmat('./dataset/Data_hoda_full.mat')\n",
        "\n",
        "    #test and training set\n",
        "    X_train_orginal = np.squeeze(dataset['Data'][:trs])\n",
        "    y_train = np.squeeze(dataset['labels'][:trs])\n",
        "    X_test_original = np.squeeze(dataset['Data'][trs:trs+tes])\n",
        "    y_test = np.squeeze(dataset['labels'][trs:trs+tes])\n",
        "\n",
        "    #resize\n",
        "    X_train_5by5 = [cv2.resize(img, dsize=(size, size)) for img in X_train_orginal]\n",
        "    X_test_5by_5 = [cv2.resize(img, dsize=(size, size)) for img in X_test_original]\n",
        "    #reshape\n",
        "    X_train = np.reshape(X_train_5by5, [-1,size**2])\n",
        "    X_test = np.reshape(X_test_5by_5, [-1,size**2])\n",
        "\n",
        "    return X_train, y_train, X_test, y_test\n",
        "```\n",
        "\n"
      ],
      "metadata": {
        "id": "FfvovtSr2bqx"
      }
    },
    {
      "cell_type": "code",
      "execution_count": 25,
      "metadata": {
        "nbpresent": {
          "id": "de829a92-1fb6-44ad-a2c6-fc1001e1f6e1"
        },
        "id": "dt_ZIX7k2ScZ"
      },
      "outputs": [],
      "source": [
        "# tensorflow v2.x > support NVIDIA\n",
        "import keras\n",
        "from keras.models import Sequential\n",
        "from keras.layers import Dense,  Activation\n",
        "import numpy as np\n",
        "\n",
        "from dataset import load_hoda"
      ]
    },
    {
      "cell_type": "code",
      "execution_count": 26,
      "metadata": {
        "id": "ZJWaJEk52Scf"
      },
      "outputs": [],
      "source": [
        "np.random.seed(123)  # for reproducibility"
      ]
    },
    {
      "cell_type": "code",
      "execution_count": 27,
      "metadata": {
        "id": "wHuRkRil2Scg"
      },
      "outputs": [],
      "source": [
        "x_train_original, y_train_original, x_test_original, y_test_original = load_hoda()\n"
      ]
    },
    {
      "cell_type": "code",
      "source": [
        "'''\n",
        "in keras the input must obey some rules:\n",
        "1. input must be np array not list\n",
        "2. accepts float32 bit not int \n",
        "3. all the inputs are better to be normalized\n",
        "4. labels must be one hotted\n",
        "'''"
      ],
      "metadata": {
        "id": "DEk-wRDFNfNe",
        "outputId": "6e114e1e-b338-4694-b097-33447acbe255",
        "colab": {
          "base_uri": "https://localhost:8080/",
          "height": 82
        }
      },
      "execution_count": 28,
      "outputs": [
        {
          "output_type": "execute_result",
          "data": {
            "text/plain": [
              "'\\nin keras the input must obey some rules:\\n1. input must be np array not list\\n2. accepts float32 bit not int \\n3. all the inputs are better to be normalized\\n4. labels must be one hotted\\n'"
            ],
            "application/vnd.google.colaboratory.intrinsic+json": {
              "type": "string"
            }
          },
          "metadata": {},
          "execution_count": 28
        }
      ]
    },
    {
      "cell_type": "code",
      "source": [
        "x_train_original.shape, y_train_original.shape"
      ],
      "metadata": {
        "id": "L8CZiGks5ksC",
        "outputId": "1067bc2a-db26-461f-f4fd-bc3cca3d0874",
        "colab": {
          "base_uri": "https://localhost:8080/"
        }
      },
      "execution_count": 29,
      "outputs": [
        {
          "output_type": "execute_result",
          "data": {
            "text/plain": [
              "((1000, 25), (1000,))"
            ]
          },
          "metadata": {},
          "execution_count": 29
        }
      ]
    },
    {
      "cell_type": "code",
      "source": [
        "# for one hotted the numbers\n",
        "# for one hot the strings we use the sklearn > one_hot = pd.get_dummies(df, columns = ['xxx'])\n",
        "keras.utils.to_categorical(y_train_original, num_classes=10)[0]"
      ],
      "metadata": {
        "id": "kRJsngtg52qo",
        "outputId": "976f223a-98bd-4975-ab83-522a15b884b4",
        "colab": {
          "base_uri": "https://localhost:8080/"
        }
      },
      "execution_count": 30,
      "outputs": [
        {
          "output_type": "execute_result",
          "data": {
            "text/plain": [
              "array([0., 0., 0., 0., 0., 0., 1., 0., 0., 0.], dtype=float32)"
            ]
          },
          "metadata": {},
          "execution_count": 30
        }
      ]
    },
    {
      "cell_type": "code",
      "source": [
        "keras.utils.to_categorical(y_train_original, num_classes=10).shape"
      ],
      "metadata": {
        "id": "fg-BnH805vWL",
        "outputId": "25888016-7112-4f80-df1e-2a74d618a76c",
        "colab": {
          "base_uri": "https://localhost:8080/"
        }
      },
      "execution_count": 31,
      "outputs": [
        {
          "output_type": "execute_result",
          "data": {
            "text/plain": [
              "(1000, 10)"
            ]
          },
          "metadata": {},
          "execution_count": 31
        }
      ]
    },
    {
      "cell_type": "code",
      "execution_count": 32,
      "metadata": {
        "id": "lxM0208o2Sci"
      },
      "outputs": [],
      "source": [
        "def print_data_info(x_train, y_train, x_test, y_test):\n",
        "    #Check data Type\n",
        "    print (\"\\ttype(x_train): {}\".format(type(x_train)))\n",
        "    print (\"\\ttype(y_train): {}\".format(type(y_train)))\n",
        "\n",
        "    #check data Shape\n",
        "    print (\"\\tx_train.shape: {}\".format(np.shape(x_train)))\n",
        "    print (\"\\ty_train.shape: {}\".format(np.shape(y_train)))\n",
        "    print (\"\\tx_test.shape: {}\".format(np.shape(x_test)))\n",
        "    print (\"\\ty_test.shape: {}\".format(np.shape(y_test)))\n",
        "\n",
        "    #sample data\n",
        "    print (\"\\ty_train[0]: {}\".format(y_train[0]))"
      ]
    },
    {
      "cell_type": "code",
      "execution_count": 33,
      "metadata": {
        "id": "_qgEKXdu2Sci"
      },
      "outputs": [],
      "source": [
        "# Preprocess input data for Keras. \n",
        "\n",
        "# the np.array make it mutable\n",
        "x_train = np.array(x_train_original)\n",
        "y_train = keras.utils.to_categorical(y_train_original, num_classes=10)\n",
        "x_test = np.array(x_test_original)\n",
        "y_test = keras.utils.to_categorical(y_test_original, num_classes=10)"
      ]
    },
    {
      "cell_type": "code",
      "execution_count": 34,
      "metadata": {
        "id": "SuSrRk1e2Scj",
        "outputId": "7bf92f69-a905-440d-9f63-67d53c965559",
        "colab": {
          "base_uri": "https://localhost:8080/"
        }
      },
      "outputs": [
        {
          "output_type": "stream",
          "name": "stdout",
          "text": [
            "Before Preprocessing:\n",
            "\ttype(x_train): <class 'numpy.ndarray'>\n",
            "\ttype(y_train): <class 'numpy.ndarray'>\n",
            "\tx_train.shape: (1000, 25)\n",
            "\ty_train.shape: (1000,)\n",
            "\tx_test.shape: (200, 25)\n",
            "\ty_test.shape: (200,)\n",
            "\ty_train[0]: 6\n",
            "After Preprocessing:\n",
            "\ttype(x_train): <class 'numpy.ndarray'>\n",
            "\ttype(y_train): <class 'numpy.ndarray'>\n",
            "\tx_train.shape: (1000, 25)\n",
            "\ty_train.shape: (1000, 10)\n",
            "\tx_test.shape: (200, 25)\n",
            "\ty_test.shape: (200, 10)\n",
            "\ty_train[0]: [0. 0. 0. 0. 0. 0. 1. 0. 0. 0.]\n"
          ]
        }
      ],
      "source": [
        "print(\"Before Preprocessing:\")\n",
        "print_data_info(x_train_original, y_train_original, x_test_original, y_test_original)\n",
        "print(\"After Preprocessing:\")\n",
        "print_data_info(x_train, y_train, x_test, y_test)"
      ]
    },
    {
      "cell_type": "code",
      "source": [
        "x_train.dtype, x_train.min(), x_train.max()"
      ],
      "metadata": {
        "id": "3oPNc8Y7M7Mi",
        "outputId": "6f535942-5200-43c9-a8cd-0762cc943d47",
        "colab": {
          "base_uri": "https://localhost:8080/"
        }
      },
      "execution_count": 35,
      "outputs": [
        {
          "output_type": "execute_result",
          "data": {
            "text/plain": [
              "(dtype('uint8'), 0, 255)"
            ]
          },
          "metadata": {},
          "execution_count": 35
        }
      ]
    },
    {
      "cell_type": "code",
      "execution_count": 36,
      "metadata": {
        "id": "hYxf9Jlo2Sck"
      },
      "outputs": [],
      "source": [
        "# for normalization it must be float > we have divisions\n",
        "# 0-255 >> 0-1 >> /255\n",
        "x_train = x_train.astype('float32')\n",
        "x_test = x_test.astype('float32')\n",
        "x_train /= 255\n",
        "x_test /= 255"
      ]
    },
    {
      "cell_type": "code",
      "source": [
        "x_train.min(), x_train.max(), x_train.mean(), x_train.std()"
      ],
      "metadata": {
        "colab": {
          "base_uri": "https://localhost:8080/"
        },
        "id": "0Bu4UnctRE-h",
        "outputId": "63d6e0a3-949e-4db7-dd45-d22694a4da74"
      },
      "execution_count": 37,
      "outputs": [
        {
          "output_type": "execute_result",
          "data": {
            "text/plain": [
              "(0.0, 1.0, 0.40205175, 0.45745108)"
            ]
          },
          "metadata": {},
          "execution_count": 37
        }
      ]
    },
    {
      "cell_type": "markdown",
      "metadata": {
        "id": "B9eyz4G52Scl"
      },
      "source": [
        "## Model Architecture"
      ]
    },
    {
      "cell_type": "code",
      "execution_count": 38,
      "metadata": {
        "id": "uKFhRSAW2Scl"
      },
      "outputs": [],
      "source": [
        "model = Sequential()\n",
        "# relu is good for hidden layers \n",
        "model.add(Dense(64, activation='relu', input_dim=25))\n",
        "model.add(Dense(10, activation='softmax'))"
      ]
    },
    {
      "cell_type": "code",
      "execution_count": 39,
      "metadata": {
        "id": "b3yjgEK52Scm",
        "outputId": "90515efc-991c-4ad5-bf56-cc456e186033",
        "colab": {
          "base_uri": "https://localhost:8080/"
        }
      },
      "outputs": [
        {
          "output_type": "stream",
          "name": "stdout",
          "text": [
            "Model: \"sequential_1\"\n",
            "_________________________________________________________________\n",
            " Layer (type)                Output Shape              Param #   \n",
            "=================================================================\n",
            " dense_2 (Dense)             (None, 64)                1664      \n",
            "                                                                 \n",
            " dense_3 (Dense)             (None, 10)                650       \n",
            "                                                                 \n",
            "=================================================================\n",
            "Total params: 2,314\n",
            "Trainable params: 2,314\n",
            "Non-trainable params: 0\n",
            "_________________________________________________________________\n"
          ]
        }
      ],
      "source": [
        "model.summary()\n",
        "# 1664 = 25*64 + 1*64(bias) \n",
        "# 650 = 64*10 + 1*10"
      ]
    },
    {
      "cell_type": "markdown",
      "metadata": {
        "id": "PcBoqp2L2Scn"
      },
      "source": [
        "## <div style=\"direction:rtl;text-align:right;font-family:B Lotus, B Nazanin, Tahoma\">Compile model</div>\n"
      ]
    },
    {
      "cell_type": "code",
      "execution_count": 40,
      "metadata": {
        "id": "QZlpt13D2Sco"
      },
      "outputs": [],
      "source": [
        "model.compile(loss='categorical_crossentropy',\n",
        "              optimizer='rmsprop',\n",
        "              metrics=['accuracy'])"
      ]
    },
    {
      "cell_type": "code",
      "execution_count": 41,
      "metadata": {
        "id": "MoKFdxHf2Scr",
        "outputId": "882629aa-3e62-4e43-9008-f80a87659bee",
        "colab": {
          "base_uri": "https://localhost:8080/"
        }
      },
      "outputs": [
        {
          "output_type": "stream",
          "name": "stdout",
          "text": [
            "Epoch 1/30\n",
            "13/13 [==============================] - 1s 18ms/step - loss: 2.1996 - accuracy: 0.2075 - val_loss: 2.0966 - val_accuracy: 0.3100\n",
            "Epoch 2/30\n",
            "13/13 [==============================] - 0s 4ms/step - loss: 2.0111 - accuracy: 0.3762 - val_loss: 1.9353 - val_accuracy: 0.4750\n",
            "Epoch 3/30\n",
            "13/13 [==============================] - 0s 4ms/step - loss: 1.8560 - accuracy: 0.5088 - val_loss: 1.7750 - val_accuracy: 0.5850\n",
            "Epoch 4/30\n",
            "13/13 [==============================] - 0s 5ms/step - loss: 1.7033 - accuracy: 0.6263 - val_loss: 1.6226 - val_accuracy: 0.6450\n",
            "Epoch 5/30\n",
            "13/13 [==============================] - 0s 5ms/step - loss: 1.5532 - accuracy: 0.7125 - val_loss: 1.4786 - val_accuracy: 0.7300\n",
            "Epoch 6/30\n",
            "13/13 [==============================] - 0s 7ms/step - loss: 1.4093 - accuracy: 0.7650 - val_loss: 1.3494 - val_accuracy: 0.7500\n",
            "Epoch 7/30\n",
            "13/13 [==============================] - 0s 8ms/step - loss: 1.2742 - accuracy: 0.8125 - val_loss: 1.2246 - val_accuracy: 0.7800\n",
            "Epoch 8/30\n",
            "13/13 [==============================] - 0s 7ms/step - loss: 1.1494 - accuracy: 0.8200 - val_loss: 1.1100 - val_accuracy: 0.7900\n",
            "Epoch 9/30\n",
            "13/13 [==============================] - 0s 8ms/step - loss: 1.0355 - accuracy: 0.8313 - val_loss: 1.0123 - val_accuracy: 0.7950\n",
            "Epoch 10/30\n",
            "13/13 [==============================] - 0s 7ms/step - loss: 0.9349 - accuracy: 0.8525 - val_loss: 0.9228 - val_accuracy: 0.8100\n",
            "Epoch 11/30\n",
            "13/13 [==============================] - 0s 6ms/step - loss: 0.8468 - accuracy: 0.8612 - val_loss: 0.8461 - val_accuracy: 0.8150\n",
            "Epoch 12/30\n",
            "13/13 [==============================] - 0s 7ms/step - loss: 0.7718 - accuracy: 0.8650 - val_loss: 0.7821 - val_accuracy: 0.8050\n",
            "Epoch 13/30\n",
            "13/13 [==============================] - 0s 7ms/step - loss: 0.7071 - accuracy: 0.8700 - val_loss: 0.7243 - val_accuracy: 0.8200\n",
            "Epoch 14/30\n",
            "13/13 [==============================] - 0s 7ms/step - loss: 0.6536 - accuracy: 0.8725 - val_loss: 0.6818 - val_accuracy: 0.8250\n",
            "Epoch 15/30\n",
            "13/13 [==============================] - 0s 6ms/step - loss: 0.6066 - accuracy: 0.8737 - val_loss: 0.6445 - val_accuracy: 0.8400\n",
            "Epoch 16/30\n",
            "13/13 [==============================] - 0s 7ms/step - loss: 0.5658 - accuracy: 0.8788 - val_loss: 0.6123 - val_accuracy: 0.8300\n",
            "Epoch 17/30\n",
            "13/13 [==============================] - 0s 8ms/step - loss: 0.5324 - accuracy: 0.8838 - val_loss: 0.5860 - val_accuracy: 0.8400\n",
            "Epoch 18/30\n",
            "13/13 [==============================] - 0s 7ms/step - loss: 0.5022 - accuracy: 0.8813 - val_loss: 0.5629 - val_accuracy: 0.8500\n",
            "Epoch 19/30\n",
            "13/13 [==============================] - 0s 8ms/step - loss: 0.4765 - accuracy: 0.8813 - val_loss: 0.5378 - val_accuracy: 0.8750\n",
            "Epoch 20/30\n",
            "13/13 [==============================] - 0s 7ms/step - loss: 0.4533 - accuracy: 0.8888 - val_loss: 0.5203 - val_accuracy: 0.8550\n",
            "Epoch 21/30\n",
            "13/13 [==============================] - 0s 6ms/step - loss: 0.4350 - accuracy: 0.8938 - val_loss: 0.5021 - val_accuracy: 0.8650\n",
            "Epoch 22/30\n",
            "13/13 [==============================] - 0s 6ms/step - loss: 0.4176 - accuracy: 0.8888 - val_loss: 0.4879 - val_accuracy: 0.8750\n",
            "Epoch 23/30\n",
            "13/13 [==============================] - 0s 6ms/step - loss: 0.4015 - accuracy: 0.8900 - val_loss: 0.4751 - val_accuracy: 0.8650\n",
            "Epoch 24/30\n",
            "13/13 [==============================] - 0s 7ms/step - loss: 0.3882 - accuracy: 0.9000 - val_loss: 0.4630 - val_accuracy: 0.8900\n",
            "Epoch 25/30\n",
            "13/13 [==============================] - 0s 6ms/step - loss: 0.3757 - accuracy: 0.8975 - val_loss: 0.4521 - val_accuracy: 0.8850\n",
            "Epoch 26/30\n",
            "13/13 [==============================] - 0s 6ms/step - loss: 0.3640 - accuracy: 0.9038 - val_loss: 0.4449 - val_accuracy: 0.8800\n",
            "Epoch 27/30\n",
            "13/13 [==============================] - 0s 6ms/step - loss: 0.3520 - accuracy: 0.9013 - val_loss: 0.4371 - val_accuracy: 0.8850\n",
            "Epoch 28/30\n",
            "13/13 [==============================] - 0s 9ms/step - loss: 0.3439 - accuracy: 0.9025 - val_loss: 0.4300 - val_accuracy: 0.8700\n",
            "Epoch 29/30\n",
            "13/13 [==============================] - 0s 11ms/step - loss: 0.3339 - accuracy: 0.9050 - val_loss: 0.4208 - val_accuracy: 0.9000\n",
            "Epoch 30/30\n",
            "13/13 [==============================] - 0s 13ms/step - loss: 0.3264 - accuracy: 0.9000 - val_loss: 0.4154 - val_accuracy: 0.8850\n"
          ]
        },
        {
          "output_type": "execute_result",
          "data": {
            "text/plain": [
              "<keras.callbacks.History at 0x7fd44535b400>"
            ]
          },
          "metadata": {},
          "execution_count": 41
        }
      ],
      "source": [
        "# 3 main splits > train, validation, test\n",
        "# calculate the loss and acc on val data\n",
        "# the weights are updated based on the train dataset\n",
        "model.fit(x_train, y_train,\n",
        "          epochs=30,\n",
        "          batch_size=64, validation_split=0.2)"
      ]
    },
    {
      "cell_type": "markdown",
      "metadata": {
        "id": "NXIui7Tg2Scv"
      },
      "source": [
        "## Model Evaluation"
      ]
    },
    {
      "cell_type": "code",
      "execution_count": 42,
      "metadata": {
        "id": "FfZ1oLTv2Sc1",
        "outputId": "7e83cb8e-3e7a-4525-b8b5-db1e1b0171fb",
        "colab": {
          "base_uri": "https://localhost:8080/"
        }
      },
      "outputs": [
        {
          "output_type": "stream",
          "name": "stdout",
          "text": [
            "7/7 [==============================] - 0s 3ms/step - loss: 0.3537 - accuracy: 0.9100\n",
            "\n",
            "Testing loss: 0.35, acc: 0.91%\n"
          ]
        }
      ],
      "source": [
        "loss, acc = model.evaluate(x_test, y_test)\n",
        "print('\\nTesting loss: %.2f, acc: %.2f%%'%(loss, acc))"
      ]
    },
    {
      "cell_type": "markdown",
      "metadata": {
        "id": "7D7ATjLK2Sc2"
      },
      "source": [
        "## Predicting\n"
      ]
    },
    {
      "cell_type": "code",
      "source": [
        "predicted = model.predict(x_test)\n",
        "predicted"
      ],
      "metadata": {
        "colab": {
          "base_uri": "https://localhost:8080/"
        },
        "id": "z4f-XmAwUuK0",
        "outputId": "e108a15b-4fae-4eeb-d039-40ac380c63ec"
      },
      "execution_count": 43,
      "outputs": [
        {
          "output_type": "stream",
          "name": "stdout",
          "text": [
            "7/7 [==============================] - 0s 2ms/step\n"
          ]
        },
        {
          "output_type": "execute_result",
          "data": {
            "text/plain": [
              "array([[7.1471832e-03, 7.7642227e-04, 2.7973335e-03, ..., 9.7094637e-01,\n",
              "        8.6698390e-05, 3.5177168e-04],\n",
              "       [4.1980422e-04, 3.4119360e-04, 6.2286496e-01, ..., 1.2436294e-02,\n",
              "        1.7137306e-04, 5.6473833e-05],\n",
              "       [6.3755671e-03, 4.5660735e-04, 1.8060283e-01, ..., 3.1021552e-02,\n",
              "        7.4766536e-04, 1.9191684e-03],\n",
              "       ...,\n",
              "       [1.6911966e-01, 8.3400086e-03, 1.1108893e-02, ..., 5.6191634e-02,\n",
              "        2.1859718e-02, 7.9185329e-02],\n",
              "       [6.3724779e-05, 9.4002802e-03, 4.2026443e-04, ..., 8.8448796e-05,\n",
              "        2.0752314e-03, 8.2014245e-01],\n",
              "       [8.4769150e-04, 1.8237062e-05, 1.9086897e-06, ..., 3.6682017e-05,\n",
              "        4.2898281e-04, 1.0437677e-05]], dtype=float32)"
            ]
          },
          "metadata": {},
          "execution_count": 43
        }
      ]
    },
    {
      "cell_type": "code",
      "source": [
        "print(predicted.shape)\n",
        "predicted_classes=np.argmax(predicted,axis=1)\n",
        "print(predicted_classes.shape)"
      ],
      "metadata": {
        "colab": {
          "base_uri": "https://localhost:8080/"
        },
        "id": "ugt9vJseY8x-",
        "outputId": "831371e3-5de0-4dc3-ce2a-a8fdc9e0374a"
      },
      "execution_count": 47,
      "outputs": [
        {
          "output_type": "stream",
          "name": "stdout",
          "text": [
            "(200, 10)\n",
            "(200,)\n"
          ]
        }
      ]
    },
    {
      "cell_type": "code",
      "execution_count": 48,
      "metadata": {
        "id": "ORsGWqak2Sc3",
        "outputId": "8263429e-f8f6-4e34-e655-d5f93a296297",
        "colab": {
          "base_uri": "https://localhost:8080/"
        }
      },
      "outputs": [
        {
          "output_type": "stream",
          "name": "stdout",
          "text": [
            "predicted:\n",
            "[7 2 3 9 5 5 4 7 3 2 0 8 8 0 2 9 3 6 7 4 0 3 6 3 9 2 7 5 2 9 7 5 5 8 9 2 5\n",
            " 1 4 8 8 4 7 2 1 2 7 9 0 3 7 5 7 5 2 9 8 2 9 8 8 6 6 6 7 6 2 4 2 4 4 5 9 1\n",
            " 8 4 0 5 6 2 4 3 2 7 7 7 7 1 8 1 7 8 7 7 8 9 6 2 3 1 0 2 9 6 3 5 5 0 0 9 6\n",
            " 7 9 3 9 9 8 7 9 2 5 2 5 5 9 6 9 2 0 3 7 9 5 2 9 0 3 1 8 2 2 3 5 2 9 3 8 2\n",
            " 7 0 9 9 0 7 6 2 4 4 9 3 7 0 7 1 9 4 7 3 4 1 5 6 7 9 1 3 5 3 5 7 4 1 3 3 1\n",
            " 1 4 3 8 9 6 7 7 2 3 0 1 4 9 5]\n",
            "True Label:\n",
            "[7 2 3 1 5 5 4 7 3 2 0 8 8 0 2 9 3 6 7 4 0 3 6 3 9 2 7 5 2 9 7 5 5 8 9 6 5\n",
            " 1 4 8 8 4 7 7 1 2 7 9 0 3 7 4 7 5 2 9 8 2 9 8 8 6 6 6 6 6 2 4 3 4 4 5 9 1\n",
            " 8 2 0 5 6 2 4 3 2 7 7 7 7 1 8 1 7 8 7 7 8 9 3 2 3 1 0 2 9 6 3 5 5 0 0 3 6\n",
            " 7 9 3 9 9 8 7 9 2 5 2 5 5 9 6 9 2 0 3 7 6 5 2 9 0 4 1 8 2 2 3 0 2 9 3 8 6\n",
            " 7 0 9 9 0 7 6 5 4 7 9 3 7 0 7 1 9 4 7 3 4 1 5 6 7 9 1 3 5 4 5 7 4 1 3 3 1\n",
            " 2 3 3 8 9 6 7 7 2 3 0 1 4 9 5]\n"
          ]
        }
      ],
      "source": [
        "print(\"predicted:\")\n",
        "print(predicted_classes)\n",
        "print(\"True Label:\")\n",
        "print(y_test_original)"
      ]
    },
    {
      "cell_type": "code",
      "source": [
        "from sklearn.metrics import confusion_matrix\n",
        "import matplotlib.pyplot as plt\n",
        "\n",
        "cm = confusion_matrix(y_test_original, predicted_classes)\n",
        "\n",
        "# plt.matshow(cm) / plt.imshow(cm)\n",
        "plt.matshow(cm)"
      ],
      "metadata": {
        "colab": {
          "base_uri": "https://localhost:8080/",
          "height": 459
        },
        "id": "RPGf6U5eZVsS",
        "outputId": "bd55c38d-e94c-4147-a29c-1c45ff35c5d9"
      },
      "execution_count": 55,
      "outputs": [
        {
          "output_type": "execute_result",
          "data": {
            "text/plain": [
              "<matplotlib.image.AxesImage at 0x7fd43f108cd0>"
            ]
          },
          "metadata": {},
          "execution_count": 55
        },
        {
          "output_type": "display_data",
          "data": {
            "text/plain": [
              "<Figure size 480x480 with 1 Axes>"
            ],
            "image/png": "[encoded data removed]"
          },
          "metadata": {}
        }
      ]
    },
    {
      "cell_type": "code",
      "source": [
        "# matplotlib doesn't have heatmap and instead it has imshow\n",
        "! pip install --quiet seaborn\n",
        "import seaborn as sns\n",
        "\n",
        "sns.heatmap(cm)"
      ],
      "metadata": {
        "colab": {
          "base_uri": "https://localhost:8080/",
          "height": 452
        },
        "id": "luTCLEtKaRsV",
        "outputId": "c59d549f-a8f1-43b7-adc5-73bcde1db0d0"
      },
      "execution_count": 56,
      "outputs": [
        {
          "output_type": "execute_result",
          "data": {
            "text/plain": [
              "<Axes: >"
            ]
          },
          "metadata": {},
          "execution_count": 56
        },
        {
          "output_type": "display_data",
          "data": {
            "text/plain": [
              "<Figure size 640x480 with 2 Axes>"
            ],
            "image/png": "[encoded data removed]"
          },
          "metadata": {}
        }
      ]
    },
    {
      "cell_type": "code",
      "source": [
        "sns.set(font_scale=1.1) # for label size\n",
        "sns.heatmap(cm, annot=True, annot_kws={\"size\": 11}) # font size"
      ],
      "metadata": {
        "colab": {
          "base_uri": "https://localhost:8080/",
          "height": 459
        },
        "id": "Hmu17fwGbRE6",
        "outputId": "9d838451-fe30-4c59-f301-7be24541d326"
      },
      "execution_count": 59,
      "outputs": [
        {
          "output_type": "execute_result",
          "data": {
            "text/plain": [
              "<Axes: >"
            ]
          },
          "metadata": {},
          "execution_count": 59
        },
        {
          "output_type": "display_data",
          "data": {
            "text/plain": [
              "<Figure size 640x480 with 2 Axes>"
            ],
            "image/png": "[encoded data removed]"
          },
          "metadata": {}
        }
      ]
    },
    {
      "cell_type": "markdown",
      "metadata": {
        "id": "J6fMj5op2SdE"
      },
      "source": [
        "## Complete Code"
      ]
    },
    {
      "cell_type": "code",
      "execution_count": null,
      "metadata": {
        "id": "X_K5QNBo2SdG"
      },
      "outputs": [],
      "source": [
        "# 1. Import libraries and modules\n",
        "import keras\n",
        "from keras.models import Sequential\n",
        "from keras.layers import Dense, Dropout, Activation\n",
        "import numpy as np\n",
        "from dataset import load_hoda\n",
        "\n",
        "np.random.seed(123)  # for reproducibility\n",
        "\n",
        "# 2. Load pre-shuffled HODA data into train and test sets\n",
        "x_train_original, y_train_original, x_test_original, y_test_original = load_hoda()\n",
        "\n",
        "# 3. Preprocess input data\n",
        "''' 3.1: input data in numpy array format'''\n",
        "x_train = np.array(x_train_original)\n",
        "x_test = np.array(x_test_original)\n",
        "'''3.2 normalize our data values to the range [0, 1]'''\n",
        "x_train = x_train.astype('float32')\n",
        "x_test = x_test.astype('float32')\n",
        "x_train /= 255\n",
        "x_test /= 255\n",
        "\n",
        "# 4. Preprocess class labels\n",
        "y_train = keras.utils.to_categorical(y_train_original, num_classes=10)\n",
        "y_test = keras.utils.to_categorical(y_test_original, num_classes=10)\n",
        "\n",
        "# 5. Define model architecture\n",
        "model = Sequential()\n",
        "model.add(Dense(64, activation='relu', input_dim=25))\n",
        "model.add(Dense(10, activation='softmax'))\n",
        "\n",
        "# 6. Compile model\n",
        "model.compile(loss='categorical_crossentropy',\n",
        "              optimizer='rmsprop',\n",
        "              metrics=['accuracy'])\n",
        "\n",
        "# 7. Fit model on training data\n",
        "model.fit(x_train, y_train,\n",
        "          epochs=30,\n",
        "          batch_size=64)\n",
        "\n",
        "# 8. Evaluate model on test data\n",
        "loss, acc = model.evaluate(x_test, y_test)\n",
        "print('\\nTesting loss: %.2f, acc: %.2f%%'%(loss, acc))"
      ]
    }
  ],
  "metadata": {
    "anaconda-cloud": {},
    "kernelspec": {
      "display_name": "Python 3",
      "name": "python3"
    },
    "language_info": {
      "name": "python"
    },
    "nbpresent": {
      "slides": {
        "300ee14f-a043-486e-b274-7ff253907cd7": {
          "id": "300ee14f-a043-486e-b274-7ff253907cd7",
          "prev": "cb74e0bc-4513-4d13-b7f1-14c3078a7927",
          "regions": {
            "26dc3f39-a230-447c-af4c-f5e5b2fb7835": {
              "attrs": {
                "height": 0.8,
                "width": 0.8,
                "x": 0.1,
                "y": 0.1
              },
              "content": {
                "cell": "c58440a5-3f8f-4f37-9c79-6bf766209406",
                "part": "whole"
              },
              "id": "26dc3f39-a230-447c-af4c-f5e5b2fb7835"
            }
          }
        },
        "878aa53a-1444-4100-8f50-7a408191c579": {
          "id": "878aa53a-1444-4100-8f50-7a408191c579",
          "prev": null,
          "regions": {
            "a6c6843a-5ea6-4fbc-b890-3b4b8ae475b3": {
              "attrs": {
                "height": 0.8,
                "width": 0.8,
                "x": 0.1,
                "y": 0.1
              },
              "content": {
                "cell": "588ee1fa-64b5-453b-ade7-8e6b2515821c",
                "part": "whole"
              },
              "id": "a6c6843a-5ea6-4fbc-b890-3b4b8ae475b3"
            }
          }
        },
        "96ffe88e-7b50-43de-afdd-942e564f4e3e": {
          "id": "96ffe88e-7b50-43de-afdd-942e564f4e3e",
          "prev": "878aa53a-1444-4100-8f50-7a408191c579",
          "regions": {
            "b7e52e12-489a-468d-b10c-af2024fd2856": {
              "attrs": {
                "height": 0.8,
                "width": 0.8,
                "x": 0.1,
                "y": 0.1
              },
              "content": {
                "cell": "de829a92-1fb6-44ad-a2c6-fc1001e1f6e1",
                "part": "whole"
              },
              "id": "b7e52e12-489a-468d-b10c-af2024fd2856"
            }
          }
        },
        "cb74e0bc-4513-4d13-b7f1-14c3078a7927": {
          "id": "cb74e0bc-4513-4d13-b7f1-14c3078a7927",
          "prev": "96ffe88e-7b50-43de-afdd-942e564f4e3e",
          "regions": {
            "444878ee-68f3-4abb-acff-a7079b21e86d": {
              "attrs": {
                "height": 0.8,
                "width": 0.8,
                "x": 0.1,
                "y": 0.1
              },
              "content": {
                "cell": "25f3f538-1ee8-4d98-a6bb-14cbeb7a702d",
                "part": "whole"
              },
              "id": "444878ee-68f3-4abb-acff-a7079b21e86d"
            }
          }
        }
      },
      "themes": {}
    },
    "colab": {
      "provenance": [],
      "include_colab_link": true
    },
    "gpuClass": "standard"
  },
  "nbformat": 4,
  "nbformat_minor": 0
}