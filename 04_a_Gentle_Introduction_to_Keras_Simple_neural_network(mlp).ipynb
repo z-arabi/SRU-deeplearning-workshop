{
  "cells": [
    {
      "cell_type": "markdown",
      "metadata": {
        "id": "view-in-github",
        "colab_type": "text"
      },
      "source": [
        "<a href=\"https://colab.research.google.com/github/z-arabi/SRU-deeplearning-workshop/blob/master/04_a_Gentle_Introduction_to_Keras_Simple_neural_network(mlp).ipynb\" target=\"_parent\"><img src=\"https://colab.research.google.com/assets/colab-badge.svg\" alt=\"Open In Colab\"/></a>"
      ]
    },
    {
      "cell_type": "code",
      "source": [
        "! git clone https://github.com/z-arabi/SRU-deeplearning-workshop\n",
        "%cd SRU-deeplearning-workshop"
      ],
      "metadata": {
        "id": "vJLnjkCs2TUI",
        "outputId": "2375d11a-063e-4ff0-cab3-c16848552484",
        "colab": {
          "base_uri": "https://localhost:8080/"
        }
      },
      "execution_count": 1,
      "outputs": [
        {
          "output_type": "stream",
          "name": "stdout",
          "text": [
            "Cloning into 'SRU-deeplearning-workshop'...\n",
            "remote: Enumerating objects: 188, done.\u001b[K\n",
            "remote: Counting objects: 100% (99/99), done.\u001b[K\n",
            "remote: Compressing objects: 100% (88/88), done.\u001b[K\n",
            "remote: Total 188 (delta 47), reused 34 (delta 11), pack-reused 89\u001b[K\n",
            "Receiving objects: 100% (188/188), 14.70 MiB | 6.03 MiB/s, done.\n",
            "Resolving deltas: 100% (84/84), done.\n",
            "/content/SRU-deeplearning-workshop\n"
          ]
        }
      ]
    },
    {
      "cell_type": "code",
      "source": [
        "%matplotlib inline"
      ],
      "metadata": {
        "id": "gNV3GgHSaZDP"
      },
      "execution_count": 2,
      "outputs": []
    },
    {
      "cell_type": "markdown",
      "source": [
        "## Dataset\n",
        "\n",
        "\n",
        "```\n",
        "# for more information read \"19-Intro2ML-HodaDataset.ipynb\"\n",
        "import cv2\n",
        "import numpy as np\n",
        "from scipy import io\n",
        "\n",
        "def load_hoda(training_sample_size=1000, test_sample_size=200, size=5):\n",
        "    #load dataset\n",
        "    trs = training_sample_size\n",
        "    tes = test_sample_size\n",
        "    dataset = io.loadmat('./dataset/Data_hoda_full.mat')\n",
        "\n",
        "    #test and training set\n",
        "    X_train_orginal = np.squeeze(dataset['Data'][:trs])\n",
        "    y_train = np.squeeze(dataset['labels'][:trs])\n",
        "    X_test_original = np.squeeze(dataset['Data'][trs:trs+tes])\n",
        "    y_test = np.squeeze(dataset['labels'][trs:trs+tes])\n",
        "\n",
        "    #resize\n",
        "    X_train_5by5 = [cv2.resize(img, dsize=(size, size)) for img in X_train_orginal]\n",
        "    X_test_5by_5 = [cv2.resize(img, dsize=(size, size)) for img in X_test_original]\n",
        "    #reshape\n",
        "    X_train = np.reshape(X_train_5by5, [-1,size**2])\n",
        "    X_test = np.reshape(X_test_5by_5, [-1,size**2])\n",
        "\n",
        "    return X_train, y_train, X_test, y_test\n",
        "```\n",
        "\n"
      ],
      "metadata": {
        "id": "FfvovtSr2bqx"
      }
    },
    {
      "cell_type": "code",
      "execution_count": 3,
      "metadata": {
        "nbpresent": {
          "id": "de829a92-1fb6-44ad-a2c6-fc1001e1f6e1"
        },
        "id": "dt_ZIX7k2ScZ"
      },
      "outputs": [],
      "source": [
        "# tensorflow v2.x > support NVIDIA\n",
        "import keras\n",
        "from keras.models import Sequential\n",
        "from keras.layers import Dense,  Activation\n",
        "import numpy as np\n",
        "\n",
        "from dataset import load_hoda"
      ]
    },
    {
      "cell_type": "code",
      "execution_count": 4,
      "metadata": {
        "id": "ZJWaJEk52Scf"
      },
      "outputs": [],
      "source": [
        "np.random.seed(123)  # for reproducibility"
      ]
    },
    {
      "cell_type": "code",
      "execution_count": 5,
      "metadata": {
        "id": "wHuRkRil2Scg"
      },
      "outputs": [],
      "source": [
        "x_train_original, y_train_original, x_test_original, y_test_original = load_hoda()\n"
      ]
    },
    {
      "cell_type": "code",
      "source": [
        "'''\n",
        "in keras the input must obey some rules:\n",
        "1. input must be np array not list\n",
        "2. accepts float32 bit not int \n",
        "3. all the inputs are better to be normalized\n",
        "4. labels must be one hotted\n",
        "'''"
      ],
      "metadata": {
        "id": "DEk-wRDFNfNe",
        "outputId": "53f5cfe2-6762-4f65-9cf7-c776823bb0ff",
        "colab": {
          "base_uri": "https://localhost:8080/",
          "height": 60
        }
      },
      "execution_count": 6,
      "outputs": [
        {
          "output_type": "execute_result",
          "data": {
            "text/plain": [
              "'\\nin keras the input must obey some rules:\\n1. input must be np array not list\\n2. accepts float32 bit not int \\n3. all the inputs are better to be normalized\\n4. labels must be one hotted\\n'"
            ],
            "application/vnd.google.colaboratory.intrinsic+json": {
              "type": "string"
            }
          },
          "metadata": {},
          "execution_count": 6
        }
      ]
    },
    {
      "cell_type": "code",
      "source": [
        "x_train_original.shape, y_train_original.shape"
      ],
      "metadata": {
        "id": "L8CZiGks5ksC",
        "outputId": "dbe63c9c-f42a-44ba-a133-feca60b0dae1",
        "colab": {
          "base_uri": "https://localhost:8080/"
        }
      },
      "execution_count": 7,
      "outputs": [
        {
          "output_type": "execute_result",
          "data": {
            "text/plain": [
              "((1000, 25), (1000,))"
            ]
          },
          "metadata": {},
          "execution_count": 7
        }
      ]
    },
    {
      "cell_type": "code",
      "source": [
        "# for one hotted the numbers\n",
        "# for one hot the strings we use the sklearn > one_hot = pd.get_dummies(df, columns = ['xxx'])\n",
        "keras.utils.to_categorical(y_train_original, num_classes=10)[0]"
      ],
      "metadata": {
        "id": "kRJsngtg52qo",
        "outputId": "091433f4-be73-467a-e9d8-30244a4675b7",
        "colab": {
          "base_uri": "https://localhost:8080/"
        }
      },
      "execution_count": 8,
      "outputs": [
        {
          "output_type": "execute_result",
          "data": {
            "text/plain": [
              "array([0., 0., 0., 0., 0., 0., 1., 0., 0., 0.], dtype=float32)"
            ]
          },
          "metadata": {},
          "execution_count": 8
        }
      ]
    },
    {
      "cell_type": "code",
      "source": [
        "keras.utils.to_categorical(y_train_original, num_classes=10).shape"
      ],
      "metadata": {
        "id": "fg-BnH805vWL",
        "outputId": "dc895a35-ca84-477f-97bc-55efed643dd8",
        "colab": {
          "base_uri": "https://localhost:8080/"
        }
      },
      "execution_count": 9,
      "outputs": [
        {
          "output_type": "execute_result",
          "data": {
            "text/plain": [
              "(1000, 10)"
            ]
          },
          "metadata": {},
          "execution_count": 9
        }
      ]
    },
    {
      "cell_type": "code",
      "execution_count": 10,
      "metadata": {
        "id": "lxM0208o2Sci"
      },
      "outputs": [],
      "source": [
        "def print_data_info(x_train, y_train, x_test, y_test):\n",
        "    #Check data Type\n",
        "    print (\"\\ttype(x_train): {}\".format(type(x_train)))\n",
        "    print (\"\\ttype(y_train): {}\".format(type(y_train)))\n",
        "\n",
        "    #check data Shape\n",
        "    print (\"\\tx_train.shape: {}\".format(np.shape(x_train)))\n",
        "    print (\"\\ty_train.shape: {}\".format(np.shape(y_train)))\n",
        "    print (\"\\tx_test.shape: {}\".format(np.shape(x_test)))\n",
        "    print (\"\\ty_test.shape: {}\".format(np.shape(y_test)))\n",
        "\n",
        "    #sample data\n",
        "    print (\"\\ty_train[0]: {}\".format(y_train[0]))"
      ]
    },
    {
      "cell_type": "code",
      "execution_count": 11,
      "metadata": {
        "id": "_qgEKXdu2Sci"
      },
      "outputs": [],
      "source": [
        "# Preprocess input data for Keras. \n",
        "\n",
        "# the np.array make it mutable\n",
        "x_train = np.array(x_train_original)\n",
        "y_train = keras.utils.to_categorical(y_train_original, num_classes=10)\n",
        "x_test = np.array(x_test_original)\n",
        "y_test = keras.utils.to_categorical(y_test_original, num_classes=10)"
      ]
    },
    {
      "cell_type": "code",
      "execution_count": 12,
      "metadata": {
        "id": "SuSrRk1e2Scj",
        "outputId": "d417ac6c-6b7f-45c0-a3ae-e1b2714368b8",
        "colab": {
          "base_uri": "https://localhost:8080/"
        }
      },
      "outputs": [
        {
          "output_type": "stream",
          "name": "stdout",
          "text": [
            "Before Preprocessing:\n",
            "\ttype(x_train): <class 'numpy.ndarray'>\n",
            "\ttype(y_train): <class 'numpy.ndarray'>\n",
            "\tx_train.shape: (1000, 25)\n",
            "\ty_train.shape: (1000,)\n",
            "\tx_test.shape: (200, 25)\n",
            "\ty_test.shape: (200,)\n",
            "\ty_train[0]: 6\n",
            "After Preprocessing:\n",
            "\ttype(x_train): <class 'numpy.ndarray'>\n",
            "\ttype(y_train): <class 'numpy.ndarray'>\n",
            "\tx_train.shape: (1000, 25)\n",
            "\ty_train.shape: (1000, 10)\n",
            "\tx_test.shape: (200, 25)\n",
            "\ty_test.shape: (200, 10)\n",
            "\ty_train[0]: [0. 0. 0. 0. 0. 0. 1. 0. 0. 0.]\n"
          ]
        }
      ],
      "source": [
        "print(\"Before Preprocessing:\")\n",
        "print_data_info(x_train_original, y_train_original, x_test_original, y_test_original)\n",
        "print(\"After Preprocessing:\")\n",
        "print_data_info(x_train, y_train, x_test, y_test)"
      ]
    },
    {
      "cell_type": "code",
      "source": [
        "x_train.dtype, x_train.min(), x_train.max()"
      ],
      "metadata": {
        "id": "3oPNc8Y7M7Mi",
        "outputId": "a9399fce-33b3-42ba-d7a7-77ccf9245121",
        "colab": {
          "base_uri": "https://localhost:8080/"
        }
      },
      "execution_count": 13,
      "outputs": [
        {
          "output_type": "execute_result",
          "data": {
            "text/plain": [
              "(dtype('uint8'), 0, 255)"
            ]
          },
          "metadata": {},
          "execution_count": 13
        }
      ]
    },
    {
      "cell_type": "code",
      "execution_count": 14,
      "metadata": {
        "id": "hYxf9Jlo2Sck"
      },
      "outputs": [],
      "source": [
        "# for normalization it must be float > we have divisions\n",
        "# 0-255 >> 0-1 >> /255\n",
        "x_train = x_train.astype('float32')\n",
        "x_test = x_test.astype('float32')\n",
        "x_train /= 255\n",
        "x_test /= 255"
      ]
    },
    {
      "cell_type": "code",
      "source": [
        "x_train.min(), x_train.max(), x_train.mean(), x_train.std()"
      ],
      "metadata": {
        "colab": {
          "base_uri": "https://localhost:8080/"
        },
        "id": "0Bu4UnctRE-h",
        "outputId": "feb6ceeb-2825-43e8-da32-cf9e44ec9182"
      },
      "execution_count": 15,
      "outputs": [
        {
          "output_type": "execute_result",
          "data": {
            "text/plain": [
              "(0.0, 1.0, 0.40205175, 0.45745108)"
            ]
          },
          "metadata": {},
          "execution_count": 15
        }
      ]
    },
    {
      "cell_type": "markdown",
      "metadata": {
        "id": "B9eyz4G52Scl"
      },
      "source": [
        "## Model Architecture"
      ]
    },
    {
      "cell_type": "code",
      "execution_count": 16,
      "metadata": {
        "id": "uKFhRSAW2Scl"
      },
      "outputs": [],
      "source": [
        "model = Sequential()\n",
        "# relu is good for hidden layers \n",
        "model.add(Dense(64, activation='relu', input_dim=25))\n",
        "model.add(Dense(10, activation='softmax'))"
      ]
    },
    {
      "cell_type": "code",
      "execution_count": 17,
      "metadata": {
        "id": "b3yjgEK52Scm",
        "outputId": "0c089e81-f4b0-48c9-a277-22d1fc41277f",
        "colab": {
          "base_uri": "https://localhost:8080/"
        }
      },
      "outputs": [
        {
          "output_type": "stream",
          "name": "stdout",
          "text": [
            "Model: \"sequential\"\n",
            "_________________________________________________________________\n",
            " Layer (type)                Output Shape              Param #   \n",
            "=================================================================\n",
            " dense (Dense)               (None, 64)                1664      \n",
            "                                                                 \n",
            " dense_1 (Dense)             (None, 10)                650       \n",
            "                                                                 \n",
            "=================================================================\n",
            "Total params: 2,314\n",
            "Trainable params: 2,314\n",
            "Non-trainable params: 0\n",
            "_________________________________________________________________\n"
          ]
        }
      ],
      "source": [
        "model.summary()\n",
        "# 1664 = 25*64 + 1*64(bias) \n",
        "# 650 = 64*10 + 1*10"
      ]
    },
    {
      "cell_type": "markdown",
      "metadata": {
        "id": "PcBoqp2L2Scn"
      },
      "source": [
        "## <div style=\"direction:rtl;text-align:right;font-family:B Lotus, B Nazanin, Tahoma\">Compile model</div>\n"
      ]
    },
    {
      "cell_type": "code",
      "execution_count": 18,
      "metadata": {
        "id": "QZlpt13D2Sco"
      },
      "outputs": [],
      "source": [
        "model.compile(loss='categorical_crossentropy',\n",
        "              optimizer='rmsprop',\n",
        "              metrics=['accuracy'])"
      ]
    },
    {
      "cell_type": "code",
      "execution_count": 19,
      "metadata": {
        "id": "MoKFdxHf2Scr",
        "outputId": "3973eb62-606a-4dba-d444-64db33e3167b",
        "colab": {
          "base_uri": "https://localhost:8080/"
        }
      },
      "outputs": [
        {
          "output_type": "stream",
          "name": "stdout",
          "text": [
            "Epoch 1/30\n",
            "13/13 [==============================] - 2s 70ms/step - loss: 2.1383 - accuracy: 0.3088 - val_loss: 1.9842 - val_accuracy: 0.4850\n",
            "Epoch 2/30\n",
            "13/13 [==============================] - 0s 28ms/step - loss: 1.9387 - accuracy: 0.4963 - val_loss: 1.8209 - val_accuracy: 0.6200\n",
            "Epoch 3/30\n",
            "13/13 [==============================] - 0s 14ms/step - loss: 1.7794 - accuracy: 0.6162 - val_loss: 1.6705 - val_accuracy: 0.6550\n",
            "Epoch 4/30\n",
            "13/13 [==============================] - 0s 25ms/step - loss: 1.6258 - accuracy: 0.6837 - val_loss: 1.5234 - val_accuracy: 0.7050\n",
            "Epoch 5/30\n",
            "13/13 [==============================] - 0s 16ms/step - loss: 1.4769 - accuracy: 0.7262 - val_loss: 1.3799 - val_accuracy: 0.7400\n",
            "Epoch 6/30\n",
            "13/13 [==============================] - 0s 21ms/step - loss: 1.3379 - accuracy: 0.7513 - val_loss: 1.2544 - val_accuracy: 0.7700\n",
            "Epoch 7/30\n",
            "13/13 [==============================] - 0s 22ms/step - loss: 1.2071 - accuracy: 0.7713 - val_loss: 1.1338 - val_accuracy: 0.7850\n",
            "Epoch 8/30\n",
            "13/13 [==============================] - 0s 12ms/step - loss: 1.0886 - accuracy: 0.8000 - val_loss: 1.0266 - val_accuracy: 0.8000\n",
            "Epoch 9/30\n",
            "13/13 [==============================] - 0s 23ms/step - loss: 0.9850 - accuracy: 0.8100 - val_loss: 0.9328 - val_accuracy: 0.8200\n",
            "Epoch 10/30\n",
            "13/13 [==============================] - 0s 16ms/step - loss: 0.8937 - accuracy: 0.8225 - val_loss: 0.8463 - val_accuracy: 0.8300\n",
            "Epoch 11/30\n",
            "13/13 [==============================] - 0s 8ms/step - loss: 0.8156 - accuracy: 0.8375 - val_loss: 0.7766 - val_accuracy: 0.8350\n",
            "Epoch 12/30\n",
            "13/13 [==============================] - 0s 8ms/step - loss: 0.7475 - accuracy: 0.8425 - val_loss: 0.7188 - val_accuracy: 0.8350\n",
            "Epoch 13/30\n",
            "13/13 [==============================] - 0s 11ms/step - loss: 0.6892 - accuracy: 0.8500 - val_loss: 0.6727 - val_accuracy: 0.8550\n",
            "Epoch 14/30\n",
            "13/13 [==============================] - 0s 16ms/step - loss: 0.6378 - accuracy: 0.8587 - val_loss: 0.6293 - val_accuracy: 0.8500\n",
            "Epoch 15/30\n",
            "13/13 [==============================] - 0s 8ms/step - loss: 0.5959 - accuracy: 0.8650 - val_loss: 0.5925 - val_accuracy: 0.8550\n",
            "Epoch 16/30\n",
            "13/13 [==============================] - 0s 15ms/step - loss: 0.5578 - accuracy: 0.8662 - val_loss: 0.5636 - val_accuracy: 0.8600\n",
            "Epoch 17/30\n",
            "13/13 [==============================] - 0s 9ms/step - loss: 0.5272 - accuracy: 0.8675 - val_loss: 0.5383 - val_accuracy: 0.8550\n",
            "Epoch 18/30\n",
            "13/13 [==============================] - 0s 12ms/step - loss: 0.4984 - accuracy: 0.8775 - val_loss: 0.5143 - val_accuracy: 0.8650\n",
            "Epoch 19/30\n",
            "13/13 [==============================] - 0s 8ms/step - loss: 0.4735 - accuracy: 0.8788 - val_loss: 0.4969 - val_accuracy: 0.8800\n",
            "Epoch 20/30\n",
            "13/13 [==============================] - 0s 13ms/step - loss: 0.4514 - accuracy: 0.8875 - val_loss: 0.4811 - val_accuracy: 0.8800\n",
            "Epoch 21/30\n",
            "13/13 [==============================] - 0s 9ms/step - loss: 0.4338 - accuracy: 0.8838 - val_loss: 0.4670 - val_accuracy: 0.8850\n",
            "Epoch 22/30\n",
            "13/13 [==============================] - 0s 8ms/step - loss: 0.4174 - accuracy: 0.8900 - val_loss: 0.4511 - val_accuracy: 0.8800\n",
            "Epoch 23/30\n",
            "13/13 [==============================] - 0s 11ms/step - loss: 0.4010 - accuracy: 0.8938 - val_loss: 0.4438 - val_accuracy: 0.8850\n",
            "Epoch 24/30\n",
            "13/13 [==============================] - 0s 10ms/step - loss: 0.3865 - accuracy: 0.8988 - val_loss: 0.4320 - val_accuracy: 0.8750\n",
            "Epoch 25/30\n",
            "13/13 [==============================] - 0s 8ms/step - loss: 0.3761 - accuracy: 0.8988 - val_loss: 0.4200 - val_accuracy: 0.8750\n",
            "Epoch 26/30\n",
            "13/13 [==============================] - 0s 16ms/step - loss: 0.3639 - accuracy: 0.9038 - val_loss: 0.4155 - val_accuracy: 0.8900\n",
            "Epoch 27/30\n",
            "13/13 [==============================] - 0s 10ms/step - loss: 0.3532 - accuracy: 0.8963 - val_loss: 0.4098 - val_accuracy: 0.8850\n",
            "Epoch 28/30\n",
            "13/13 [==============================] - 0s 11ms/step - loss: 0.3434 - accuracy: 0.9000 - val_loss: 0.4021 - val_accuracy: 0.8800\n",
            "Epoch 29/30\n",
            "13/13 [==============================] - 0s 11ms/step - loss: 0.3345 - accuracy: 0.9038 - val_loss: 0.3967 - val_accuracy: 0.8800\n",
            "Epoch 30/30\n",
            "13/13 [==============================] - 0s 7ms/step - loss: 0.3257 - accuracy: 0.9050 - val_loss: 0.3964 - val_accuracy: 0.8800\n"
          ]
        },
        {
          "output_type": "execute_result",
          "data": {
            "text/plain": [
              "<keras.callbacks.History at 0x7f64aa53a490>"
            ]
          },
          "metadata": {},
          "execution_count": 19
        }
      ],
      "source": [
        "# 3 main splits > train, validation, test\n",
        "# calculate the loss and acc on val data\n",
        "# the weights are updated based on the train dataset\n",
        "model.fit(x_train, y_train,\n",
        "          epochs=30,\n",
        "          batch_size=64, validation_split=0.2)"
      ]
    },
    {
      "cell_type": "markdown",
      "metadata": {
        "id": "NXIui7Tg2Scv"
      },
      "source": [
        "## Model Evaluation"
      ]
    },
    {
      "cell_type": "code",
      "execution_count": 20,
      "metadata": {
        "id": "FfZ1oLTv2Sc1",
        "outputId": "91199029-cc9b-47c9-b5bd-7196b1fcd29e",
        "colab": {
          "base_uri": "https://localhost:8080/"
        }
      },
      "outputs": [
        {
          "output_type": "stream",
          "name": "stdout",
          "text": [
            "7/7 [==============================] - 0s 8ms/step - loss: 0.3621 - accuracy: 0.8900\n",
            "\n",
            "Testing loss: 0.36, acc: 0.89%\n"
          ]
        }
      ],
      "source": [
        "loss, acc = model.evaluate(x_test, y_test)\n",
        "print('\\nTesting loss: %.2f, acc: %.2f%%'%(loss, acc))"
      ]
    },
    {
      "cell_type": "markdown",
      "metadata": {
        "id": "7D7ATjLK2Sc2"
      },
      "source": [
        "## Predicting\n"
      ]
    },
    {
      "cell_type": "code",
      "source": [
        "predicted = model.predict(x_test)\n",
        "predicted"
      ],
      "metadata": {
        "colab": {
          "base_uri": "https://localhost:8080/"
        },
        "id": "z4f-XmAwUuK0",
        "outputId": "25519849-c77a-40ea-ebe2-800066be80a7"
      },
      "execution_count": 21,
      "outputs": [
        {
          "output_type": "stream",
          "name": "stdout",
          "text": [
            "7/7 [==============================] - 0s 5ms/step\n"
          ]
        },
        {
          "output_type": "execute_result",
          "data": {
            "text/plain": [
              "array([[2.52323179e-03, 2.15752138e-04, 1.34390627e-03, ...,\n",
              "        9.89155054e-01, 6.92396770e-06, 1.13949020e-04],\n",
              "       [4.40722652e-04, 7.95874221e-04, 6.31557524e-01, ...,\n",
              "        8.70809890e-03, 1.52638298e-04, 5.54935868e-05],\n",
              "       [6.08460745e-03, 5.54871163e-04, 1.69473976e-01, ...,\n",
              "        4.41863015e-02, 4.16146620e-04, 1.53233402e-03],\n",
              "       ...,\n",
              "       [1.22019984e-01, 3.79961431e-02, 1.21645946e-02, ...,\n",
              "        1.41453594e-02, 1.59197599e-02, 1.11967519e-01],\n",
              "       [1.06720348e-04, 6.22379454e-03, 1.91409228e-04, ...,\n",
              "        2.61288020e-04, 2.00182945e-03, 8.45196664e-01],\n",
              "       [1.64099934e-03, 4.09028980e-05, 2.06168952e-05, ...,\n",
              "        2.06628669e-04, 7.11576373e-04, 5.99336490e-05]], dtype=float32)"
            ]
          },
          "metadata": {},
          "execution_count": 21
        }
      ]
    },
    {
      "cell_type": "code",
      "source": [
        "print(predicted.shape)\n",
        "predicted_classes=np.argmax(predicted,axis=1)\n",
        "print(predicted_classes.shape)"
      ],
      "metadata": {
        "colab": {
          "base_uri": "https://localhost:8080/"
        },
        "id": "ugt9vJseY8x-",
        "outputId": "c20d6366-5183-4557-85d9-f644b67cfb3d"
      },
      "execution_count": 22,
      "outputs": [
        {
          "output_type": "stream",
          "name": "stdout",
          "text": [
            "(200, 10)\n",
            "(200,)\n"
          ]
        }
      ]
    },
    {
      "cell_type": "code",
      "execution_count": 23,
      "metadata": {
        "id": "ORsGWqak2Sc3",
        "outputId": "ec2bd82f-9e28-485b-b0e0-0789b38f6ecc",
        "colab": {
          "base_uri": "https://localhost:8080/"
        }
      },
      "outputs": [
        {
          "output_type": "stream",
          "name": "stdout",
          "text": [
            "predicted:\n",
            "[7 2 3 8 5 5 4 7 3 2 0 8 8 0 2 9 3 6 7 4 0 3 6 3 9 2 7 5 2 9 2 5 5 8 9 2 5\n",
            " 1 4 8 8 4 7 2 1 2 7 9 0 3 7 5 7 5 7 9 8 2 9 8 8 6 6 6 7 6 2 4 6 4 4 5 9 1\n",
            " 8 4 0 5 6 2 4 3 2 7 7 7 7 0 8 1 7 8 7 7 8 9 7 2 3 1 0 2 9 6 3 5 5 0 0 9 6\n",
            " 7 9 3 9 9 8 7 9 2 5 2 5 5 9 6 9 2 0 3 7 9 8 2 9 0 4 1 8 2 2 3 5 2 9 3 8 2\n",
            " 7 0 9 9 0 7 6 2 4 4 9 3 2 0 7 1 9 4 7 3 4 1 5 6 7 9 1 3 5 3 5 7 4 1 3 3 1\n",
            " 1 4 3 8 9 6 7 7 2 3 0 1 4 9 5]\n",
            "True Label:\n",
            "[7 2 3 1 5 5 4 7 3 2 0 8 8 0 2 9 3 6 7 4 0 3 6 3 9 2 7 5 2 9 7 5 5 8 9 6 5\n",
            " 1 4 8 8 4 7 7 1 2 7 9 0 3 7 4 7 5 2 9 8 2 9 8 8 6 6 6 6 6 2 4 3 4 4 5 9 1\n",
            " 8 2 0 5 6 2 4 3 2 7 7 7 7 1 8 1 7 8 7 7 8 9 3 2 3 1 0 2 9 6 3 5 5 0 0 3 6\n",
            " 7 9 3 9 9 8 7 9 2 5 2 5 5 9 6 9 2 0 3 7 6 5 2 9 0 4 1 8 2 2 3 0 2 9 3 8 6\n",
            " 7 0 9 9 0 7 6 5 4 7 9 3 7 0 7 1 9 4 7 3 4 1 5 6 7 9 1 3 5 4 5 7 4 1 3 3 1\n",
            " 2 3 3 8 9 6 7 7 2 3 0 1 4 9 5]\n"
          ]
        }
      ],
      "source": [
        "print(\"predicted:\")\n",
        "print(predicted_classes)\n",
        "print(\"True Label:\")\n",
        "print(y_test_original)"
      ]
    },
    {
      "cell_type": "code",
      "source": [
        "from sklearn.metrics import confusion_matrix\n",
        "import matplotlib.pyplot as plt\n",
        "\n",
        "cm = confusion_matrix(y_test_original, predicted_classes)\n",
        "\n",
        "# plt.matshow(cm) / plt.imshow(cm)\n",
        "plt.matshow(cm)\n",
        "plt.show()"
      ],
      "metadata": {
        "colab": {
          "base_uri": "https://localhost:8080/",
          "height": 437
        },
        "id": "RPGf6U5eZVsS",
        "outputId": "c6b9f073-7a9e-41e3-eb36-0dcaaefb5f9b"
      },
      "execution_count": 24,
      "outputs": [
        {
          "output_type": "display_data",
          "data": {
            "text/plain": [
              "<Figure size 480x480 with 1 Axes>"
            ],
            "image/png": "[encoded data removed]"
          },
          "metadata": {}
        }
      ]
    },
    {
      "cell_type": "code",
      "source": [
        "# matplotlib doesn't have heatmap and instead it has imshow\n",
        "%matplotlib inline\n",
        "! pip install --quiet seaborn\n",
        "import seaborn as sns\n",
        "\n",
        "sns.heatmap(cm)"
      ],
      "metadata": {
        "colab": {
          "base_uri": "https://localhost:8080/",
          "height": 459
        },
        "id": "luTCLEtKaRsV",
        "outputId": "a825ec32-11ad-458d-9ce4-63638298fade"
      },
      "execution_count": 28,
      "outputs": [
        {
          "output_type": "execute_result",
          "data": {
            "text/plain": [
              "<Axes: >"
            ]
          },
          "metadata": {},
          "execution_count": 28
        },
        {
          "output_type": "display_data",
          "data": {
            "text/plain": [
              "<Figure size 640x480 with 2 Axes>"
            ],
            "image/png": "[encoded data removed]"
          },
          "metadata": {}
        }
      ]
    },
    {
      "cell_type": "code",
      "source": [
        "sns.set(font_scale=1.1) # for label size\n",
        "sns.heatmap(cm, annot=True, annot_kws={\"size\": 11}) # font size"
      ],
      "metadata": {
        "colab": {
          "base_uri": "https://localhost:8080/",
          "height": 459
        },
        "id": "Hmu17fwGbRE6",
        "outputId": "49f82509-5f96-4c27-b0c2-0549c585b506"
      },
      "execution_count": 26,
      "outputs": [
        {
          "output_type": "execute_result",
          "data": {
            "text/plain": [
              "<Axes: >"
            ]
          },
          "metadata": {},
          "execution_count": 26
        },
        {
          "output_type": "display_data",
          "data": {
            "text/plain": [
              "<Figure size 640x480 with 2 Axes>"
            ],
            "image/png": "[encoded data removed]"
          },
          "metadata": {}
        }
      ]
    },
    {
      "cell_type": "markdown",
      "metadata": {
        "id": "J6fMj5op2SdE"
      },
      "source": [
        "## Complete Code"
      ]
    },
    {
      "cell_type": "code",
      "execution_count": 27,
      "metadata": {
        "id": "X_K5QNBo2SdG",
        "outputId": "bd798129-8699-4ee8-aec2-100f6a80e53b",
        "colab": {
          "base_uri": "https://localhost:8080/"
        }
      },
      "outputs": [
        {
          "output_type": "stream",
          "name": "stdout",
          "text": [
            "Epoch 1/30\n",
            "16/16 [==============================] - 1s 3ms/step - loss: 2.1842 - accuracy: 0.1850\n",
            "Epoch 2/30\n",
            "16/16 [==============================] - 0s 2ms/step - loss: 1.9712 - accuracy: 0.3800\n",
            "Epoch 3/30\n",
            "16/16 [==============================] - 0s 2ms/step - loss: 1.7908 - accuracy: 0.5890\n",
            "Epoch 4/30\n",
            "16/16 [==============================] - 0s 3ms/step - loss: 1.6146 - accuracy: 0.6800\n",
            "Epoch 5/30\n",
            "16/16 [==============================] - 0s 2ms/step - loss: 1.4404 - accuracy: 0.7370\n",
            "Epoch 6/30\n",
            "16/16 [==============================] - 0s 2ms/step - loss: 1.2808 - accuracy: 0.7640\n",
            "Epoch 7/30\n",
            "16/16 [==============================] - 0s 2ms/step - loss: 1.1365 - accuracy: 0.7770\n",
            "Epoch 8/30\n",
            "16/16 [==============================] - 0s 2ms/step - loss: 1.0116 - accuracy: 0.7980\n",
            "Epoch 9/30\n",
            "16/16 [==============================] - 0s 2ms/step - loss: 0.9042 - accuracy: 0.8200\n",
            "Epoch 10/30\n",
            "16/16 [==============================] - 0s 2ms/step - loss: 0.8125 - accuracy: 0.8250\n",
            "Epoch 11/30\n",
            "16/16 [==============================] - 0s 2ms/step - loss: 0.7354 - accuracy: 0.8370\n",
            "Epoch 12/30\n",
            "16/16 [==============================] - 0s 2ms/step - loss: 0.6710 - accuracy: 0.8450\n",
            "Epoch 13/30\n",
            "16/16 [==============================] - 0s 2ms/step - loss: 0.6163 - accuracy: 0.8500\n",
            "Epoch 14/30\n",
            "16/16 [==============================] - 0s 2ms/step - loss: 0.5705 - accuracy: 0.8620\n",
            "Epoch 15/30\n",
            "16/16 [==============================] - 0s 2ms/step - loss: 0.5322 - accuracy: 0.8620\n",
            "Epoch 16/30\n",
            "16/16 [==============================] - 0s 2ms/step - loss: 0.4997 - accuracy: 0.8720\n",
            "Epoch 17/30\n",
            "16/16 [==============================] - 0s 2ms/step - loss: 0.4730 - accuracy: 0.8810\n",
            "Epoch 18/30\n",
            "16/16 [==============================] - 0s 2ms/step - loss: 0.4483 - accuracy: 0.8850\n",
            "Epoch 19/30\n",
            "16/16 [==============================] - 0s 2ms/step - loss: 0.4278 - accuracy: 0.8920\n",
            "Epoch 20/30\n",
            "16/16 [==============================] - 0s 2ms/step - loss: 0.4097 - accuracy: 0.8900\n",
            "Epoch 21/30\n",
            "16/16 [==============================] - 0s 2ms/step - loss: 0.3920 - accuracy: 0.9060\n",
            "Epoch 22/30\n",
            "16/16 [==============================] - 0s 2ms/step - loss: 0.3796 - accuracy: 0.8970\n",
            "Epoch 23/30\n",
            "16/16 [==============================] - 0s 2ms/step - loss: 0.3648 - accuracy: 0.9020\n",
            "Epoch 24/30\n",
            "16/16 [==============================] - 0s 3ms/step - loss: 0.3531 - accuracy: 0.9080\n",
            "Epoch 25/30\n",
            "16/16 [==============================] - 0s 3ms/step - loss: 0.3427 - accuracy: 0.9040\n",
            "Epoch 26/30\n",
            "16/16 [==============================] - 0s 2ms/step - loss: 0.3348 - accuracy: 0.9050\n",
            "Epoch 27/30\n",
            "16/16 [==============================] - 0s 2ms/step - loss: 0.3247 - accuracy: 0.9100\n",
            "Epoch 28/30\n",
            "16/16 [==============================] - 0s 2ms/step - loss: 0.3173 - accuracy: 0.9110\n",
            "Epoch 29/30\n",
            "16/16 [==============================] - 0s 2ms/step - loss: 0.3095 - accuracy: 0.9120\n",
            "Epoch 30/30\n",
            "16/16 [==============================] - 0s 3ms/step - loss: 0.3026 - accuracy: 0.9120\n",
            "7/7 [==============================] - 0s 3ms/step - loss: 0.3322 - accuracy: 0.8950\n",
            "\n",
            "Testing loss: 0.33, acc: 0.89%\n"
          ]
        }
      ],
      "source": [
        "# 1. Import libraries and modules\n",
        "import keras\n",
        "from keras.models import Sequential\n",
        "from keras.layers import Dense, Dropout, Activation\n",
        "import numpy as np\n",
        "from dataset import load_hoda\n",
        "\n",
        "np.random.seed(123)  # for reproducibility\n",
        "\n",
        "# 2. Load pre-shuffled HODA data into train and test sets\n",
        "x_train_original, y_train_original, x_test_original, y_test_original = load_hoda()\n",
        "\n",
        "# 3. Preprocess input data\n",
        "''' 3.1: input data in numpy array format'''\n",
        "x_train = np.array(x_train_original)\n",
        "x_test = np.array(x_test_original)\n",
        "'''3.2 normalize our data values to the range [0, 1]'''\n",
        "x_train = x_train.astype('float32')\n",
        "x_test = x_test.astype('float32')\n",
        "x_train /= 255\n",
        "x_test /= 255\n",
        "\n",
        "# 4. Preprocess class labels\n",
        "y_train = keras.utils.to_categorical(y_train_original, num_classes=10)\n",
        "y_test = keras.utils.to_categorical(y_test_original, num_classes=10)\n",
        "\n",
        "# 5. Define model architecture\n",
        "model = Sequential()\n",
        "model.add(Dense(64, activation='relu', input_dim=25))\n",
        "model.add(Dense(10, activation='softmax'))\n",
        "\n",
        "# 6. Compile model\n",
        "model.compile(loss='categorical_crossentropy',\n",
        "              optimizer='rmsprop',\n",
        "              metrics=['accuracy'])\n",
        "\n",
        "# 7. Fit model on training data\n",
        "model.fit(x_train, y_train,\n",
        "          epochs=30,\n",
        "          batch_size=64)\n",
        "\n",
        "# 8. Evaluate model on test data\n",
        "loss, acc = model.evaluate(x_test, y_test)\n",
        "print('\\nTesting loss: %.2f, acc: %.2f%%'%(loss, acc))"
      ]
    },
    {
      "cell_type": "code",
      "source": [],
      "metadata": {
        "id": "yD1EZJG5adEj"
      },
      "execution_count": 27,
      "outputs": []
    }
  ],
  "metadata": {
    "anaconda-cloud": {},
    "kernelspec": {
      "display_name": "Python 3",
      "name": "python3"
    },
    "language_info": {
      "name": "python"
    },
    "nbpresent": {
      "slides": {
        "300ee14f-a043-486e-b274-7ff253907cd7": {
          "id": "300ee14f-a043-486e-b274-7ff253907cd7",
          "prev": "cb74e0bc-4513-4d13-b7f1-14c3078a7927",
          "regions": {
            "26dc3f39-a230-447c-af4c-f5e5b2fb7835": {
              "attrs": {
                "height": 0.8,
                "width": 0.8,
                "x": 0.1,
                "y": 0.1
              },
              "content": {
                "cell": "c58440a5-3f8f-4f37-9c79-6bf766209406",
                "part": "whole"
              },
              "id": "26dc3f39-a230-447c-af4c-f5e5b2fb7835"
            }
          }
        },
        "878aa53a-1444-4100-8f50-7a408191c579": {
          "id": "878aa53a-1444-4100-8f50-7a408191c579",
          "prev": null,
          "regions": {
            "a6c6843a-5ea6-4fbc-b890-3b4b8ae475b3": {
              "attrs": {
                "height": 0.8,
                "width": 0.8,
                "x": 0.1,
                "y": 0.1
              },
              "content": {
                "cell": "588ee1fa-64b5-453b-ade7-8e6b2515821c",
                "part": "whole"
              },
              "id": "a6c6843a-5ea6-4fbc-b890-3b4b8ae475b3"
            }
          }
        },
        "96ffe88e-7b50-43de-afdd-942e564f4e3e": {
          "id": "96ffe88e-7b50-43de-afdd-942e564f4e3e",
          "prev": "878aa53a-1444-4100-8f50-7a408191c579",
          "regions": {
            "b7e52e12-489a-468d-b10c-af2024fd2856": {
              "attrs": {
                "height": 0.8,
                "width": 0.8,
                "x": 0.1,
                "y": 0.1
              },
              "content": {
                "cell": "de829a92-1fb6-44ad-a2c6-fc1001e1f6e1",
                "part": "whole"
              },
              "id": "b7e52e12-489a-468d-b10c-af2024fd2856"
            }
          }
        },
        "cb74e0bc-4513-4d13-b7f1-14c3078a7927": {
          "id": "cb74e0bc-4513-4d13-b7f1-14c3078a7927",
          "prev": "96ffe88e-7b50-43de-afdd-942e564f4e3e",
          "regions": {
            "444878ee-68f3-4abb-acff-a7079b21e86d": {
              "attrs": {
                "height": 0.8,
                "width": 0.8,
                "x": 0.1,
                "y": 0.1
              },
              "content": {
                "cell": "25f3f538-1ee8-4d98-a6bb-14cbeb7a702d",
                "part": "whole"
              },
              "id": "444878ee-68f3-4abb-acff-a7079b21e86d"
            }
          }
        }
      },
      "themes": {}
    },
    "colab": {
      "provenance": [],
      "include_colab_link": true
    },
    "gpuClass": "standard"
  },
  "nbformat": 4,
  "nbformat_minor": 0
}