{
  "cells": [
    {
      "cell_type": "markdown",
      "metadata": {
        "id": "view-in-github",
        "colab_type": "text"
      },
      "source": [
        "<a href=\"https://colab.research.google.com/github/z-arabi/SRU-deeplearning-workshop/blob/master/04_a_Gentle_Introduction_to_Keras_Simple_neural_network(mlp).ipynb\" target=\"_parent\"><img src=\"https://colab.research.google.com/assets/colab-badge.svg\" alt=\"Open In Colab\"/></a>"
      ]
    },
    {
      "cell_type": "code",
      "source": [
        "! git clone https://github.com/z-arabi/SRU-deeplearning-workshop\n",
        "%cd SRU-deeplearning-workshop"
      ],
      "metadata": {
        "id": "vJLnjkCs2TUI",
        "outputId": "2d8a1f61-9c9c-4117-a120-8ad89ce15de9",
        "colab": {
          "base_uri": "https://localhost:8080/"
        }
      },
      "execution_count": 1,
      "outputs": [
        {
          "output_type": "stream",
          "name": "stdout",
          "text": [
            "Cloning into 'SRU-deeplearning-workshop'...\n",
            "remote: Enumerating objects: 167, done.\u001b[K\n",
            "remote: Counting objects: 100% (78/78), done.\u001b[K\n",
            "remote: Compressing objects: 100% (67/67), done.\u001b[K\n",
            "remote: Total 167 (delta 34), reused 34 (delta 11), pack-reused 89\u001b[K\n",
            "Receiving objects: 100% (167/167), 14.65 MiB | 14.87 MiB/s, done.\n",
            "Resolving deltas: 100% (71/71), done.\n",
            "/content/SRU-deeplearning-workshop\n"
          ]
        }
      ]
    },
    {
      "cell_type": "code",
      "source": [
        "%matplotlib inline"
      ],
      "metadata": {
        "id": "gNV3GgHSaZDP"
      },
      "execution_count": 2,
      "outputs": []
    },
    {
      "cell_type": "markdown",
      "source": [
        "## Dataset\n",
        "\n",
        "\n",
        "```\n",
        "# for more information read \"19-Intro2ML-HodaDataset.ipynb\"\n",
        "import cv2\n",
        "import numpy as np\n",
        "from scipy import io\n",
        "\n",
        "def load_hoda(training_sample_size=1000, test_sample_size=200, size=5):\n",
        "    #load dataset\n",
        "    trs = training_sample_size\n",
        "    tes = test_sample_size\n",
        "    dataset = io.loadmat('./dataset/Data_hoda_full.mat')\n",
        "\n",
        "    #test and training set\n",
        "    X_train_orginal = np.squeeze(dataset['Data'][:trs])\n",
        "    y_train = np.squeeze(dataset['labels'][:trs])\n",
        "    X_test_original = np.squeeze(dataset['Data'][trs:trs+tes])\n",
        "    y_test = np.squeeze(dataset['labels'][trs:trs+tes])\n",
        "\n",
        "    #resize\n",
        "    X_train_5by5 = [cv2.resize(img, dsize=(size, size)) for img in X_train_orginal]\n",
        "    X_test_5by_5 = [cv2.resize(img, dsize=(size, size)) for img in X_test_original]\n",
        "    #reshape\n",
        "    X_train = np.reshape(X_train_5by5, [-1,size**2])\n",
        "    X_test = np.reshape(X_test_5by_5, [-1,size**2])\n",
        "\n",
        "    return X_train, y_train, X_test, y_test\n",
        "```\n",
        "\n"
      ],
      "metadata": {
        "id": "FfvovtSr2bqx"
      }
    },
    {
      "cell_type": "code",
      "execution_count": 3,
      "metadata": {
        "nbpresent": {
          "id": "de829a92-1fb6-44ad-a2c6-fc1001e1f6e1"
        },
        "id": "dt_ZIX7k2ScZ"
      },
      "outputs": [],
      "source": [
        "# tensorflow v2.x > support NVIDIA\n",
        "import keras\n",
        "from keras.models import Sequential\n",
        "from keras.layers import Dense,  Activation\n",
        "import numpy as np\n",
        "\n",
        "from dataset import load_hoda"
      ]
    },
    {
      "cell_type": "code",
      "execution_count": 4,
      "metadata": {
        "id": "ZJWaJEk52Scf"
      },
      "outputs": [],
      "source": [
        "np.random.seed(123)  # for reproducibility"
      ]
    },
    {
      "cell_type": "code",
      "execution_count": 5,
      "metadata": {
        "id": "wHuRkRil2Scg"
      },
      "outputs": [],
      "source": [
        "x_train_original, y_train_original, x_test_original, y_test_original = load_hoda()\n"
      ]
    },
    {
      "cell_type": "code",
      "source": [
        "'''\n",
        "in keras the input must obey some rules:\n",
        "1. input must be np array not list\n",
        "2. accepts float32 bit not int \n",
        "3. all the inputs are better to be normalized\n",
        "4. labels must be one hotted\n",
        "'''"
      ],
      "metadata": {
        "id": "DEk-wRDFNfNe",
        "outputId": "f7e5d923-b35c-4553-eef3-8dd9d8c988bd",
        "colab": {
          "base_uri": "https://localhost:8080/",
          "height": 82
        }
      },
      "execution_count": 6,
      "outputs": [
        {
          "output_type": "execute_result",
          "data": {
            "text/plain": [
              "'\\nin keras the input must obey some rules:\\n1. input must be np array not list\\n2. accepts float32 bit not int \\n3. all the inputs are better to be normalized\\n4. labels must be one hotted\\n'"
            ],
            "application/vnd.google.colaboratory.intrinsic+json": {
              "type": "string"
            }
          },
          "metadata": {},
          "execution_count": 6
        }
      ]
    },
    {
      "cell_type": "code",
      "source": [
        "x_train_original.shape, y_train_original.shape"
      ],
      "metadata": {
        "id": "L8CZiGks5ksC",
        "outputId": "6d00d430-d90e-430e-cfb4-31e6565ff320",
        "colab": {
          "base_uri": "https://localhost:8080/"
        }
      },
      "execution_count": 7,
      "outputs": [
        {
          "output_type": "execute_result",
          "data": {
            "text/plain": [
              "((1000, 25), (1000,))"
            ]
          },
          "metadata": {},
          "execution_count": 7
        }
      ]
    },
    {
      "cell_type": "code",
      "source": [
        "# for one hotted the numbers\n",
        "# for one hot the strings we use the sklearn > one_hot = pd.get_dummies(df, columns = ['xxx'])\n",
        "keras.utils.to_categorical(y_train_original, num_classes=10)[0]"
      ],
      "metadata": {
        "id": "kRJsngtg52qo",
        "outputId": "300be458-7d19-41d6-89b1-52170a721b37",
        "colab": {
          "base_uri": "https://localhost:8080/"
        }
      },
      "execution_count": 8,
      "outputs": [
        {
          "output_type": "execute_result",
          "data": {
            "text/plain": [
              "array([0., 0., 0., 0., 0., 0., 1., 0., 0., 0.], dtype=float32)"
            ]
          },
          "metadata": {},
          "execution_count": 8
        }
      ]
    },
    {
      "cell_type": "code",
      "source": [
        "keras.utils.to_categorical(y_train_original, num_classes=10).shape"
      ],
      "metadata": {
        "id": "fg-BnH805vWL",
        "outputId": "4be6a441-ace4-4b54-dac7-f3e8fb45014e",
        "colab": {
          "base_uri": "https://localhost:8080/"
        }
      },
      "execution_count": 9,
      "outputs": [
        {
          "output_type": "execute_result",
          "data": {
            "text/plain": [
              "(1000, 10)"
            ]
          },
          "metadata": {},
          "execution_count": 9
        }
      ]
    },
    {
      "cell_type": "code",
      "execution_count": 10,
      "metadata": {
        "id": "lxM0208o2Sci"
      },
      "outputs": [],
      "source": [
        "def print_data_info(x_train, y_train, x_test, y_test):\n",
        "    #Check data Type\n",
        "    print (\"\\ttype(x_train): {}\".format(type(x_train)))\n",
        "    print (\"\\ttype(y_train): {}\".format(type(y_train)))\n",
        "\n",
        "    #check data Shape\n",
        "    print (\"\\tx_train.shape: {}\".format(np.shape(x_train)))\n",
        "    print (\"\\ty_train.shape: {}\".format(np.shape(y_train)))\n",
        "    print (\"\\tx_test.shape: {}\".format(np.shape(x_test)))\n",
        "    print (\"\\ty_test.shape: {}\".format(np.shape(y_test)))\n",
        "\n",
        "    #sample data\n",
        "    print (\"\\ty_train[0]: {}\".format(y_train[0]))"
      ]
    },
    {
      "cell_type": "code",
      "execution_count": 11,
      "metadata": {
        "id": "_qgEKXdu2Sci"
      },
      "outputs": [],
      "source": [
        "# Preprocess input data for Keras. \n",
        "\n",
        "# the np.array make it mutable\n",
        "x_train = np.array(x_train_original)\n",
        "y_train = keras.utils.to_categorical(y_train_original, num_classes=10)\n",
        "x_test = np.array(x_test_original)\n",
        "y_test = keras.utils.to_categorical(y_test_original, num_classes=10)"
      ]
    },
    {
      "cell_type": "code",
      "execution_count": 12,
      "metadata": {
        "id": "SuSrRk1e2Scj",
        "outputId": "e6ab37ad-7320-43c8-ef96-5452c09c6919",
        "colab": {
          "base_uri": "https://localhost:8080/"
        }
      },
      "outputs": [
        {
          "output_type": "stream",
          "name": "stdout",
          "text": [
            "Before Preprocessing:\n",
            "\ttype(x_train): <class 'numpy.ndarray'>\n",
            "\ttype(y_train): <class 'numpy.ndarray'>\n",
            "\tx_train.shape: (1000, 25)\n",
            "\ty_train.shape: (1000,)\n",
            "\tx_test.shape: (200, 25)\n",
            "\ty_test.shape: (200,)\n",
            "\ty_train[0]: 6\n",
            "After Preprocessing:\n",
            "\ttype(x_train): <class 'numpy.ndarray'>\n",
            "\ttype(y_train): <class 'numpy.ndarray'>\n",
            "\tx_train.shape: (1000, 25)\n",
            "\ty_train.shape: (1000, 10)\n",
            "\tx_test.shape: (200, 25)\n",
            "\ty_test.shape: (200, 10)\n",
            "\ty_train[0]: [0. 0. 0. 0. 0. 0. 1. 0. 0. 0.]\n"
          ]
        }
      ],
      "source": [
        "print(\"Before Preprocessing:\")\n",
        "print_data_info(x_train_original, y_train_original, x_test_original, y_test_original)\n",
        "print(\"After Preprocessing:\")\n",
        "print_data_info(x_train, y_train, x_test, y_test)"
      ]
    },
    {
      "cell_type": "code",
      "source": [
        "x_train.dtype, x_train.min(), x_train.max()"
      ],
      "metadata": {
        "id": "3oPNc8Y7M7Mi",
        "outputId": "a50ef3c6-94c5-46f5-99a0-c563fabffd58",
        "colab": {
          "base_uri": "https://localhost:8080/"
        }
      },
      "execution_count": 13,
      "outputs": [
        {
          "output_type": "execute_result",
          "data": {
            "text/plain": [
              "(dtype('uint8'), 0, 255)"
            ]
          },
          "metadata": {},
          "execution_count": 13
        }
      ]
    },
    {
      "cell_type": "code",
      "execution_count": 14,
      "metadata": {
        "id": "hYxf9Jlo2Sck"
      },
      "outputs": [],
      "source": [
        "# for normalization it must be float > we have divisions\n",
        "# 0-255 >> 0-1 >> /255\n",
        "x_train = x_train.astype('float32')\n",
        "x_test = x_test.astype('float32')\n",
        "x_train /= 255\n",
        "x_test /= 255"
      ]
    },
    {
      "cell_type": "code",
      "source": [
        "x_train.min(), x_train.max(), x_train.mean(), x_train.std()"
      ],
      "metadata": {
        "colab": {
          "base_uri": "https://localhost:8080/"
        },
        "id": "0Bu4UnctRE-h",
        "outputId": "26a12985-d091-48c3-8108-f764d9556797"
      },
      "execution_count": 15,
      "outputs": [
        {
          "output_type": "execute_result",
          "data": {
            "text/plain": [
              "(0.0, 1.0, 0.40205175, 0.45745108)"
            ]
          },
          "metadata": {},
          "execution_count": 15
        }
      ]
    },
    {
      "cell_type": "markdown",
      "metadata": {
        "id": "B9eyz4G52Scl"
      },
      "source": [
        "## Model Architecture"
      ]
    },
    {
      "cell_type": "code",
      "execution_count": 16,
      "metadata": {
        "id": "uKFhRSAW2Scl"
      },
      "outputs": [],
      "source": [
        "model = Sequential()\n",
        "# relu is good for hidden layers \n",
        "model.add(Dense(64, activation='relu', input_dim=25))\n",
        "model.add(Dense(10, activation='softmax'))"
      ]
    },
    {
      "cell_type": "code",
      "execution_count": 17,
      "metadata": {
        "id": "b3yjgEK52Scm",
        "outputId": "9b1153fa-dbc3-40c0-ebef-414bdda8d21b",
        "colab": {
          "base_uri": "https://localhost:8080/"
        }
      },
      "outputs": [
        {
          "output_type": "stream",
          "name": "stdout",
          "text": [
            "Model: \"sequential\"\n",
            "_________________________________________________________________\n",
            " Layer (type)                Output Shape              Param #   \n",
            "=================================================================\n",
            " dense (Dense)               (None, 64)                1664      \n",
            "                                                                 \n",
            " dense_1 (Dense)             (None, 10)                650       \n",
            "                                                                 \n",
            "=================================================================\n",
            "Total params: 2,314\n",
            "Trainable params: 2,314\n",
            "Non-trainable params: 0\n",
            "_________________________________________________________________\n"
          ]
        }
      ],
      "source": [
        "model.summary()\n",
        "# 1664 = 25*64 + 1*64(bias) \n",
        "# 650 = 64*10 + 1*10"
      ]
    },
    {
      "cell_type": "markdown",
      "metadata": {
        "id": "PcBoqp2L2Scn"
      },
      "source": [
        "## <div style=\"direction:rtl;text-align:right;font-family:B Lotus, B Nazanin, Tahoma\">Compile model</div>\n"
      ]
    },
    {
      "cell_type": "code",
      "execution_count": 18,
      "metadata": {
        "id": "QZlpt13D2Sco"
      },
      "outputs": [],
      "source": [
        "model.compile(loss='categorical_crossentropy',\n",
        "              optimizer='rmsprop',\n",
        "              metrics=['accuracy'])"
      ]
    },
    {
      "cell_type": "code",
      "execution_count": 19,
      "metadata": {
        "id": "MoKFdxHf2Scr",
        "outputId": "054a2d40-f062-4ab4-e1a9-37549ac58023",
        "colab": {
          "base_uri": "https://localhost:8080/"
        }
      },
      "outputs": [
        {
          "output_type": "stream",
          "name": "stdout",
          "text": [
            "Epoch 1/30\n",
            "13/13 [==============================] - 5s 80ms/step - loss: 2.2439 - accuracy: 0.1500 - val_loss: 2.0676 - val_accuracy: 0.3900\n",
            "Epoch 2/30\n",
            "13/13 [==============================] - 0s 13ms/step - loss: 2.0323 - accuracy: 0.3975 - val_loss: 1.9010 - val_accuracy: 0.5450\n",
            "Epoch 3/30\n",
            "13/13 [==============================] - 0s 10ms/step - loss: 1.8734 - accuracy: 0.5450 - val_loss: 1.7524 - val_accuracy: 0.6200\n",
            "Epoch 4/30\n",
            "13/13 [==============================] - 0s 19ms/step - loss: 1.7258 - accuracy: 0.6225 - val_loss: 1.6123 - val_accuracy: 0.6650\n",
            "Epoch 5/30\n",
            "13/13 [==============================] - 0s 9ms/step - loss: 1.5861 - accuracy: 0.6612 - val_loss: 1.4842 - val_accuracy: 0.6950\n",
            "Epoch 6/30\n",
            "13/13 [==============================] - 0s 10ms/step - loss: 1.4526 - accuracy: 0.6900 - val_loss: 1.3589 - val_accuracy: 0.7300\n",
            "Epoch 7/30\n",
            "13/13 [==============================] - 0s 13ms/step - loss: 1.3283 - accuracy: 0.7100 - val_loss: 1.2469 - val_accuracy: 0.7650\n",
            "Epoch 8/30\n",
            "13/13 [==============================] - 0s 11ms/step - loss: 1.2131 - accuracy: 0.7475 - val_loss: 1.1423 - val_accuracy: 0.8000\n",
            "Epoch 9/30\n",
            "13/13 [==============================] - 0s 9ms/step - loss: 1.1086 - accuracy: 0.7713 - val_loss: 1.0493 - val_accuracy: 0.8050\n",
            "Epoch 10/30\n",
            "13/13 [==============================] - 0s 9ms/step - loss: 1.0133 - accuracy: 0.8062 - val_loss: 0.9645 - val_accuracy: 0.8400\n",
            "Epoch 11/30\n",
            "13/13 [==============================] - 0s 9ms/step - loss: 0.9271 - accuracy: 0.8188 - val_loss: 0.8860 - val_accuracy: 0.8400\n",
            "Epoch 12/30\n",
            "13/13 [==============================] - 0s 9ms/step - loss: 0.8499 - accuracy: 0.8325 - val_loss: 0.8228 - val_accuracy: 0.8600\n",
            "Epoch 13/30\n",
            "13/13 [==============================] - 0s 9ms/step - loss: 0.7811 - accuracy: 0.8500 - val_loss: 0.7613 - val_accuracy: 0.8700\n",
            "Epoch 14/30\n",
            "13/13 [==============================] - 0s 15ms/step - loss: 0.7225 - accuracy: 0.8600 - val_loss: 0.7095 - val_accuracy: 0.8650\n",
            "Epoch 15/30\n",
            "13/13 [==============================] - 0s 10ms/step - loss: 0.6704 - accuracy: 0.8662 - val_loss: 0.6698 - val_accuracy: 0.8650\n",
            "Epoch 16/30\n",
            "13/13 [==============================] - 0s 9ms/step - loss: 0.6265 - accuracy: 0.8813 - val_loss: 0.6261 - val_accuracy: 0.8750\n",
            "Epoch 17/30\n",
            "13/13 [==============================] - 0s 14ms/step - loss: 0.5856 - accuracy: 0.8813 - val_loss: 0.5944 - val_accuracy: 0.8900\n",
            "Epoch 18/30\n",
            "13/13 [==============================] - 0s 14ms/step - loss: 0.5526 - accuracy: 0.8788 - val_loss: 0.5669 - val_accuracy: 0.8850\n",
            "Epoch 19/30\n",
            "13/13 [==============================] - 0s 10ms/step - loss: 0.5213 - accuracy: 0.8825 - val_loss: 0.5433 - val_accuracy: 0.8850\n",
            "Epoch 20/30\n",
            "13/13 [==============================] - 0s 16ms/step - loss: 0.4928 - accuracy: 0.8888 - val_loss: 0.5223 - val_accuracy: 0.8900\n",
            "Epoch 21/30\n",
            "13/13 [==============================] - 0s 16ms/step - loss: 0.4695 - accuracy: 0.8925 - val_loss: 0.5016 - val_accuracy: 0.8900\n",
            "Epoch 22/30\n",
            "13/13 [==============================] - 0s 9ms/step - loss: 0.4487 - accuracy: 0.8888 - val_loss: 0.4858 - val_accuracy: 0.9000\n",
            "Epoch 23/30\n",
            "13/13 [==============================] - 0s 11ms/step - loss: 0.4288 - accuracy: 0.8963 - val_loss: 0.4705 - val_accuracy: 0.9000\n",
            "Epoch 24/30\n",
            "13/13 [==============================] - 0s 9ms/step - loss: 0.4130 - accuracy: 0.8988 - val_loss: 0.4605 - val_accuracy: 0.9000\n",
            "Epoch 25/30\n",
            "13/13 [==============================] - 0s 21ms/step - loss: 0.3973 - accuracy: 0.9025 - val_loss: 0.4450 - val_accuracy: 0.9050\n",
            "Epoch 26/30\n",
            "13/13 [==============================] - 0s 12ms/step - loss: 0.3837 - accuracy: 0.9025 - val_loss: 0.4349 - val_accuracy: 0.9050\n",
            "Epoch 27/30\n",
            "13/13 [==============================] - 0s 11ms/step - loss: 0.3731 - accuracy: 0.9100 - val_loss: 0.4300 - val_accuracy: 0.8950\n",
            "Epoch 28/30\n",
            "13/13 [==============================] - 0s 12ms/step - loss: 0.3612 - accuracy: 0.9100 - val_loss: 0.4221 - val_accuracy: 0.8900\n",
            "Epoch 29/30\n",
            "13/13 [==============================] - 0s 28ms/step - loss: 0.3520 - accuracy: 0.9038 - val_loss: 0.4140 - val_accuracy: 0.9000\n",
            "Epoch 30/30\n",
            "13/13 [==============================] - 0s 22ms/step - loss: 0.3418 - accuracy: 0.9087 - val_loss: 0.4058 - val_accuracy: 0.8950\n"
          ]
        },
        {
          "output_type": "execute_result",
          "data": {
            "text/plain": [
              "<keras.callbacks.History at 0x7ff7ada965b0>"
            ]
          },
          "metadata": {},
          "execution_count": 19
        }
      ],
      "source": [
        "# 3 main splits > train, validation, test\n",
        "# calculate the loss and acc on val data\n",
        "# the weights are updated based on the train dataset\n",
        "model.fit(x_train, y_train,\n",
        "          epochs=30,\n",
        "          batch_size=64, validation_split=0.2)"
      ]
    },
    {
      "cell_type": "markdown",
      "metadata": {
        "id": "NXIui7Tg2Scv"
      },
      "source": [
        "## Model Evaluation"
      ]
    },
    {
      "cell_type": "code",
      "execution_count": 20,
      "metadata": {
        "id": "FfZ1oLTv2Sc1",
        "outputId": "537e2f91-ccbf-4270-faa9-3e573410a724",
        "colab": {
          "base_uri": "https://localhost:8080/"
        }
      },
      "outputs": [
        {
          "output_type": "stream",
          "name": "stdout",
          "text": [
            "7/7 [==============================] - 0s 7ms/step - loss: 0.3542 - accuracy: 0.9050\n",
            "\n",
            "Testing loss: 0.35, acc: 0.90%\n"
          ]
        }
      ],
      "source": [
        "loss, acc = model.evaluate(x_test, y_test)\n",
        "print('\\nTesting loss: %.2f, acc: %.2f%%'%(loss, acc))"
      ]
    },
    {
      "cell_type": "markdown",
      "metadata": {
        "id": "7D7ATjLK2Sc2"
      },
      "source": [
        "## Predicting\n"
      ]
    },
    {
      "cell_type": "code",
      "source": [
        "predicted = model.predict(x_test)\n",
        "predicted"
      ],
      "metadata": {
        "colab": {
          "base_uri": "https://localhost:8080/"
        },
        "id": "z4f-XmAwUuK0",
        "outputId": "3bdf579e-ba44-4b17-dde0-2a139d929833"
      },
      "execution_count": 21,
      "outputs": [
        {
          "output_type": "stream",
          "name": "stdout",
          "text": [
            "7/7 [==============================] - 1s 7ms/step\n"
          ]
        },
        {
          "output_type": "execute_result",
          "data": {
            "text/plain": [
              "array([[4.1746134e-03, 4.5358541e-04, 4.6892371e-03, ..., 9.7812849e-01,\n",
              "        3.5755784e-05, 1.9235865e-04],\n",
              "       [2.5924650e-04, 7.9771539e-04, 5.7213551e-01, ..., 8.1555704e-03,\n",
              "        3.7604579e-04, 2.4831051e-04],\n",
              "       [8.7372502e-03, 1.3054400e-03, 1.5525979e-01, ..., 4.4058803e-02,\n",
              "        8.3057198e-04, 4.5412476e-03],\n",
              "       ...,\n",
              "       [3.0213243e-01, 1.9629098e-02, 1.0389507e-02, ..., 1.8057739e-02,\n",
              "        1.4017181e-02, 4.2701751e-02],\n",
              "       [1.7795555e-04, 2.1509206e-02, 4.2175816e-04, ..., 3.9172368e-04,\n",
              "        2.7911973e-03, 8.4478152e-01],\n",
              "       [2.9148492e-03, 4.9888407e-05, 9.7336178e-06, ..., 1.9202931e-04,\n",
              "        2.1609077e-03, 1.8387589e-05]], dtype=float32)"
            ]
          },
          "metadata": {},
          "execution_count": 21
        }
      ]
    },
    {
      "cell_type": "code",
      "source": [
        "print(predicted.shape)\n",
        "predicted_classes=np.argmax(predicted,axis=1)\n",
        "print(predicted_classes.shape)"
      ],
      "metadata": {
        "colab": {
          "base_uri": "https://localhost:8080/"
        },
        "id": "ugt9vJseY8x-",
        "outputId": "86c70587-1876-46f0-8e58-b88446dc1489"
      },
      "execution_count": 22,
      "outputs": [
        {
          "output_type": "stream",
          "name": "stdout",
          "text": [
            "(200, 10)\n",
            "(200,)\n"
          ]
        }
      ]
    },
    {
      "cell_type": "code",
      "execution_count": 23,
      "metadata": {
        "id": "ORsGWqak2Sc3",
        "outputId": "422a8485-95ce-4f6f-c851-cc404a0f3510",
        "colab": {
          "base_uri": "https://localhost:8080/"
        }
      },
      "outputs": [
        {
          "output_type": "stream",
          "name": "stdout",
          "text": [
            "predicted:\n",
            "[7 2 3 8 5 5 4 7 3 2 0 8 8 0 2 9 3 6 7 4 0 3 6 3 9 2 7 5 2 9 2 5 5 8 9 2 5\n",
            " 1 4 8 8 4 7 2 1 2 7 9 0 3 7 5 7 5 7 9 8 2 9 8 8 6 6 6 7 6 2 4 6 4 1 5 9 1\n",
            " 8 4 0 5 6 2 4 3 2 7 7 7 7 1 8 1 7 8 7 7 8 9 7 2 3 1 0 2 9 6 3 5 5 0 0 9 6\n",
            " 7 9 3 9 9 8 7 9 2 5 2 5 5 9 6 9 2 0 3 7 9 5 2 9 0 4 1 8 2 2 3 5 2 9 3 8 2\n",
            " 7 0 9 9 0 7 6 2 4 0 9 3 7 0 7 1 9 4 7 3 4 1 5 2 7 9 1 3 5 4 5 7 4 1 3 3 1\n",
            " 1 3 3 8 9 6 7 7 2 3 0 1 4 9 5]\n",
            "True Label:\n",
            "[7 2 3 1 5 5 4 7 3 2 0 8 8 0 2 9 3 6 7 4 0 3 6 3 9 2 7 5 2 9 7 5 5 8 9 6 5\n",
            " 1 4 8 8 4 7 7 1 2 7 9 0 3 7 4 7 5 2 9 8 2 9 8 8 6 6 6 6 6 2 4 3 4 4 5 9 1\n",
            " 8 2 0 5 6 2 4 3 2 7 7 7 7 1 8 1 7 8 7 7 8 9 3 2 3 1 0 2 9 6 3 5 5 0 0 3 6\n",
            " 7 9 3 9 9 8 7 9 2 5 2 5 5 9 6 9 2 0 3 7 6 5 2 9 0 4 1 8 2 2 3 0 2 9 3 8 6\n",
            " 7 0 9 9 0 7 6 5 4 7 9 3 7 0 7 1 9 4 7 3 4 1 5 6 7 9 1 3 5 4 5 7 4 1 3 3 1\n",
            " 2 3 3 8 9 6 7 7 2 3 0 1 4 9 5]\n"
          ]
        }
      ],
      "source": [
        "print(\"predicted:\")\n",
        "print(predicted_classes)\n",
        "print(\"True Label:\")\n",
        "print(y_test_original)"
      ]
    },
    {
      "cell_type": "code",
      "source": [
        "from sklearn.metrics import confusion_matrix\n",
        "import matplotlib.pyplot as plt\n",
        "\n",
        "cm = confusion_matrix(y_test_original, predicted_classes)\n",
        "\n",
        "# plt.matshow(cm) / plt.imshow(cm)\n",
        "plt.matshow(cm)"
      ],
      "metadata": {
        "colab": {
          "base_uri": "https://localhost:8080/",
          "height": 459
        },
        "id": "RPGf6U5eZVsS",
        "outputId": "2bd179cc-a1d9-4b46-b5be-0ecc0e6b75f9"
      },
      "execution_count": 24,
      "outputs": [
        {
          "output_type": "execute_result",
          "data": {
            "text/plain": [
              "<matplotlib.image.AxesImage at 0x7ff799b69130>"
            ]
          },
          "metadata": {},
          "execution_count": 24
        },
        {
          "output_type": "display_data",
          "data": {
            "text/plain": [
              "<Figure size 480x480 with 1 Axes>"
            ],
            "image/png": "[encoded data removed]"
          },
          "metadata": {}
        }
      ]
    },
    {
      "cell_type": "code",
      "source": [
        "# matplotlib doesn't have heatmap and instead it has imshow\n",
        "! pip install --quiet seaborn\n",
        "import seaborn as sns\n",
        "\n",
        "sns.heatmap(cm)"
      ],
      "metadata": {
        "colab": {
          "base_uri": "https://localhost:8080/",
          "height": 452
        },
        "id": "luTCLEtKaRsV",
        "outputId": "4a6b0a64-c7fd-4188-d37d-050037d8ef57"
      },
      "execution_count": 25,
      "outputs": [
        {
          "output_type": "execute_result",
          "data": {
            "text/plain": [
              "<Axes: >"
            ]
          },
          "metadata": {},
          "execution_count": 25
        },
        {
          "output_type": "display_data",
          "data": {
            "text/plain": [
              "<Figure size 640x480 with 2 Axes>"
            ],
            "image/png": "[encoded data removed]"
          },
          "metadata": {}
        }
      ]
    },
    {
      "cell_type": "code",
      "source": [
        "sns.set(font_scale=1.1) # for label size\n",
        "sns.heatmap(cm, annot=True, annot_kws={\"size\": 11}) # font size"
      ],
      "metadata": {
        "colab": {
          "base_uri": "https://localhost:8080/",
          "height": 459
        },
        "id": "Hmu17fwGbRE6",
        "outputId": "3b476754-400b-4bc6-c594-8705f443f13a"
      },
      "execution_count": 26,
      "outputs": [
        {
          "output_type": "execute_result",
          "data": {
            "text/plain": [
              "<Axes: >"
            ]
          },
          "metadata": {},
          "execution_count": 26
        },
        {
          "output_type": "display_data",
          "data": {
            "text/plain": [
              "<Figure size 640x480 with 2 Axes>"
            ],
            "image/png": "[encoded data removed]"
          },
          "metadata": {}
        }
      ]
    },
    {
      "cell_type": "markdown",
      "metadata": {
        "id": "J6fMj5op2SdE"
      },
      "source": [
        "## Complete Code"
      ]
    },
    {
      "cell_type": "code",
      "execution_count": 27,
      "metadata": {
        "id": "X_K5QNBo2SdG",
        "outputId": "6f9fb97d-4b1f-44df-b911-496f90537e24",
        "colab": {
          "base_uri": "https://localhost:8080/"
        }
      },
      "outputs": [
        {
          "output_type": "stream",
          "name": "stdout",
          "text": [
            "Epoch 1/30\n",
            "16/16 [==============================] - 1s 4ms/step - loss: 2.1420 - accuracy: 0.2810\n",
            "Epoch 2/30\n",
            "16/16 [==============================] - 0s 4ms/step - loss: 1.9028 - accuracy: 0.4690\n",
            "Epoch 3/30\n",
            "16/16 [==============================] - 0s 5ms/step - loss: 1.7003 - accuracy: 0.5950\n",
            "Epoch 4/30\n",
            "16/16 [==============================] - 0s 4ms/step - loss: 1.5065 - accuracy: 0.6720\n",
            "Epoch 5/30\n",
            "16/16 [==============================] - 0s 5ms/step - loss: 1.3233 - accuracy: 0.7490\n",
            "Epoch 6/30\n",
            "16/16 [==============================] - 0s 3ms/step - loss: 1.1602 - accuracy: 0.7740\n",
            "Epoch 7/30\n",
            "16/16 [==============================] - 0s 3ms/step - loss: 1.0240 - accuracy: 0.8070\n",
            "Epoch 8/30\n",
            "16/16 [==============================] - 0s 3ms/step - loss: 0.9078 - accuracy: 0.8270\n",
            "Epoch 9/30\n",
            "16/16 [==============================] - 0s 6ms/step - loss: 0.8123 - accuracy: 0.8440\n",
            "Epoch 10/30\n",
            "16/16 [==============================] - 0s 5ms/step - loss: 0.7313 - accuracy: 0.8490\n",
            "Epoch 11/30\n",
            "16/16 [==============================] - 0s 4ms/step - loss: 0.6652 - accuracy: 0.8610\n",
            "Epoch 12/30\n",
            "16/16 [==============================] - 0s 3ms/step - loss: 0.6089 - accuracy: 0.8640\n",
            "Epoch 13/30\n",
            "16/16 [==============================] - 0s 3ms/step - loss: 0.5639 - accuracy: 0.8730\n",
            "Epoch 14/30\n",
            "16/16 [==============================] - 0s 3ms/step - loss: 0.5264 - accuracy: 0.8690\n",
            "Epoch 15/30\n",
            "16/16 [==============================] - 0s 5ms/step - loss: 0.4945 - accuracy: 0.8840\n",
            "Epoch 16/30\n",
            "16/16 [==============================] - 0s 4ms/step - loss: 0.4669 - accuracy: 0.8870\n",
            "Epoch 17/30\n",
            "16/16 [==============================] - 0s 4ms/step - loss: 0.4425 - accuracy: 0.8880\n",
            "Epoch 18/30\n",
            "16/16 [==============================] - 0s 4ms/step - loss: 0.4224 - accuracy: 0.8880\n",
            "Epoch 19/30\n",
            "16/16 [==============================] - 0s 4ms/step - loss: 0.4046 - accuracy: 0.8930\n",
            "Epoch 20/30\n",
            "16/16 [==============================] - 0s 3ms/step - loss: 0.3895 - accuracy: 0.8910\n",
            "Epoch 21/30\n",
            "16/16 [==============================] - 0s 4ms/step - loss: 0.3746 - accuracy: 0.8930\n",
            "Epoch 22/30\n",
            "16/16 [==============================] - 0s 4ms/step - loss: 0.3618 - accuracy: 0.8960\n",
            "Epoch 23/30\n",
            "16/16 [==============================] - 0s 3ms/step - loss: 0.3517 - accuracy: 0.8980\n",
            "Epoch 24/30\n",
            "16/16 [==============================] - 0s 7ms/step - loss: 0.3401 - accuracy: 0.9010\n",
            "Epoch 25/30\n",
            "16/16 [==============================] - 0s 8ms/step - loss: 0.3311 - accuracy: 0.9030\n",
            "Epoch 26/30\n",
            "16/16 [==============================] - 0s 6ms/step - loss: 0.3217 - accuracy: 0.9100\n",
            "Epoch 27/30\n",
            "16/16 [==============================] - 0s 6ms/step - loss: 0.3145 - accuracy: 0.9100\n",
            "Epoch 28/30\n",
            "16/16 [==============================] - 0s 8ms/step - loss: 0.3065 - accuracy: 0.9110\n",
            "Epoch 29/30\n",
            "16/16 [==============================] - 0s 12ms/step - loss: 0.3003 - accuracy: 0.9120\n",
            "Epoch 30/30\n",
            "16/16 [==============================] - 0s 6ms/step - loss: 0.2937 - accuracy: 0.9100\n",
            "7/7 [==============================] - 0s 4ms/step - loss: 0.3214 - accuracy: 0.9100\n",
            "\n",
            "Testing loss: 0.32, acc: 0.91%\n"
          ]
        }
      ],
      "source": [
        "# 1. Import libraries and modules\n",
        "import keras\n",
        "from keras.models import Sequential\n",
        "from keras.layers import Dense, Dropout, Activation\n",
        "import numpy as np\n",
        "from dataset import load_hoda\n",
        "\n",
        "np.random.seed(123)  # for reproducibility\n",
        "\n",
        "# 2. Load pre-shuffled HODA data into train and test sets\n",
        "x_train_original, y_train_original, x_test_original, y_test_original = load_hoda()\n",
        "\n",
        "# 3. Preprocess input data\n",
        "''' 3.1: input data in numpy array format'''\n",
        "x_train = np.array(x_train_original)\n",
        "x_test = np.array(x_test_original)\n",
        "'''3.2 normalize our data values to the range [0, 1]'''\n",
        "x_train = x_train.astype('float32')\n",
        "x_test = x_test.astype('float32')\n",
        "x_train /= 255\n",
        "x_test /= 255\n",
        "\n",
        "# 4. Preprocess class labels\n",
        "y_train = keras.utils.to_categorical(y_train_original, num_classes=10)\n",
        "y_test = keras.utils.to_categorical(y_test_original, num_classes=10)\n",
        "\n",
        "# 5. Define model architecture\n",
        "model = Sequential()\n",
        "model.add(Dense(64, activation='relu', input_dim=25))\n",
        "model.add(Dense(10, activation='softmax'))\n",
        "\n",
        "# 6. Compile model\n",
        "model.compile(loss='categorical_crossentropy',\n",
        "              optimizer='rmsprop',\n",
        "              metrics=['accuracy'])\n",
        "\n",
        "# 7. Fit model on training data\n",
        "model.fit(x_train, y_train,\n",
        "          epochs=30,\n",
        "          batch_size=64)\n",
        "\n",
        "# 8. Evaluate model on test data\n",
        "loss, acc = model.evaluate(x_test, y_test)\n",
        "print('\\nTesting loss: %.2f, acc: %.2f%%'%(loss, acc))"
      ]
    },
    {
      "cell_type": "code",
      "source": [],
      "metadata": {
        "id": "yD1EZJG5adEj"
      },
      "execution_count": 27,
      "outputs": []
    }
  ],
  "metadata": {
    "anaconda-cloud": {},
    "kernelspec": {
      "display_name": "Python 3",
      "name": "python3"
    },
    "language_info": {
      "name": "python"
    },
    "nbpresent": {
      "slides": {
        "300ee14f-a043-486e-b274-7ff253907cd7": {
          "id": "300ee14f-a043-486e-b274-7ff253907cd7",
          "prev": "cb74e0bc-4513-4d13-b7f1-14c3078a7927",
          "regions": {
            "26dc3f39-a230-447c-af4c-f5e5b2fb7835": {
              "attrs": {
                "height": 0.8,
                "width": 0.8,
                "x": 0.1,
                "y": 0.1
              },
              "content": {
                "cell": "c58440a5-3f8f-4f37-9c79-6bf766209406",
                "part": "whole"
              },
              "id": "26dc3f39-a230-447c-af4c-f5e5b2fb7835"
            }
          }
        },
        "878aa53a-1444-4100-8f50-7a408191c579": {
          "id": "878aa53a-1444-4100-8f50-7a408191c579",
          "prev": null,
          "regions": {
            "a6c6843a-5ea6-4fbc-b890-3b4b8ae475b3": {
              "attrs": {
                "height": 0.8,
                "width": 0.8,
                "x": 0.1,
                "y": 0.1
              },
              "content": {
                "cell": "588ee1fa-64b5-453b-ade7-8e6b2515821c",
                "part": "whole"
              },
              "id": "a6c6843a-5ea6-4fbc-b890-3b4b8ae475b3"
            }
          }
        },
        "96ffe88e-7b50-43de-afdd-942e564f4e3e": {
          "id": "96ffe88e-7b50-43de-afdd-942e564f4e3e",
          "prev": "878aa53a-1444-4100-8f50-7a408191c579",
          "regions": {
            "b7e52e12-489a-468d-b10c-af2024fd2856": {
              "attrs": {
                "height": 0.8,
                "width": 0.8,
                "x": 0.1,
                "y": 0.1
              },
              "content": {
                "cell": "de829a92-1fb6-44ad-a2c6-fc1001e1f6e1",
                "part": "whole"
              },
              "id": "b7e52e12-489a-468d-b10c-af2024fd2856"
            }
          }
        },
        "cb74e0bc-4513-4d13-b7f1-14c3078a7927": {
          "id": "cb74e0bc-4513-4d13-b7f1-14c3078a7927",
          "prev": "96ffe88e-7b50-43de-afdd-942e564f4e3e",
          "regions": {
            "444878ee-68f3-4abb-acff-a7079b21e86d": {
              "attrs": {
                "height": 0.8,
                "width": 0.8,
                "x": 0.1,
                "y": 0.1
              },
              "content": {
                "cell": "25f3f538-1ee8-4d98-a6bb-14cbeb7a702d",
                "part": "whole"
              },
              "id": "444878ee-68f3-4abb-acff-a7079b21e86d"
            }
          }
        }
      },
      "themes": {}
    },
    "colab": {
      "provenance": [],
      "include_colab_link": true
    },
    "gpuClass": "standard"
  },
  "nbformat": 4,
  "nbformat_minor": 0
}