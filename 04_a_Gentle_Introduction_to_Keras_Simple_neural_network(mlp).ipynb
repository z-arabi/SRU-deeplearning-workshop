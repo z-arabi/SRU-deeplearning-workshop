{
  "cells": [
    {
      "cell_type": "markdown",
      "metadata": {
        "id": "view-in-github",
        "colab_type": "text"
      },
      "source": [
        "<a href=\"https://colab.research.google.com/github/z-arabi/SRU-deeplearning-workshop/blob/master/04_a_Gentle_Introduction_to_Keras_Simple_neural_network(mlp).ipynb\" target=\"_parent\"><img src=\"https://colab.research.google.com/assets/colab-badge.svg\" alt=\"Open In Colab\"/></a>"
      ]
    },
    {
      "cell_type": "code",
      "source": [
        "! git clone https://github.com/z-arabi/SRU-deeplearning-workshop\n",
        "%cd SRU-deeplearning-workshop"
      ],
      "metadata": {
        "id": "vJLnjkCs2TUI",
        "outputId": "1a580bd2-278d-4cad-8390-51cdf82f7063",
        "colab": {
          "base_uri": "https://localhost:8080/"
        }
      },
      "execution_count": 1,
      "outputs": [
        {
          "output_type": "stream",
          "name": "stdout",
          "text": [
            "fatal: destination path 'SRU-deeplearning-workshop' already exists and is not an empty directory.\n",
            "/content/SRU-deeplearning-workshop\n"
          ]
        }
      ]
    },
    {
      "cell_type": "code",
      "source": [
        "from IPython.display import Image\n",
        "\n",
        "def show_plot(name):\n",
        "  plt.savefig(name, bbox_inches='tight', pad_inches = 0)\n",
        "  Image(filename=name)"
      ],
      "metadata": {
        "id": "gNV3GgHSaZDP"
      },
      "execution_count": 2,
      "outputs": []
    },
    {
      "cell_type": "markdown",
      "source": [
        "## Dataset\n",
        "\n",
        "\n",
        "```\n",
        "# for more information read \"19-Intro2ML-HodaDataset.ipynb\"\n",
        "import cv2\n",
        "import numpy as np\n",
        "from scipy import io\n",
        "\n",
        "def load_hoda(training_sample_size=1000, test_sample_size=200, size=5):\n",
        "    #load dataset\n",
        "    trs = training_sample_size\n",
        "    tes = test_sample_size\n",
        "    dataset = io.loadmat('./dataset/Data_hoda_full.mat')\n",
        "\n",
        "    #test and training set\n",
        "    X_train_orginal = np.squeeze(dataset['Data'][:trs])\n",
        "    y_train = np.squeeze(dataset['labels'][:trs])\n",
        "    X_test_original = np.squeeze(dataset['Data'][trs:trs+tes])\n",
        "    y_test = np.squeeze(dataset['labels'][trs:trs+tes])\n",
        "\n",
        "    #resize\n",
        "    X_train_5by5 = [cv2.resize(img, dsize=(size, size)) for img in X_train_orginal]\n",
        "    X_test_5by_5 = [cv2.resize(img, dsize=(size, size)) for img in X_test_original]\n",
        "    #reshape\n",
        "    X_train = np.reshape(X_train_5by5, [-1,size**2])\n",
        "    X_test = np.reshape(X_test_5by_5, [-1,size**2])\n",
        "\n",
        "    return X_train, y_train, X_test, y_test\n",
        "```\n",
        "\n"
      ],
      "metadata": {
        "id": "FfvovtSr2bqx"
      }
    },
    {
      "cell_type": "code",
      "execution_count": 3,
      "metadata": {
        "nbpresent": {
          "id": "de829a92-1fb6-44ad-a2c6-fc1001e1f6e1"
        },
        "id": "dt_ZIX7k2ScZ"
      },
      "outputs": [],
      "source": [
        "# tensorflow v2.x > support NVIDIA\n",
        "import keras\n",
        "from keras.models import Sequential\n",
        "from keras.layers import Dense,  Activation\n",
        "import numpy as np\n",
        "\n",
        "from dataset import load_hoda"
      ]
    },
    {
      "cell_type": "code",
      "execution_count": 4,
      "metadata": {
        "id": "ZJWaJEk52Scf"
      },
      "outputs": [],
      "source": [
        "np.random.seed(123)  # for reproducibility"
      ]
    },
    {
      "cell_type": "code",
      "execution_count": 5,
      "metadata": {
        "id": "wHuRkRil2Scg"
      },
      "outputs": [],
      "source": [
        "x_train_original, y_train_original, x_test_original, y_test_original = load_hoda()\n"
      ]
    },
    {
      "cell_type": "code",
      "source": [
        "'''\n",
        "in keras the input must obey some rules:\n",
        "1. input must be np array not list\n",
        "2. accepts float32 bit not int \n",
        "3. all the inputs are better to be normalized\n",
        "4. labels must be one hotted\n",
        "'''"
      ],
      "metadata": {
        "id": "DEk-wRDFNfNe",
        "outputId": "6afc6e20-068c-44ac-94ad-eb82f991909e",
        "colab": {
          "base_uri": "https://localhost:8080/",
          "height": 60
        }
      },
      "execution_count": 6,
      "outputs": [
        {
          "output_type": "execute_result",
          "data": {
            "text/plain": [
              "'\\nin keras the input must obey some rules:\\n1. input must be np array not list\\n2. accepts float32 bit not int \\n3. all the inputs are better to be normalized\\n4. labels must be one hotted\\n'"
            ],
            "application/vnd.google.colaboratory.intrinsic+json": {
              "type": "string"
            }
          },
          "metadata": {},
          "execution_count": 6
        }
      ]
    },
    {
      "cell_type": "code",
      "source": [
        "x_train_original.shape, y_train_original.shape"
      ],
      "metadata": {
        "id": "L8CZiGks5ksC",
        "outputId": "dda05308-faab-4223-88bf-6e5543687ca6",
        "colab": {
          "base_uri": "https://localhost:8080/"
        }
      },
      "execution_count": 7,
      "outputs": [
        {
          "output_type": "execute_result",
          "data": {
            "text/plain": [
              "((1000, 25), (1000,))"
            ]
          },
          "metadata": {},
          "execution_count": 7
        }
      ]
    },
    {
      "cell_type": "code",
      "source": [
        "# for one hotted the numbers\n",
        "# for one hot the strings we use the sklearn > one_hot = pd.get_dummies(df, columns = ['xxx'])\n",
        "keras.utils.to_categorical(y_train_original, num_classes=10)[0]"
      ],
      "metadata": {
        "id": "kRJsngtg52qo",
        "outputId": "39f352b9-f5cb-4e35-8325-a050be6e1e3b",
        "colab": {
          "base_uri": "https://localhost:8080/"
        }
      },
      "execution_count": 8,
      "outputs": [
        {
          "output_type": "execute_result",
          "data": {
            "text/plain": [
              "array([0., 0., 0., 0., 0., 0., 1., 0., 0., 0.], dtype=float32)"
            ]
          },
          "metadata": {},
          "execution_count": 8
        }
      ]
    },
    {
      "cell_type": "code",
      "source": [
        "keras.utils.to_categorical(y_train_original, num_classes=10).shape"
      ],
      "metadata": {
        "id": "fg-BnH805vWL",
        "outputId": "921dd0f9-310a-4872-97d7-f50509a6c7cc",
        "colab": {
          "base_uri": "https://localhost:8080/"
        }
      },
      "execution_count": 9,
      "outputs": [
        {
          "output_type": "execute_result",
          "data": {
            "text/plain": [
              "(1000, 10)"
            ]
          },
          "metadata": {},
          "execution_count": 9
        }
      ]
    },
    {
      "cell_type": "code",
      "execution_count": 10,
      "metadata": {
        "id": "lxM0208o2Sci"
      },
      "outputs": [],
      "source": [
        "def print_data_info(x_train, y_train, x_test, y_test):\n",
        "    #Check data Type\n",
        "    print (\"\\ttype(x_train): {}\".format(type(x_train)))\n",
        "    print (\"\\ttype(y_train): {}\".format(type(y_train)))\n",
        "\n",
        "    #check data Shape\n",
        "    print (\"\\tx_train.shape: {}\".format(np.shape(x_train)))\n",
        "    print (\"\\ty_train.shape: {}\".format(np.shape(y_train)))\n",
        "    print (\"\\tx_test.shape: {}\".format(np.shape(x_test)))\n",
        "    print (\"\\ty_test.shape: {}\".format(np.shape(y_test)))\n",
        "\n",
        "    #sample data\n",
        "    print (\"\\ty_train[0]: {}\".format(y_train[0]))"
      ]
    },
    {
      "cell_type": "code",
      "execution_count": 11,
      "metadata": {
        "id": "_qgEKXdu2Sci"
      },
      "outputs": [],
      "source": [
        "# Preprocess input data for Keras. \n",
        "\n",
        "# the np.array make it mutable\n",
        "x_train = np.array(x_train_original)\n",
        "y_train = keras.utils.to_categorical(y_train_original, num_classes=10)\n",
        "x_test = np.array(x_test_original)\n",
        "y_test = keras.utils.to_categorical(y_test_original, num_classes=10)"
      ]
    },
    {
      "cell_type": "code",
      "execution_count": 12,
      "metadata": {
        "id": "SuSrRk1e2Scj",
        "outputId": "6ec4cc12-1228-4486-f480-7a23062812d0",
        "colab": {
          "base_uri": "https://localhost:8080/"
        }
      },
      "outputs": [
        {
          "output_type": "stream",
          "name": "stdout",
          "text": [
            "Before Preprocessing:\n",
            "\ttype(x_train): <class 'numpy.ndarray'>\n",
            "\ttype(y_train): <class 'numpy.ndarray'>\n",
            "\tx_train.shape: (1000, 25)\n",
            "\ty_train.shape: (1000,)\n",
            "\tx_test.shape: (200, 25)\n",
            "\ty_test.shape: (200,)\n",
            "\ty_train[0]: 6\n",
            "After Preprocessing:\n",
            "\ttype(x_train): <class 'numpy.ndarray'>\n",
            "\ttype(y_train): <class 'numpy.ndarray'>\n",
            "\tx_train.shape: (1000, 25)\n",
            "\ty_train.shape: (1000, 10)\n",
            "\tx_test.shape: (200, 25)\n",
            "\ty_test.shape: (200, 10)\n",
            "\ty_train[0]: [0. 0. 0. 0. 0. 0. 1. 0. 0. 0.]\n"
          ]
        }
      ],
      "source": [
        "print(\"Before Preprocessing:\")\n",
        "print_data_info(x_train_original, y_train_original, x_test_original, y_test_original)\n",
        "print(\"After Preprocessing:\")\n",
        "print_data_info(x_train, y_train, x_test, y_test)"
      ]
    },
    {
      "cell_type": "code",
      "source": [
        "x_train.dtype, x_train.min(), x_train.max()"
      ],
      "metadata": {
        "id": "3oPNc8Y7M7Mi",
        "outputId": "dccc32d3-ca1b-45f3-c095-feb784c07849",
        "colab": {
          "base_uri": "https://localhost:8080/"
        }
      },
      "execution_count": 13,
      "outputs": [
        {
          "output_type": "execute_result",
          "data": {
            "text/plain": [
              "(dtype('uint8'), 0, 255)"
            ]
          },
          "metadata": {},
          "execution_count": 13
        }
      ]
    },
    {
      "cell_type": "code",
      "execution_count": 14,
      "metadata": {
        "id": "hYxf9Jlo2Sck"
      },
      "outputs": [],
      "source": [
        "# for normalization it must be float > we have divisions\n",
        "# 0-255 >> 0-1 >> /255\n",
        "x_train = x_train.astype('float32')\n",
        "x_test = x_test.astype('float32')\n",
        "x_train /= 255\n",
        "x_test /= 255"
      ]
    },
    {
      "cell_type": "code",
      "source": [
        "x_train.min(), x_train.max(), x_train.mean(), x_train.std()"
      ],
      "metadata": {
        "colab": {
          "base_uri": "https://localhost:8080/"
        },
        "id": "0Bu4UnctRE-h",
        "outputId": "22a29d10-913f-426d-c96d-5b446a9bbf57"
      },
      "execution_count": 15,
      "outputs": [
        {
          "output_type": "execute_result",
          "data": {
            "text/plain": [
              "(0.0, 1.0, 0.40205175, 0.45745108)"
            ]
          },
          "metadata": {},
          "execution_count": 15
        }
      ]
    },
    {
      "cell_type": "markdown",
      "metadata": {
        "id": "B9eyz4G52Scl"
      },
      "source": [
        "## Model Architecture"
      ]
    },
    {
      "cell_type": "code",
      "execution_count": 16,
      "metadata": {
        "id": "uKFhRSAW2Scl"
      },
      "outputs": [],
      "source": [
        "model = Sequential()\n",
        "# relu is good for hidden layers \n",
        "model.add(Dense(64, activation='relu', input_dim=25))\n",
        "model.add(Dense(10, activation='softmax'))"
      ]
    },
    {
      "cell_type": "code",
      "execution_count": 17,
      "metadata": {
        "id": "b3yjgEK52Scm",
        "outputId": "f14b06ca-d8f3-48c7-cf78-f5711b69fa63",
        "colab": {
          "base_uri": "https://localhost:8080/"
        }
      },
      "outputs": [
        {
          "output_type": "stream",
          "name": "stdout",
          "text": [
            "Model: \"sequential\"\n",
            "_________________________________________________________________\n",
            " Layer (type)                Output Shape              Param #   \n",
            "=================================================================\n",
            " dense (Dense)               (None, 64)                1664      \n",
            "                                                                 \n",
            " dense_1 (Dense)             (None, 10)                650       \n",
            "                                                                 \n",
            "=================================================================\n",
            "Total params: 2,314\n",
            "Trainable params: 2,314\n",
            "Non-trainable params: 0\n",
            "_________________________________________________________________\n"
          ]
        }
      ],
      "source": [
        "model.summary()\n",
        "# 1664 = 25*64 + 1*64(bias) \n",
        "# 650 = 64*10 + 1*10"
      ]
    },
    {
      "cell_type": "markdown",
      "metadata": {
        "id": "PcBoqp2L2Scn"
      },
      "source": [
        "## <div style=\"direction:rtl;text-align:right;font-family:B Lotus, B Nazanin, Tahoma\">Compile model</div>\n"
      ]
    },
    {
      "cell_type": "code",
      "execution_count": 18,
      "metadata": {
        "id": "QZlpt13D2Sco"
      },
      "outputs": [],
      "source": [
        "model.compile(loss='categorical_crossentropy',\n",
        "              optimizer='rmsprop',\n",
        "              metrics=['accuracy'])"
      ]
    },
    {
      "cell_type": "code",
      "execution_count": 19,
      "metadata": {
        "id": "MoKFdxHf2Scr",
        "outputId": "678c76f6-2feb-4eb1-8305-6d27f764c34c",
        "colab": {
          "base_uri": "https://localhost:8080/"
        }
      },
      "outputs": [
        {
          "output_type": "stream",
          "name": "stdout",
          "text": [
            "Epoch 1/30\n",
            "13/13 [==============================] - 1s 25ms/step - loss: 2.2745 - accuracy: 0.1600 - val_loss: 2.0967 - val_accuracy: 0.3000\n",
            "Epoch 2/30\n",
            "13/13 [==============================] - 0s 5ms/step - loss: 2.0593 - accuracy: 0.3388 - val_loss: 1.9224 - val_accuracy: 0.5250\n",
            "Epoch 3/30\n",
            "13/13 [==============================] - 0s 5ms/step - loss: 1.8887 - accuracy: 0.5638 - val_loss: 1.7644 - val_accuracy: 0.6500\n",
            "Epoch 4/30\n",
            "13/13 [==============================] - 0s 6ms/step - loss: 1.7296 - accuracy: 0.6725 - val_loss: 1.6141 - val_accuracy: 0.6950\n",
            "Epoch 5/30\n",
            "13/13 [==============================] - 0s 5ms/step - loss: 1.5764 - accuracy: 0.7200 - val_loss: 1.4685 - val_accuracy: 0.7350\n",
            "Epoch 6/30\n",
            "13/13 [==============================] - 0s 5ms/step - loss: 1.4325 - accuracy: 0.7638 - val_loss: 1.3394 - val_accuracy: 0.7650\n",
            "Epoch 7/30\n",
            "13/13 [==============================] - 0s 6ms/step - loss: 1.2993 - accuracy: 0.7738 - val_loss: 1.2125 - val_accuracy: 0.8000\n",
            "Epoch 8/30\n",
            "13/13 [==============================] - 0s 6ms/step - loss: 1.1759 - accuracy: 0.7912 - val_loss: 1.0988 - val_accuracy: 0.8200\n",
            "Epoch 9/30\n",
            "13/13 [==============================] - 0s 5ms/step - loss: 1.0632 - accuracy: 0.8112 - val_loss: 0.9981 - val_accuracy: 0.8350\n",
            "Epoch 10/30\n",
            "13/13 [==============================] - 0s 5ms/step - loss: 0.9663 - accuracy: 0.8250 - val_loss: 0.9091 - val_accuracy: 0.8350\n",
            "Epoch 11/30\n",
            "13/13 [==============================] - 0s 6ms/step - loss: 0.8805 - accuracy: 0.8363 - val_loss: 0.8318 - val_accuracy: 0.8450\n",
            "Epoch 12/30\n",
            "13/13 [==============================] - 0s 6ms/step - loss: 0.8063 - accuracy: 0.8388 - val_loss: 0.7622 - val_accuracy: 0.8400\n",
            "Epoch 13/30\n",
            "13/13 [==============================] - 0s 6ms/step - loss: 0.7404 - accuracy: 0.8438 - val_loss: 0.7089 - val_accuracy: 0.8550\n",
            "Epoch 14/30\n",
            "13/13 [==============================] - 0s 8ms/step - loss: 0.6846 - accuracy: 0.8512 - val_loss: 0.6599 - val_accuracy: 0.8500\n",
            "Epoch 15/30\n",
            "13/13 [==============================] - 0s 8ms/step - loss: 0.6364 - accuracy: 0.8662 - val_loss: 0.6223 - val_accuracy: 0.8500\n",
            "Epoch 16/30\n",
            "13/13 [==============================] - 0s 11ms/step - loss: 0.5952 - accuracy: 0.8625 - val_loss: 0.5846 - val_accuracy: 0.8600\n",
            "Epoch 17/30\n",
            "13/13 [==============================] - 0s 19ms/step - loss: 0.5602 - accuracy: 0.8712 - val_loss: 0.5574 - val_accuracy: 0.8600\n",
            "Epoch 18/30\n",
            "13/13 [==============================] - 0s 16ms/step - loss: 0.5288 - accuracy: 0.8712 - val_loss: 0.5299 - val_accuracy: 0.8650\n",
            "Epoch 19/30\n",
            "13/13 [==============================] - 0s 17ms/step - loss: 0.5015 - accuracy: 0.8737 - val_loss: 0.5081 - val_accuracy: 0.8750\n",
            "Epoch 20/30\n",
            "13/13 [==============================] - 0s 21ms/step - loss: 0.4774 - accuracy: 0.8875 - val_loss: 0.4921 - val_accuracy: 0.8750\n",
            "Epoch 21/30\n",
            "13/13 [==============================] - 0s 28ms/step - loss: 0.4571 - accuracy: 0.8875 - val_loss: 0.4738 - val_accuracy: 0.8700\n",
            "Epoch 22/30\n",
            "13/13 [==============================] - 0s 22ms/step - loss: 0.4373 - accuracy: 0.8838 - val_loss: 0.4625 - val_accuracy: 0.8650\n",
            "Epoch 23/30\n",
            "13/13 [==============================] - 0s 22ms/step - loss: 0.4213 - accuracy: 0.8875 - val_loss: 0.4490 - val_accuracy: 0.8700\n",
            "Epoch 24/30\n",
            "13/13 [==============================] - 0s 21ms/step - loss: 0.4069 - accuracy: 0.8875 - val_loss: 0.4374 - val_accuracy: 0.8750\n",
            "Epoch 25/30\n",
            "13/13 [==============================] - 0s 22ms/step - loss: 0.3927 - accuracy: 0.8925 - val_loss: 0.4316 - val_accuracy: 0.8800\n",
            "Epoch 26/30\n",
            "13/13 [==============================] - 0s 24ms/step - loss: 0.3802 - accuracy: 0.8963 - val_loss: 0.4165 - val_accuracy: 0.8750\n",
            "Epoch 27/30\n",
            "13/13 [==============================] - 0s 26ms/step - loss: 0.3679 - accuracy: 0.8938 - val_loss: 0.4115 - val_accuracy: 0.8850\n",
            "Epoch 28/30\n",
            "13/13 [==============================] - 0s 10ms/step - loss: 0.3584 - accuracy: 0.8975 - val_loss: 0.4028 - val_accuracy: 0.8750\n",
            "Epoch 29/30\n",
            "13/13 [==============================] - 0s 15ms/step - loss: 0.3483 - accuracy: 0.9000 - val_loss: 0.3961 - val_accuracy: 0.8850\n",
            "Epoch 30/30\n",
            "13/13 [==============================] - 0s 13ms/step - loss: 0.3393 - accuracy: 0.8975 - val_loss: 0.3929 - val_accuracy: 0.8900\n"
          ]
        },
        {
          "output_type": "execute_result",
          "data": {
            "text/plain": [
              "<keras.callbacks.History at 0x7fb4f5ba4e50>"
            ]
          },
          "metadata": {},
          "execution_count": 19
        }
      ],
      "source": [
        "# 3 main splits > train, validation, test\n",
        "# calculate the loss and acc on val data\n",
        "# the weights are updated based on the train dataset\n",
        "model.fit(x_train, y_train,\n",
        "          epochs=30,\n",
        "          batch_size=64, validation_split=0.2)"
      ]
    },
    {
      "cell_type": "markdown",
      "metadata": {
        "id": "NXIui7Tg2Scv"
      },
      "source": [
        "## Model Evaluation"
      ]
    },
    {
      "cell_type": "code",
      "execution_count": 20,
      "metadata": {
        "id": "FfZ1oLTv2Sc1",
        "outputId": "9c2cfb3e-1605-4dea-fabc-c061bce13c51",
        "colab": {
          "base_uri": "https://localhost:8080/"
        }
      },
      "outputs": [
        {
          "output_type": "stream",
          "name": "stdout",
          "text": [
            "7/7 [==============================] - 0s 6ms/step - loss: 0.3646 - accuracy: 0.9200\n",
            "\n",
            "Testing loss: 0.36, acc: 0.92%\n"
          ]
        }
      ],
      "source": [
        "loss, acc = model.evaluate(x_test, y_test)\n",
        "print('\\nTesting loss: %.2f, acc: %.2f%%'%(loss, acc))"
      ]
    },
    {
      "cell_type": "markdown",
      "metadata": {
        "id": "7D7ATjLK2Sc2"
      },
      "source": [
        "## Predicting\n"
      ]
    },
    {
      "cell_type": "code",
      "source": [
        "predicted = model.predict(x_test)\n",
        "predicted"
      ],
      "metadata": {
        "colab": {
          "base_uri": "https://localhost:8080/"
        },
        "id": "z4f-XmAwUuK0",
        "outputId": "a3d321dc-8e1b-4ed8-b402-affaf313d57d"
      },
      "execution_count": 21,
      "outputs": [
        {
          "output_type": "stream",
          "name": "stdout",
          "text": [
            "7/7 [==============================] - 0s 4ms/step\n"
          ]
        },
        {
          "output_type": "execute_result",
          "data": {
            "text/plain": [
              "array([[8.2929004e-03, 2.2337405e-04, 1.4737073e-03, ..., 9.7831744e-01,\n",
              "        4.9193590e-05, 1.1394771e-04],\n",
              "       [3.9469139e-04, 4.4573151e-04, 5.2063185e-01, ..., 1.1066742e-02,\n",
              "        1.4379533e-04, 9.8723962e-05],\n",
              "       [5.6205210e-03, 4.8626366e-04, 1.8953064e-01, ..., 4.1445661e-02,\n",
              "        2.9307712e-04, 1.4545879e-03],\n",
              "       ...,\n",
              "       [2.4000397e-01, 2.0543316e-02, 7.2219432e-03, ..., 3.9413650e-02,\n",
              "        9.1288164e-03, 9.1730647e-02],\n",
              "       [3.8940829e-04, 1.7740468e-02, 8.5862656e-04, ..., 5.2414410e-04,\n",
              "        3.8661065e-03, 8.3224636e-01],\n",
              "       [4.8604017e-04, 5.2203508e-05, 3.6716810e-06, ..., 6.3427564e-05,\n",
              "        1.9405040e-04, 1.4766033e-05]], dtype=float32)"
            ]
          },
          "metadata": {},
          "execution_count": 21
        }
      ]
    },
    {
      "cell_type": "code",
      "source": [
        "print(predicted.shape)\n",
        "predicted_classes=np.argmax(predicted,axis=1)\n",
        "print(predicted_classes.shape)"
      ],
      "metadata": {
        "colab": {
          "base_uri": "https://localhost:8080/"
        },
        "id": "ugt9vJseY8x-",
        "outputId": "294c48b0-8524-42b0-def6-1c1529b9ef4e"
      },
      "execution_count": 22,
      "outputs": [
        {
          "output_type": "stream",
          "name": "stdout",
          "text": [
            "(200, 10)\n",
            "(200,)\n"
          ]
        }
      ]
    },
    {
      "cell_type": "code",
      "execution_count": 23,
      "metadata": {
        "id": "ORsGWqak2Sc3",
        "outputId": "cbc79c65-54fa-4cc9-cf7c-95624e8b2b62",
        "colab": {
          "base_uri": "https://localhost:8080/"
        }
      },
      "outputs": [
        {
          "output_type": "stream",
          "name": "stdout",
          "text": [
            "predicted:\n",
            "[7 2 3 1 5 5 4 7 3 2 0 8 8 0 2 9 3 6 7 4 0 3 6 3 9 2 7 5 2 9 2 5 5 8 9 2 5\n",
            " 1 4 8 8 4 7 2 1 2 7 9 0 3 7 5 7 5 2 9 8 2 9 8 8 6 6 6 7 6 2 4 6 4 4 5 9 1\n",
            " 8 4 0 5 6 2 4 3 2 7 7 7 7 1 8 1 7 8 7 7 8 9 7 2 3 1 0 2 9 6 3 5 5 0 0 9 6\n",
            " 7 9 3 9 9 8 7 9 2 5 2 5 5 9 6 9 2 0 3 7 9 5 2 9 0 4 1 8 2 2 3 5 2 9 3 8 2\n",
            " 7 0 9 9 5 7 6 1 4 7 9 3 7 0 7 2 9 4 7 3 4 1 5 6 7 9 1 3 5 4 5 7 4 1 3 3 1\n",
            " 1 3 3 8 9 6 7 7 2 3 0 1 4 9 5]\n",
            "True Label:\n",
            "[7 2 3 1 5 5 4 7 3 2 0 8 8 0 2 9 3 6 7 4 0 3 6 3 9 2 7 5 2 9 7 5 5 8 9 6 5\n",
            " 1 4 8 8 4 7 7 1 2 7 9 0 3 7 4 7 5 2 9 8 2 9 8 8 6 6 6 6 6 2 4 3 4 4 5 9 1\n",
            " 8 2 0 5 6 2 4 3 2 7 7 7 7 1 8 1 7 8 7 7 8 9 3 2 3 1 0 2 9 6 3 5 5 0 0 3 6\n",
            " 7 9 3 9 9 8 7 9 2 5 2 5 5 9 6 9 2 0 3 7 6 5 2 9 0 4 1 8 2 2 3 0 2 9 3 8 6\n",
            " 7 0 9 9 0 7 6 5 4 7 9 3 7 0 7 1 9 4 7 3 4 1 5 6 7 9 1 3 5 4 5 7 4 1 3 3 1\n",
            " 2 3 3 8 9 6 7 7 2 3 0 1 4 9 5]\n"
          ]
        }
      ],
      "source": [
        "print(\"predicted:\")\n",
        "print(predicted_classes)\n",
        "print(\"True Label:\")\n",
        "print(y_test_original)"
      ]
    },
    {
      "cell_type": "code",
      "source": [
        "from sklearn.metrics import confusion_matrix\n",
        "import matplotlib.pyplot as plt\n",
        "\n",
        "cm = confusion_matrix(y_test_original, predicted_classes)\n",
        "\n",
        "# plt.matshow(cm) / plt.imshow(cm)\n",
        "plt.matshow(cm)"
      ],
      "metadata": {
        "colab": {
          "base_uri": "https://localhost:8080/",
          "height": 459
        },
        "id": "RPGf6U5eZVsS",
        "outputId": "7fe8f9a9-c1f1-4c1d-a235-bb0f6981f0f8"
      },
      "execution_count": 24,
      "outputs": [
        {
          "output_type": "execute_result",
          "data": {
            "text/plain": [
              "<matplotlib.image.AxesImage at 0x7fb4e1c62c70>"
            ]
          },
          "metadata": {},
          "execution_count": 24
        },
        {
          "output_type": "display_data",
          "data": {
            "text/plain": [
              "<Figure size 480x480 with 1 Axes>"
            ],
            "image/png": "[encoded data removed]"
          },
          "metadata": {}
        }
      ]
    },
    {
      "cell_type": "code",
      "source": [
        "# matplotlib doesn't have heatmap and instead it has imshow\n",
        "! pip install --quiet seaborn\n",
        "import seaborn as sns\n",
        "\n",
        "sns.heatmap(cm)"
      ],
      "metadata": {
        "colab": {
          "base_uri": "https://localhost:8080/",
          "height": 452
        },
        "id": "luTCLEtKaRsV",
        "outputId": "0e0f25ab-de74-4471-e56d-7ac83641ca18"
      },
      "execution_count": 30,
      "outputs": [
        {
          "output_type": "execute_result",
          "data": {
            "text/plain": [
              "<Axes: >"
            ]
          },
          "metadata": {},
          "execution_count": 30
        },
        {
          "output_type": "display_data",
          "data": {
            "text/plain": [
              "<Figure size 640x480 with 2 Axes>"
            ],
            "image/png": "[encoded data removed]"
          },
          "metadata": {}
        }
      ]
    },
    {
      "cell_type": "code",
      "source": [
        "sns.set(font_scale=1.1) # for label size\n",
        "sns.heatmap(cm, annot=True, annot_kws={\"size\": 11}) # font size"
      ],
      "metadata": {
        "colab": {
          "base_uri": "https://localhost:8080/",
          "height": 459
        },
        "id": "Hmu17fwGbRE6",
        "outputId": "0698c20e-f62e-466d-e64c-4706b5e97965"
      },
      "execution_count": 31,
      "outputs": [
        {
          "output_type": "execute_result",
          "data": {
            "text/plain": [
              "<Axes: >"
            ]
          },
          "metadata": {},
          "execution_count": 31
        },
        {
          "output_type": "display_data",
          "data": {
            "text/plain": [
              "<Figure size 640x480 with 2 Axes>"
            ],
            "image/png": "[encoded data removed]"
          },
          "metadata": {}
        }
      ]
    },
    {
      "cell_type": "markdown",
      "metadata": {
        "id": "J6fMj5op2SdE"
      },
      "source": [
        "## Complete Code"
      ]
    },
    {
      "cell_type": "code",
      "execution_count": 27,
      "metadata": {
        "id": "X_K5QNBo2SdG",
        "outputId": "bd798129-8699-4ee8-aec2-100f6a80e53b",
        "colab": {
          "base_uri": "https://localhost:8080/"
        }
      },
      "outputs": [
        {
          "output_type": "stream",
          "name": "stdout",
          "text": [
            "Epoch 1/30\n",
            "16/16 [==============================] - 1s 3ms/step - loss: 2.1842 - accuracy: 0.1850\n",
            "Epoch 2/30\n",
            "16/16 [==============================] - 0s 2ms/step - loss: 1.9712 - accuracy: 0.3800\n",
            "Epoch 3/30\n",
            "16/16 [==============================] - 0s 2ms/step - loss: 1.7908 - accuracy: 0.5890\n",
            "Epoch 4/30\n",
            "16/16 [==============================] - 0s 3ms/step - loss: 1.6146 - accuracy: 0.6800\n",
            "Epoch 5/30\n",
            "16/16 [==============================] - 0s 2ms/step - loss: 1.4404 - accuracy: 0.7370\n",
            "Epoch 6/30\n",
            "16/16 [==============================] - 0s 2ms/step - loss: 1.2808 - accuracy: 0.7640\n",
            "Epoch 7/30\n",
            "16/16 [==============================] - 0s 2ms/step - loss: 1.1365 - accuracy: 0.7770\n",
            "Epoch 8/30\n",
            "16/16 [==============================] - 0s 2ms/step - loss: 1.0116 - accuracy: 0.7980\n",
            "Epoch 9/30\n",
            "16/16 [==============================] - 0s 2ms/step - loss: 0.9042 - accuracy: 0.8200\n",
            "Epoch 10/30\n",
            "16/16 [==============================] - 0s 2ms/step - loss: 0.8125 - accuracy: 0.8250\n",
            "Epoch 11/30\n",
            "16/16 [==============================] - 0s 2ms/step - loss: 0.7354 - accuracy: 0.8370\n",
            "Epoch 12/30\n",
            "16/16 [==============================] - 0s 2ms/step - loss: 0.6710 - accuracy: 0.8450\n",
            "Epoch 13/30\n",
            "16/16 [==============================] - 0s 2ms/step - loss: 0.6163 - accuracy: 0.8500\n",
            "Epoch 14/30\n",
            "16/16 [==============================] - 0s 2ms/step - loss: 0.5705 - accuracy: 0.8620\n",
            "Epoch 15/30\n",
            "16/16 [==============================] - 0s 2ms/step - loss: 0.5322 - accuracy: 0.8620\n",
            "Epoch 16/30\n",
            "16/16 [==============================] - 0s 2ms/step - loss: 0.4997 - accuracy: 0.8720\n",
            "Epoch 17/30\n",
            "16/16 [==============================] - 0s 2ms/step - loss: 0.4730 - accuracy: 0.8810\n",
            "Epoch 18/30\n",
            "16/16 [==============================] - 0s 2ms/step - loss: 0.4483 - accuracy: 0.8850\n",
            "Epoch 19/30\n",
            "16/16 [==============================] - 0s 2ms/step - loss: 0.4278 - accuracy: 0.8920\n",
            "Epoch 20/30\n",
            "16/16 [==============================] - 0s 2ms/step - loss: 0.4097 - accuracy: 0.8900\n",
            "Epoch 21/30\n",
            "16/16 [==============================] - 0s 2ms/step - loss: 0.3920 - accuracy: 0.9060\n",
            "Epoch 22/30\n",
            "16/16 [==============================] - 0s 2ms/step - loss: 0.3796 - accuracy: 0.8970\n",
            "Epoch 23/30\n",
            "16/16 [==============================] - 0s 2ms/step - loss: 0.3648 - accuracy: 0.9020\n",
            "Epoch 24/30\n",
            "16/16 [==============================] - 0s 3ms/step - loss: 0.3531 - accuracy: 0.9080\n",
            "Epoch 25/30\n",
            "16/16 [==============================] - 0s 3ms/step - loss: 0.3427 - accuracy: 0.9040\n",
            "Epoch 26/30\n",
            "16/16 [==============================] - 0s 2ms/step - loss: 0.3348 - accuracy: 0.9050\n",
            "Epoch 27/30\n",
            "16/16 [==============================] - 0s 2ms/step - loss: 0.3247 - accuracy: 0.9100\n",
            "Epoch 28/30\n",
            "16/16 [==============================] - 0s 2ms/step - loss: 0.3173 - accuracy: 0.9110\n",
            "Epoch 29/30\n",
            "16/16 [==============================] - 0s 2ms/step - loss: 0.3095 - accuracy: 0.9120\n",
            "Epoch 30/30\n",
            "16/16 [==============================] - 0s 3ms/step - loss: 0.3026 - accuracy: 0.9120\n",
            "7/7 [==============================] - 0s 3ms/step - loss: 0.3322 - accuracy: 0.8950\n",
            "\n",
            "Testing loss: 0.33, acc: 0.89%\n"
          ]
        }
      ],
      "source": [
        "# 1. Import libraries and modules\n",
        "import keras\n",
        "from keras.models import Sequential\n",
        "from keras.layers import Dense, Dropout, Activation\n",
        "import numpy as np\n",
        "from dataset import load_hoda\n",
        "\n",
        "np.random.seed(123)  # for reproducibility\n",
        "\n",
        "# 2. Load pre-shuffled HODA data into train and test sets\n",
        "x_train_original, y_train_original, x_test_original, y_test_original = load_hoda()\n",
        "\n",
        "# 3. Preprocess input data\n",
        "''' 3.1: input data in numpy array format'''\n",
        "x_train = np.array(x_train_original)\n",
        "x_test = np.array(x_test_original)\n",
        "'''3.2 normalize our data values to the range [0, 1]'''\n",
        "x_train = x_train.astype('float32')\n",
        "x_test = x_test.astype('float32')\n",
        "x_train /= 255\n",
        "x_test /= 255\n",
        "\n",
        "# 4. Preprocess class labels\n",
        "y_train = keras.utils.to_categorical(y_train_original, num_classes=10)\n",
        "y_test = keras.utils.to_categorical(y_test_original, num_classes=10)\n",
        "\n",
        "# 5. Define model architecture\n",
        "model = Sequential()\n",
        "model.add(Dense(64, activation='relu', input_dim=25))\n",
        "model.add(Dense(10, activation='softmax'))\n",
        "\n",
        "# 6. Compile model\n",
        "model.compile(loss='categorical_crossentropy',\n",
        "              optimizer='rmsprop',\n",
        "              metrics=['accuracy'])\n",
        "\n",
        "# 7. Fit model on training data\n",
        "model.fit(x_train, y_train,\n",
        "          epochs=30,\n",
        "          batch_size=64)\n",
        "\n",
        "# 8. Evaluate model on test data\n",
        "loss, acc = model.evaluate(x_test, y_test)\n",
        "print('\\nTesting loss: %.2f, acc: %.2f%%'%(loss, acc))"
      ]
    },
    {
      "cell_type": "code",
      "source": [],
      "metadata": {
        "id": "yD1EZJG5adEj"
      },
      "execution_count": 27,
      "outputs": []
    }
  ],
  "metadata": {
    "anaconda-cloud": {},
    "kernelspec": {
      "display_name": "Python 3",
      "name": "python3"
    },
    "language_info": {
      "name": "python"
    },
    "nbpresent": {
      "slides": {
        "300ee14f-a043-486e-b274-7ff253907cd7": {
          "id": "300ee14f-a043-486e-b274-7ff253907cd7",
          "prev": "cb74e0bc-4513-4d13-b7f1-14c3078a7927",
          "regions": {
            "26dc3f39-a230-447c-af4c-f5e5b2fb7835": {
              "attrs": {
                "height": 0.8,
                "width": 0.8,
                "x": 0.1,
                "y": 0.1
              },
              "content": {
                "cell": "c58440a5-3f8f-4f37-9c79-6bf766209406",
                "part": "whole"
              },
              "id": "26dc3f39-a230-447c-af4c-f5e5b2fb7835"
            }
          }
        },
        "878aa53a-1444-4100-8f50-7a408191c579": {
          "id": "878aa53a-1444-4100-8f50-7a408191c579",
          "prev": null,
          "regions": {
            "a6c6843a-5ea6-4fbc-b890-3b4b8ae475b3": {
              "attrs": {
                "height": 0.8,
                "width": 0.8,
                "x": 0.1,
                "y": 0.1
              },
              "content": {
                "cell": "588ee1fa-64b5-453b-ade7-8e6b2515821c",
                "part": "whole"
              },
              "id": "a6c6843a-5ea6-4fbc-b890-3b4b8ae475b3"
            }
          }
        },
        "96ffe88e-7b50-43de-afdd-942e564f4e3e": {
          "id": "96ffe88e-7b50-43de-afdd-942e564f4e3e",
          "prev": "878aa53a-1444-4100-8f50-7a408191c579",
          "regions": {
            "b7e52e12-489a-468d-b10c-af2024fd2856": {
              "attrs": {
                "height": 0.8,
                "width": 0.8,
                "x": 0.1,
                "y": 0.1
              },
              "content": {
                "cell": "de829a92-1fb6-44ad-a2c6-fc1001e1f6e1",
                "part": "whole"
              },
              "id": "b7e52e12-489a-468d-b10c-af2024fd2856"
            }
          }
        },
        "cb74e0bc-4513-4d13-b7f1-14c3078a7927": {
          "id": "cb74e0bc-4513-4d13-b7f1-14c3078a7927",
          "prev": "96ffe88e-7b50-43de-afdd-942e564f4e3e",
          "regions": {
            "444878ee-68f3-4abb-acff-a7079b21e86d": {
              "attrs": {
                "height": 0.8,
                "width": 0.8,
                "x": 0.1,
                "y": 0.1
              },
              "content": {
                "cell": "25f3f538-1ee8-4d98-a6bb-14cbeb7a702d",
                "part": "whole"
              },
              "id": "444878ee-68f3-4abb-acff-a7079b21e86d"
            }
          }
        }
      },
      "themes": {}
    },
    "colab": {
      "provenance": [],
      "include_colab_link": true
    },
    "gpuClass": "standard"
  },
  "nbformat": 4,
  "nbformat_minor": 0
}