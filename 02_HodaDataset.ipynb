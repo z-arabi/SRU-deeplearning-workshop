{
  "cells": [
    {
      "cell_type": "code",
      "source": [
        "! git clone https://github.com/z-arabi/SRU-deeplearning-workshop\n",
        "%cd SRU-deeplearning-workshop"
      ],
      "metadata": {
        "id": "AYqCK4iMSWC7",
        "outputId": "b6ad1a1b-bb6e-4d4c-cc01-df0202c74ac4",
        "colab": {
          "base_uri": "https://localhost:8080/"
        }
      },
      "execution_count": 3,
      "outputs": [
        {
          "output_type": "stream",
          "name": "stdout",
          "text": [
            "Cloning into 'SRU-deeplearning-workshop'...\n",
            "remote: Enumerating objects: 146, done.\u001b[K\n",
            "remote: Counting objects: 100% (57/57), done.\u001b[K\n",
            "remote: Compressing objects: 100% (46/46), done.\u001b[K\n",
            "remote: Total 146 (delta 24), reused 35 (delta 11), pack-reused 89\u001b[K\n",
            "Receiving objects: 100% (146/146), 14.48 MiB | 33.39 MiB/s, done.\n",
            "Resolving deltas: 100% (61/61), done.\n",
            "/content/SRU-deeplearning-workshop\n"
          ]
        }
      ]
    },
    {
      "cell_type": "markdown",
      "source": [
        "**Hoda Dataset**  \n",
        "This collection was prepared during a master's project on the recognition of handwritten forms. The data of this collection has been extracted from about 12,000 registration forms for the national master's exam in 2014 and the continuous associate's exam of the University of Applied Sciences in 2014.  \n",
        "https://www.sciencedirect.com/science/article/pii/S0167865507000037  \n",
        "\n",
        "Here we have the matlab files.  \n"
      ],
      "metadata": {
        "id": "vy4-Q6QKRdhX"
      }
    },
    {
      "cell_type": "code",
      "execution_count": 4,
      "metadata": {
        "nbpresent": {
          "id": "de829a92-1fb6-44ad-a2c6-fc1001e1f6e1"
        },
        "id": "lVzUkj-jRW16"
      },
      "outputs": [],
      "source": [
        "import numpy as np\n",
        "from scipy import io\n",
        "import matplotlib.pyplot as plt\n",
        "from skimage.transform import resize"
      ]
    },
    {
      "cell_type": "code",
      "execution_count": 5,
      "metadata": {
        "id": "IJXPgv85RW1_",
        "outputId": "9ae88a7f-1441-4cc5-c772-9b42109c21ae",
        "colab": {
          "base_uri": "https://localhost:8080/"
        }
      },
      "outputs": [
        {
          "output_type": "stream",
          "name": "stdout",
          "text": [
            "<class 'dict'>\n"
          ]
        }
      ],
      "source": [
        "#load dataset > io helps us to import or export numpy array into \n",
        "#matlab file or vice versa\n",
        "#.mat > matlab file export type\n",
        "\n",
        "dataset = io.loadmat('./dataset/Data_hoda_full.mat')\n",
        "print(type(dataset))"
      ]
    },
    {
      "cell_type": "code",
      "source": [
        "print(dataset.keys())"
      ],
      "metadata": {
        "id": "oAK3LRzeShSD",
        "outputId": "7b4a5309-061c-467f-d982-0a6e27b90881",
        "colab": {
          "base_uri": "https://localhost:8080/"
        }
      },
      "execution_count": 6,
      "outputs": [
        {
          "output_type": "stream",
          "name": "stdout",
          "text": [
            "dict_keys(['__header__', '__version__', '__globals__', 'Data', 'labels'])\n"
          ]
        }
      ]
    },
    {
      "cell_type": "code",
      "source": [
        "print(len(dataset['Data']), len(dataset['labels']))"
      ],
      "metadata": {
        "id": "_wOwLih8StTR",
        "outputId": "dde68050-1e7a-4b1b-83f6-a38979e9ffba",
        "colab": {
          "base_uri": "https://localhost:8080/"
        }
      },
      "execution_count": 8,
      "outputs": [
        {
          "output_type": "stream",
          "name": "stdout",
          "text": [
            "60000 60000\n"
          ]
        }
      ]
    },
    {
      "cell_type": "code",
      "source": [
        "print(type(dataset['Data']))\n",
        "print(dataset['Data'].shape)\n",
        "\n",
        "print(dataset['Data'][0])"
      ],
      "metadata": {
        "id": "gwia0_9zTRx6",
        "outputId": "f12d1bfa-a497-4d71-eae9-55247533c17c",
        "colab": {
          "base_uri": "https://localhost:8080/"
        }
      },
      "execution_count": 12,
      "outputs": [
        {
          "output_type": "stream",
          "name": "stdout",
          "text": [
            "<class 'numpy.ndarray'>\n",
            "(60000, 1)\n",
            "[array([[  0,   0,   0,   0, 255, 255,   0,   0,   0,   0,   0,   0,   0,\n",
            "           0,   0,   0,   0,   0,   0,   0],\n",
            "        [  0,   0,   0, 255, 255, 255, 255,   0,   0,   0,   0,   0,   0,\n",
            "           0,   0,   0,   0,   0,   0,   0],\n",
            "        [  0,   0, 255, 255, 255, 255, 255,   0,   0,   0,   0,   0,   0,\n",
            "           0,   0,   0,   0, 255, 255,   0],\n",
            "        [  0, 255, 255, 255, 255, 255,   0,   0,   0,   0,   0,   0,   0,\n",
            "           0,   0,   0, 255, 255, 255, 255],\n",
            "        [  0, 255, 255, 255, 255,   0,   0,   0,   0,   0,   0,   0,   0,\n",
            "           0,   0, 255, 255, 255, 255,   0],\n",
            "        [  0, 255, 255, 255,   0,   0,   0,   0,   0,   0,   0,   0,   0,\n",
            "           0, 255, 255, 255, 255, 255,   0],\n",
            "        [255, 255, 255, 255,   0,   0,   0,   0,   0,   0,   0,   0,   0,\n",
            "         255, 255, 255, 255, 255,   0,   0],\n",
            "        [255, 255, 255,   0,   0,   0,   0,   0,   0,   0,   0,   0, 255,\n",
            "         255, 255, 255, 255,   0,   0,   0],\n",
            "        [255, 255, 255,   0,   0,   0,   0,   0,   0,   0, 255, 255, 255,\n",
            "         255, 255, 255, 255,   0,   0,   0],\n",
            "        [255, 255, 255,   0,   0,   0,   0,   0,   0, 255, 255, 255, 255,\n",
            "         255, 255, 255,   0,   0,   0,   0],\n",
            "        [255, 255, 255, 255, 255, 255, 255, 255, 255, 255, 255, 255, 255,\n",
            "         255, 255,   0,   0,   0,   0,   0],\n",
            "        [255, 255, 255, 255, 255, 255, 255, 255, 255, 255, 255, 255, 255,\n",
            "         255,   0,   0,   0,   0,   0,   0],\n",
            "        [  0, 255, 255, 255, 255, 255, 255, 255, 255, 255, 255, 255, 255,\n",
            "           0,   0,   0,   0,   0,   0,   0],\n",
            "        [  0,   0,   0,   0, 255, 255, 255, 255, 255, 255, 255, 255, 255,\n",
            "           0,   0,   0,   0,   0,   0,   0],\n",
            "        [  0,   0,   0,   0,   0,   0,   0, 255, 255, 255, 255, 255,   0,\n",
            "           0,   0,   0,   0,   0,   0,   0],\n",
            "        [  0,   0,   0,   0,   0,   0,   0, 255, 255, 255, 255,   0,   0,\n",
            "           0,   0,   0,   0,   0,   0,   0],\n",
            "        [  0,   0,   0,   0,   0,   0, 255, 255, 255, 255, 255,   0,   0,\n",
            "           0,   0,   0,   0,   0,   0,   0],\n",
            "        [  0,   0,   0,   0,   0,   0, 255, 255, 255, 255,   0,   0,   0,\n",
            "           0,   0,   0,   0,   0,   0,   0],\n",
            "        [  0,   0,   0,   0,   0, 255, 255, 255, 255, 255,   0,   0,   0,\n",
            "           0,   0,   0,   0,   0,   0,   0],\n",
            "        [  0,   0,   0,   0,   0, 255, 255, 255, 255,   0,   0,   0,   0,\n",
            "           0,   0,   0,   0,   0,   0,   0],\n",
            "        [  0,   0,   0,   0,   0, 255, 255, 255, 255,   0,   0,   0,   0,\n",
            "           0,   0,   0,   0,   0,   0,   0],\n",
            "        [  0,   0,   0,   0,   0, 255, 255, 255, 255,   0,   0,   0,   0,\n",
            "           0,   0,   0,   0,   0,   0,   0],\n",
            "        [  0,   0,   0,   0,   0, 255, 255, 255,   0,   0,   0,   0,   0,\n",
            "           0,   0,   0,   0,   0,   0,   0],\n",
            "        [  0,   0,   0,   0, 255, 255, 255, 255,   0,   0,   0,   0,   0,\n",
            "           0,   0,   0,   0,   0,   0,   0],\n",
            "        [  0,   0,   0,   0, 255, 255, 255, 255,   0,   0,   0,   0,   0,\n",
            "           0,   0,   0,   0,   0,   0,   0],\n",
            "        [  0,   0,   0,   0, 255, 255, 255,   0,   0,   0,   0,   0,   0,\n",
            "           0,   0,   0,   0,   0,   0,   0],\n",
            "        [  0,   0,   0,   0,   0, 255, 255,   0,   0,   0,   0,   0,   0,\n",
            "           0,   0,   0,   0,   0,   0,   0]], dtype=uint8)               ]\n"
          ]
        }
      ]
    },
    {
      "cell_type": "code",
      "source": [
        "# as you see we have an unwanted array 1 > so we use squeeze to \n",
        "# delete the 1 dimension\n",
        "print(np.squeeze(dataset['Data']).shape)\n",
        "\n",
        "# each picture is 27*28\n",
        "print(np.squeeze(dataset['Data'])[0].shape)"
      ],
      "metadata": {
        "id": "r67bK8cxTtwm",
        "outputId": "7cb8a334-969f-4de5-8a2c-e887f3160378",
        "colab": {
          "base_uri": "https://localhost:8080/"
        }
      },
      "execution_count": 14,
      "outputs": [
        {
          "output_type": "stream",
          "name": "stdout",
          "text": [
            "(60000,)\n",
            "(27, 20)\n"
          ]
        }
      ]
    },
    {
      "cell_type": "code",
      "execution_count": 29,
      "metadata": {
        "id": "Cnw8UVJ9RW2A"
      },
      "outputs": [],
      "source": [
        "#test and training set > 1000 train + 200 test\n",
        "X_train_original = np.squeeze(dataset['Data'][:1000])\n",
        "y_train = np.squeeze(dataset['labels'][:1000])\n",
        "X_test_original = np.squeeze(dataset['Data'][1000:1200])\n",
        "y_test = np.squeeze(dataset['labels'][1000:1200])"
      ]
    },
    {
      "cell_type": "markdown",
      "metadata": {
        "id": "KhazmgXiRW2A"
      },
      "source": [
        "\"squeeze\": Remove single-dimensional entries from the shape of an array."
      ]
    },
    {
      "cell_type": "code",
      "execution_count": 30,
      "metadata": {
        "id": "ezRsGGt7RW2C",
        "outputId": "22740d32-0e3b-4852-c307-92be34feccdb",
        "colab": {
          "base_uri": "https://localhost:8080/",
          "height": 430
        }
      },
      "outputs": [
        {
          "output_type": "display_data",
          "data": {
            "text/plain": [
              "<Figure size 640x480 with 1 Axes>"
            ],
            "image/png": "[encoded data removed]"
          },
          "metadata": {}
        }
      ],
      "source": [
        "plt.imshow(X_train_orginal[999], cmap='gray')\n",
        "plt.show()"
      ]
    },
    {
      "cell_type": "code",
      "execution_count": 32,
      "metadata": {
        "id": "RXUjkKInRW2D",
        "outputId": "90b52961-2909-47aa-b5fd-f904016d2236",
        "colab": {
          "base_uri": "https://localhost:8080/",
          "height": 454
        }
      },
      "outputs": [
        {
          "output_type": "display_data",
          "data": {
            "text/plain": [
              "<Figure size 640x480 with 1 Axes>"
            ],
            "image/png": "[encoded data removed]"
          },
          "metadata": {}
        },
        {
          "output_type": "stream",
          "name": "stdout",
          "text": [
            "Label 100th image is: 1\n"
          ]
        }
      ],
      "source": [
        "i=100\n",
        "image = X_train_original[i]\n",
        "label = y_train[i]\n",
        "plt.imshow(image, cmap='gray')\n",
        "plt.show()\n",
        "print(\"Label {}th image is: {}\".format(i, label))"
      ]
    },
    {
      "cell_type": "markdown",
      "source": [
        "## Change image size"
      ],
      "metadata": {
        "id": "nAgiaxRcUd0L"
      }
    },
    {
      "cell_type": "markdown",
      "source": [
        "for giving pictures to the model > we need the data driven approach  \n",
        "end to end  \n",
        "pixel as a feature  \n",
        "FOR THIS we must have unique height and width pictures  \n",
        "1. resize to constant value\n",
        "2. reshape (linear pixels)"
      ],
      "metadata": {
        "id": "xmdfl6AJVixf"
      }
    },
    {
      "cell_type": "code",
      "source": [
        "print(X_train_original.shape)\n",
        "print(X_train_original[0].shape) #1000, > one array with 27*20 inside\n",
        "print(X_train_original[2].shape)\n",
        "print(X_train_original[3].shape)\n",
        "\n",
        "# because of its differences it can't be numpy array it is array"
      ],
      "metadata": {
        "id": "wLy1vjkkVid_",
        "outputId": "794da87c-6258-452d-acf3-a644603dff4a",
        "colab": {
          "base_uri": "https://localhost:8080/"
        }
      },
      "execution_count": 46,
      "outputs": [
        {
          "output_type": "stream",
          "name": "stdout",
          "text": [
            "(1000,)\n",
            "(27, 20)\n",
            "(10, 15)\n",
            "(36, 17)\n"
          ]
        }
      ]
    },
    {
      "cell_type": "code",
      "source": [
        "print(X_train_original[0].shape)\n",
        "\n",
        "#from skimage.transform import resize\n",
        "print(resize(X_train_original[0], (20,20)).shape)\n",
        "\n",
        "x_new0 = resize(X_train_original[0], (20,20))\n",
        "plt.imshow(x_new0, cmap=\"gray\")"
      ],
      "metadata": {
        "id": "aeh0Ve8NU0HU",
        "outputId": "0c0a5fd4-2d10-405a-8e40-cea30b0c9976",
        "colab": {
          "base_uri": "https://localhost:8080/",
          "height": 495
        }
      },
      "execution_count": 50,
      "outputs": [
        {
          "output_type": "stream",
          "name": "stdout",
          "text": [
            "(27, 20)\n",
            "(20, 20)\n"
          ]
        },
        {
          "output_type": "execute_result",
          "data": {
            "text/plain": [
              "<matplotlib.image.AxesImage at 0x7f4301274190>"
            ]
          },
          "metadata": {},
          "execution_count": 50
        },
        {
          "output_type": "display_data",
          "data": {
            "text/plain": [
              "<Figure size 640x480 with 1 Axes>"
            ],
            "image/png": "[encoded data removed]"
          },
          "metadata": {}
        }
      ]
    },
    {
      "cell_type": "code",
      "source": [
        "print(resize(X_train_original[2], (10,10)).shape)\n",
        "\n",
        "x_new0 = resize(X_train_original[2], (10,10))\n",
        "print(y_train[2])\n",
        "plt.imshow(x_new0, cmap=\"gray\")\n",
        "\n",
        "# for each resize shape > we lost some datas"
      ],
      "metadata": {
        "id": "cBWdsKbhZksh",
        "outputId": "f5f0d04c-abef-4113-edff-59081625b43c",
        "colab": {
          "base_uri": "https://localhost:8080/",
          "height": 495
        }
      },
      "execution_count": 54,
      "outputs": [
        {
          "output_type": "stream",
          "name": "stdout",
          "text": [
            "(10, 10)\n",
            "0\n"
          ]
        },
        {
          "output_type": "execute_result",
          "data": {
            "text/plain": [
              "<matplotlib.image.AxesImage at 0x7f4300e761f0>"
            ]
          },
          "metadata": {},
          "execution_count": 54
        },
        {
          "output_type": "display_data",
          "data": {
            "text/plain": [
              "<Figure size 640x480 with 1 Axes>"
            ],
            "image/png": "[encoded data removed]"
          },
          "metadata": {}
        }
      ]
    },
    {
      "cell_type": "code",
      "execution_count": 56,
      "metadata": {
        "id": "zdEiTE-_RW2E",
        "outputId": "f78d4c1b-4ee5-4b89-d37b-c148da7cef95",
        "colab": {
          "base_uri": "https://localhost:8080/"
        }
      },
      "outputs": [
        {
          "output_type": "stream",
          "name": "stdout",
          "text": [
            "<class 'list'>\n"
          ]
        }
      ],
      "source": [
        "#resize\n",
        "X_train_5by5 = [resize(img, (5, 5)) for img in X_train_original]\n",
        "X_test_5by_5 = [resize(img, (5, 5)) for img in X_test_original]\n",
        "\n",
        "print(type(X_train_5by5))"
      ]
    },
    {
      "cell_type": "code",
      "source": [
        "X_train_5by5[:2]"
      ],
      "metadata": {
        "id": "OOrYwQA4adAn",
        "outputId": "2e3dea7b-1fec-4db1-eda4-dda52ee490bb",
        "colab": {
          "base_uri": "https://localhost:8080/"
        }
      },
      "execution_count": 58,
      "outputs": [
        {
          "output_type": "execute_result",
          "data": {
            "text/plain": [
              "[array([[5.53273485e-01, 4.90714915e-01, 2.12967539e-02, 1.53506264e-01,\n",
              "         4.85460154e-01],\n",
              "        [7.95628665e-01, 2.66307762e-01, 4.12513896e-01, 7.23550849e-01,\n",
              "         3.21985241e-01],\n",
              "        [3.88111988e-01, 6.61784149e-01, 8.66087137e-01, 2.73709192e-01,\n",
              "         1.18390786e-02],\n",
              "        [2.57814033e-02, 6.27421296e-01, 4.22119545e-01, 1.25845016e-02,\n",
              "         1.98249201e-05],\n",
              "        [7.08787669e-02, 6.95308306e-01, 1.01690057e-01, 1.63129808e-04,\n",
              "         3.75737778e-10]]),\n",
              " array([[0.00216765, 0.14297813, 0.80955152, 0.29877182, 0.00394131],\n",
              "        [0.09872244, 0.68747429, 0.55874243, 0.65158203, 0.09860989],\n",
              "        [0.60898775, 0.42737423, 0.05995279, 0.39138726, 0.60861524],\n",
              "        [0.76834423, 0.11777447, 0.61986874, 0.40749432, 0.86172856],\n",
              "        [0.29828601, 0.57312954, 0.83312508, 0.66800999, 0.61605346]])]"
            ]
          },
          "metadata": {},
          "execution_count": 58
        }
      ]
    },
    {
      "cell_type": "code",
      "execution_count": 57,
      "metadata": {
        "id": "Tha7KF9nRW2E",
        "outputId": "834c2478-a2c0-43dc-e647-d9dc9b803fee",
        "colab": {
          "base_uri": "https://localhost:8080/",
          "height": 430
        }
      },
      "outputs": [
        {
          "output_type": "display_data",
          "data": {
            "text/plain": [
              "<Figure size 640x480 with 1 Axes>"
            ],
            "image/png": "[encoded data removed]"
          },
          "metadata": {}
        }
      ],
      "source": [
        "image = X_train_5by5[1]\n",
        "plt.imshow(image, cmap='gray')\n",
        "plt.show()"
      ]
    },
    {
      "cell_type": "code",
      "execution_count": 59,
      "metadata": {
        "id": "Oia1AeNhRW2F"
      },
      "outputs": [],
      "source": [
        "#reshape > make it linear\n",
        "X_train = [x.reshape(25) for x in X_train_5by5]\n",
        "X_test = [x.reshape(25) for x in X_test_5by_5]"
      ]
    },
    {
      "cell_type": "code",
      "execution_count": 60,
      "metadata": {
        "id": "8Xlw8HkqRW2F",
        "outputId": "e1a588c2-320a-432b-a1e8-6cef642812ce",
        "colab": {
          "base_uri": "https://localhost:8080/"
        }
      },
      "outputs": [
        {
          "output_type": "execute_result",
          "data": {
            "text/plain": [
              "(25,)"
            ]
          },
          "metadata": {},
          "execution_count": 60
        }
      ],
      "source": [
        "X_train[0].shape"
      ]
    }
  ],
  "metadata": {
    "anaconda-cloud": {},
    "kernelspec": {
      "display_name": "tensorflow",
      "language": "python",
      "name": "tensorflow"
    },
    "language_info": {
      "codemirror_mode": {
        "name": "ipython",
        "version": 3
      },
      "file_extension": ".py",
      "mimetype": "text/x-python",
      "name": "python",
      "nbconvert_exporter": "python",
      "pygments_lexer": "ipython3",
      "version": "3.6.8"
    },
    "nbpresent": {
      "slides": {
        "300ee14f-a043-486e-b274-7ff253907cd7": {
          "id": "300ee14f-a043-486e-b274-7ff253907cd7",
          "prev": "cb74e0bc-4513-4d13-b7f1-14c3078a7927",
          "regions": {
            "26dc3f39-a230-447c-af4c-f5e5b2fb7835": {
              "attrs": {
                "height": 0.8,
                "width": 0.8,
                "x": 0.1,
                "y": 0.1
              },
              "content": {
                "cell": "c58440a5-3f8f-4f37-9c79-6bf766209406",
                "part": "whole"
              },
              "id": "26dc3f39-a230-447c-af4c-f5e5b2fb7835"
            }
          }
        },
        "878aa53a-1444-4100-8f50-7a408191c579": {
          "id": "878aa53a-1444-4100-8f50-7a408191c579",
          "prev": null,
          "regions": {
            "a6c6843a-5ea6-4fbc-b890-3b4b8ae475b3": {
              "attrs": {
                "height": 0.8,
                "width": 0.8,
                "x": 0.1,
                "y": 0.1
              },
              "content": {
                "cell": "588ee1fa-64b5-453b-ade7-8e6b2515821c",
                "part": "whole"
              },
              "id": "a6c6843a-5ea6-4fbc-b890-3b4b8ae475b3"
            }
          }
        },
        "96ffe88e-7b50-43de-afdd-942e564f4e3e": {
          "id": "96ffe88e-7b50-43de-afdd-942e564f4e3e",
          "prev": "878aa53a-1444-4100-8f50-7a408191c579",
          "regions": {
            "b7e52e12-489a-468d-b10c-af2024fd2856": {
              "attrs": {
                "height": 0.8,
                "width": 0.8,
                "x": 0.1,
                "y": 0.1
              },
              "content": {
                "cell": "de829a92-1fb6-44ad-a2c6-fc1001e1f6e1",
                "part": "whole"
              },
              "id": "b7e52e12-489a-468d-b10c-af2024fd2856"
            }
          }
        },
        "cb74e0bc-4513-4d13-b7f1-14c3078a7927": {
          "id": "cb74e0bc-4513-4d13-b7f1-14c3078a7927",
          "prev": "96ffe88e-7b50-43de-afdd-942e564f4e3e",
          "regions": {
            "444878ee-68f3-4abb-acff-a7079b21e86d": {
              "attrs": {
                "height": 0.8,
                "width": 0.8,
                "x": 0.1,
                "y": 0.1
              },
              "content": {
                "cell": "25f3f538-1ee8-4d98-a6bb-14cbeb7a702d",
                "part": "whole"
              },
              "id": "444878ee-68f3-4abb-acff-a7079b21e86d"
            }
          }
        }
      },
      "themes": {}
    },
    "colab": {
      "provenance": []
    }
  },
  "nbformat": 4,
  "nbformat_minor": 0
}