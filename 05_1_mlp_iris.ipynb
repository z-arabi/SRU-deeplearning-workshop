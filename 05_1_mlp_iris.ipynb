{
  "cells": [
    {
      "cell_type": "markdown",
      "metadata": {
        "id": "view-in-github",
        "colab_type": "text"
      },
      "source": [
        "<a href=\"https://colab.research.google.com/github/z-arabi/SRU-deeplearning-workshop/blob/master/05_1_mlp_iris.ipynb\" target=\"_parent\"><img src=\"https://colab.research.google.com/assets/colab-badge.svg\" alt=\"Open In Colab\"/></a>"
      ]
    },
    {
      "cell_type": "code",
      "source": [
        "! git clone https://github.com/z-arabi/SRU-deeplearning-workshop\n",
        "%cd SRU-deeplearning-workshop"
      ],
      "metadata": {
        "id": "pRPIshroWliK",
        "outputId": "892046c3-2db2-4e71-aee8-977fc3b357f2",
        "colab": {
          "base_uri": "https://localhost:8080/"
        }
      },
      "execution_count": 1,
      "outputs": [
        {
          "output_type": "stream",
          "name": "stdout",
          "text": [
            "Cloning into 'SRU-deeplearning-workshop'...\n",
            "remote: Enumerating objects: 203, done.\u001b[K\n",
            "remote: Counting objects: 100% (114/114), done.\u001b[K\n",
            "remote: Compressing objects: 100% (101/101), done.\u001b[K\n",
            "remote: Total 203 (delta 51), reused 39 (delta 12), pack-reused 89\u001b[K\n",
            "Receiving objects: 100% (203/203), 14.85 MiB | 17.22 MiB/s, done.\n",
            "Resolving deltas: 100% (88/88), done.\n",
            "/content/SRU-deeplearning-workshop\n"
          ]
        }
      ]
    },
    {
      "cell_type": "code",
      "execution_count": 2,
      "metadata": {
        "id": "tyfnvA6OWfDJ"
      },
      "outputs": [],
      "source": [
        "import numpy as np\n",
        "from tensorflow import keras\n",
        "from sklearn.datasets import load_iris\n",
        "from sklearn.model_selection import train_test_split\n",
        "from keras.models import Sequential\n",
        "from keras.layers import Dense, Dropout\n",
        "from tensorflow.keras.optimizers import Adam"
      ]
    },
    {
      "cell_type": "markdown",
      "source": [
        "The dataset linke:  \n",
        "https://archive.ics.uci.edu/ml/datasets/iris  \n",
        "\n",
        "Attribute Information:\n",
        "\n",
        "1. sepal length in cm\n",
        "2. sepal width in cm\n",
        "3. petal length in cm\n",
        "4. petal width in cm\n",
        "5. class:\n",
        " - Iris Setosa\n",
        " - Iris Versicolour\n",
        " - Iris Virginica"
      ],
      "metadata": {
        "id": "BQkUXMFXWt2k"
      }
    },
    {
      "cell_type": "code",
      "source": [
        "iris_data = load_iris() # load the iris dataset"
      ],
      "metadata": {
        "id": "We6FMhEUXJIY"
      },
      "execution_count": 3,
      "outputs": []
    },
    {
      "cell_type": "code",
      "source": [
        "print(iris_data.keys())"
      ],
      "metadata": {
        "colab": {
          "base_uri": "https://localhost:8080/"
        },
        "id": "Yu9qegAPXtSC",
        "outputId": "16623ab8-7ca1-4e52-9b64-c1364950cbcb"
      },
      "execution_count": 4,
      "outputs": [
        {
          "output_type": "stream",
          "name": "stdout",
          "text": [
            "dict_keys(['data', 'target', 'frame', 'target_names', 'DESCR', 'feature_names', 'filename', 'data_module'])\n"
          ]
        }
      ]
    },
    {
      "cell_type": "code",
      "source": [
        "iris_data.data[0]"
      ],
      "metadata": {
        "colab": {
          "base_uri": "https://localhost:8080/"
        },
        "id": "etGOGLyfXzS7",
        "outputId": "d2c2e7da-6c35-44ae-d1d4-9369397c855b"
      },
      "execution_count": 5,
      "outputs": [
        {
          "output_type": "execute_result",
          "data": {
            "text/plain": [
              "array([5.1, 3.5, 1.4, 0.2])"
            ]
          },
          "metadata": {},
          "execution_count": 5
        }
      ]
    },
    {
      "cell_type": "code",
      "source": [
        "iris_data.target[0]"
      ],
      "metadata": {
        "colab": {
          "base_uri": "https://localhost:8080/"
        },
        "id": "2OIv3F9DX3dH",
        "outputId": "2dbbf230-c730-4f97-e96a-9a03bd7e6248"
      },
      "execution_count": 6,
      "outputs": [
        {
          "output_type": "execute_result",
          "data": {
            "text/plain": [
              "0"
            ]
          },
          "metadata": {},
          "execution_count": 6
        }
      ]
    },
    {
      "cell_type": "code",
      "source": [
        "iris_data.feature_names"
      ],
      "metadata": {
        "colab": {
          "base_uri": "https://localhost:8080/"
        },
        "id": "tDFWcqQRX7TK",
        "outputId": "19f8f214-5145-4d40-e13b-daeb4e947005"
      },
      "execution_count": 7,
      "outputs": [
        {
          "output_type": "execute_result",
          "data": {
            "text/plain": [
              "['sepal length (cm)',\n",
              " 'sepal width (cm)',\n",
              " 'petal length (cm)',\n",
              " 'petal width (cm)']"
            ]
          },
          "metadata": {},
          "execution_count": 7
        }
      ]
    },
    {
      "cell_type": "code",
      "source": [
        "iris_data.target_names"
      ],
      "metadata": {
        "colab": {
          "base_uri": "https://localhost:8080/"
        },
        "id": "nR3Fd807X9r7",
        "outputId": "bfc55d60-ce5b-4ef9-aadf-1dc12aeebbef"
      },
      "execution_count": 8,
      "outputs": [
        {
          "output_type": "execute_result",
          "data": {
            "text/plain": [
              "array(['setosa', 'versicolor', 'virginica'], dtype='<U10')"
            ]
          },
          "metadata": {},
          "execution_count": 8
        }
      ]
    },
    {
      "cell_type": "code",
      "source": [
        "print(len(iris_data.data))\n",
        "\n",
        "# x > 150*4\n",
        "# y > (150,)\n",
        "\n",
        "x = np.array(iris_data.data)\n",
        "y = np.array(iris_data.target)\n",
        "\n",
        "print(x.shape, y.shape, x[0])"
      ],
      "metadata": {
        "colab": {
          "base_uri": "https://localhost:8080/"
        },
        "id": "BK6WKOzXYGKZ",
        "outputId": "043b0fe1-e7d0-44da-f32c-c56c1aa9eaeb"
      },
      "execution_count": 9,
      "outputs": [
        {
          "output_type": "stream",
          "name": "stdout",
          "text": [
            "150\n",
            "(150, 4) (150,) [5.1 3.5 1.4 0.2]\n"
          ]
        }
      ]
    },
    {
      "cell_type": "code",
      "source": [
        "# y must be one hot > 150*3\n",
        "y = keras.utils.to_categorical(y, num_classes=3)\n",
        "\n",
        "print(y.shape)"
      ],
      "metadata": {
        "colab": {
          "base_uri": "https://localhost:8080/"
        },
        "id": "HfhnEos0Yw6U",
        "outputId": "c3391d34-34db-4d2c-9f80-2f8cc9b4c725"
      },
      "execution_count": 10,
      "outputs": [
        {
          "output_type": "stream",
          "name": "stdout",
          "text": [
            "(150, 3)\n"
          ]
        }
      ]
    },
    {
      "cell_type": "code",
      "execution_count": 11,
      "metadata": {
        "id": "h4StnpR5WfDO",
        "colab": {
          "base_uri": "https://localhost:8080/"
        },
        "outputId": "94a7344c-5da0-4e41-ae31-338e2ba318fe"
      },
      "outputs": [
        {
          "output_type": "stream",
          "name": "stdout",
          "text": [
            "(120, 4) (30, 4)\n"
          ]
        }
      ],
      "source": [
        "# Split the data for training and testing\n",
        "train_x, test_x, train_y, test_y = train_test_split(x, y, test_size=0.2)\n",
        "\n",
        "print(train_x.shape, test_x.shape)"
      ]
    },
    {
      "cell_type": "markdown",
      "source": [
        "# Pandas Example"
      ],
      "metadata": {
        "id": "TNBAKvXUcrVI"
      }
    },
    {
      "cell_type": "code",
      "source": [
        "import pandas as pd\n",
        "\n",
        "df = pd.DataFrame(iris_data.data, columns=iris_data.feature_names)\n",
        "df[\"target\"] = iris_data.target\n",
        "df[\"target_name\"] = df[\"target\"].map(lambda x: iris_data.target_names[x])\n",
        "\n",
        "# we consider we have this df\n",
        "df = pd.get_dummies(df,columns=[\"target_name\"], prefix=[\"\"])\n",
        "\n",
        "df"
      ],
      "metadata": {
        "colab": {
          "base_uri": "https://localhost:8080/",
          "height": 558
        },
        "id": "p-IEBV98abWm",
        "outputId": "28685567-b8bd-4dc2-bf7a-d06833afb42a"
      },
      "execution_count": 12,
      "outputs": [
        {
          "output_type": "execute_result",
          "data": {
            "text/plain": [
              "     sepal length (cm)  sepal width (cm)  petal length (cm)  petal width (cm)  \\\n",
              "0                  5.1               3.5                1.4               0.2   \n",
              "1                  4.9               3.0                1.4               0.2   \n",
              "2                  4.7               3.2                1.3               0.2   \n",
              "3                  4.6               3.1                1.5               0.2   \n",
              "4                  5.0               3.6                1.4               0.2   \n",
              "..                 ...               ...                ...               ...   \n",
              "145                6.7               3.0                5.2               2.3   \n",
              "146                6.3               2.5                5.0               1.9   \n",
              "147                6.5               3.0                5.2               2.0   \n",
              "148                6.2               3.4                5.4               2.3   \n",
              "149                5.9               3.0                5.1               1.8   \n",
              "\n",
              "     target  _setosa  _versicolor  _virginica  \n",
              "0         0        1            0           0  \n",
              "1         0        1            0           0  \n",
              "2         0        1            0           0  \n",
              "3         0        1            0           0  \n",
              "4         0        1            0           0  \n",
              "..      ...      ...          ...         ...  \n",
              "145       2        0            0           1  \n",
              "146       2        0            0           1  \n",
              "147       2        0            0           1  \n",
              "148       2        0            0           1  \n",
              "149       2        0            0           1  \n",
              "\n",
              "[150 rows x 8 columns]"
            ],
            "text/html": [
              "\n",
              "  <div id=\"df-66e4c29c-ce55-49c2-9bb6-a06432993b2a\">\n",
              "    <div class=\"colab-df-container\">\n",
              "      <div>\n",
              "<style scoped>\n",
              "    .dataframe tbody tr th:only-of-type {\n",
              "        vertical-align: middle;\n",
              "    }\n",
              "\n",
              "    .dataframe tbody tr th {\n",
              "        vertical-align: top;\n",
              "    }\n",
              "\n",
              "    .dataframe thead th {\n",
              "        text-align: right;\n",
              "    }\n",
              "</style>\n",
              "<table border=\"1\" class=\"dataframe\">\n",
              "  <thead>\n",
              "    <tr style=\"text-align: right;\">\n",
              "      <th></th>\n",
              "      <th>sepal length (cm)</th>\n",
              "      <th>sepal width (cm)</th>\n",
              "      <th>petal length (cm)</th>\n",
              "      <th>petal width (cm)</th>\n",
              "      <th>target</th>\n",
              "      <th>_setosa</th>\n",
              "      <th>_versicolor</th>\n",
              "      <th>_virginica</th>\n",
              "    </tr>\n",
              "  </thead>\n",
              "  <tbody>\n",
              "    <tr>\n",
              "      <th>0</th>\n",
              "      <td>5.1</td>\n",
              "      <td>3.5</td>\n",
              "      <td>1.4</td>\n",
              "      <td>0.2</td>\n",
              "      <td>0</td>\n",
              "      <td>1</td>\n",
              "      <td>0</td>\n",
              "      <td>0</td>\n",
              "    </tr>\n",
              "    <tr>\n",
              "      <th>1</th>\n",
              "      <td>4.9</td>\n",
              "      <td>3.0</td>\n",
              "      <td>1.4</td>\n",
              "      <td>0.2</td>\n",
              "      <td>0</td>\n",
              "      <td>1</td>\n",
              "      <td>0</td>\n",
              "      <td>0</td>\n",
              "    </tr>\n",
              "    <tr>\n",
              "      <th>2</th>\n",
              "      <td>4.7</td>\n",
              "      <td>3.2</td>\n",
              "      <td>1.3</td>\n",
              "      <td>0.2</td>\n",
              "      <td>0</td>\n",
              "      <td>1</td>\n",
              "      <td>0</td>\n",
              "      <td>0</td>\n",
              "    </tr>\n",
              "    <tr>\n",
              "      <th>3</th>\n",
              "      <td>4.6</td>\n",
              "      <td>3.1</td>\n",
              "      <td>1.5</td>\n",
              "      <td>0.2</td>\n",
              "      <td>0</td>\n",
              "      <td>1</td>\n",
              "      <td>0</td>\n",
              "      <td>0</td>\n",
              "    </tr>\n",
              "    <tr>\n",
              "      <th>4</th>\n",
              "      <td>5.0</td>\n",
              "      <td>3.6</td>\n",
              "      <td>1.4</td>\n",
              "      <td>0.2</td>\n",
              "      <td>0</td>\n",
              "      <td>1</td>\n",
              "      <td>0</td>\n",
              "      <td>0</td>\n",
              "    </tr>\n",
              "    <tr>\n",
              "      <th>...</th>\n",
              "      <td>...</td>\n",
              "      <td>...</td>\n",
              "      <td>...</td>\n",
              "      <td>...</td>\n",
              "      <td>...</td>\n",
              "      <td>...</td>\n",
              "      <td>...</td>\n",
              "      <td>...</td>\n",
              "    </tr>\n",
              "    <tr>\n",
              "      <th>145</th>\n",
              "      <td>6.7</td>\n",
              "      <td>3.0</td>\n",
              "      <td>5.2</td>\n",
              "      <td>2.3</td>\n",
              "      <td>2</td>\n",
              "      <td>0</td>\n",
              "      <td>0</td>\n",
              "      <td>1</td>\n",
              "    </tr>\n",
              "    <tr>\n",
              "      <th>146</th>\n",
              "      <td>6.3</td>\n",
              "      <td>2.5</td>\n",
              "      <td>5.0</td>\n",
              "      <td>1.9</td>\n",
              "      <td>2</td>\n",
              "      <td>0</td>\n",
              "      <td>0</td>\n",
              "      <td>1</td>\n",
              "    </tr>\n",
              "    <tr>\n",
              "      <th>147</th>\n",
              "      <td>6.5</td>\n",
              "      <td>3.0</td>\n",
              "      <td>5.2</td>\n",
              "      <td>2.0</td>\n",
              "      <td>2</td>\n",
              "      <td>0</td>\n",
              "      <td>0</td>\n",
              "      <td>1</td>\n",
              "    </tr>\n",
              "    <tr>\n",
              "      <th>148</th>\n",
              "      <td>6.2</td>\n",
              "      <td>3.4</td>\n",
              "      <td>5.4</td>\n",
              "      <td>2.3</td>\n",
              "      <td>2</td>\n",
              "      <td>0</td>\n",
              "      <td>0</td>\n",
              "      <td>1</td>\n",
              "    </tr>\n",
              "    <tr>\n",
              "      <th>149</th>\n",
              "      <td>5.9</td>\n",
              "      <td>3.0</td>\n",
              "      <td>5.1</td>\n",
              "      <td>1.8</td>\n",
              "      <td>2</td>\n",
              "      <td>0</td>\n",
              "      <td>0</td>\n",
              "      <td>1</td>\n",
              "    </tr>\n",
              "  </tbody>\n",
              "</table>\n",
              "<p>150 rows × 8 columns</p>\n",
              "</div>\n",
              "      <button class=\"colab-df-convert\" onclick=\"convertToInteractive('df-66e4c29c-ce55-49c2-9bb6-a06432993b2a')\"\n",
              "              title=\"Convert this dataframe to an interactive table.\"\n",
              "              style=\"display:none;\">\n",
              "        \n",
              "  <svg xmlns=\"http://www.w3.org/2000/svg\" height=\"24px\"viewBox=\"0 0 24 24\"\n",
              "       width=\"24px\">\n",
              "    <path d=\"M0 0h24v24H0V0z\" fill=\"none\"/>\n",
              "    <path d=\"M18.56 5.44l.94 2.06.94-2.06 2.06-.94-2.06-.94-.94-2.06-.94 2.06-2.06.94zm-11 1L8.5 8.5l.94-2.06 2.06-.94-2.06-.94L8.5 2.5l-.94 2.06-2.06.94zm10 10l.94 2.06.94-2.06 2.06-.94-2.06-.94-.94-2.06-.94 2.06-2.06.94z\"/><path d=\"M17.41 7.96l-1.37-1.37c-.4-.4-.92-.59-1.43-.59-.52 0-1.04.2-1.43.59L10.3 9.45l-7.72 7.72c-.78.78-.78 2.05 0 2.83L4 21.41c.39.39.9.59 1.41.59.51 0 1.02-.2 1.41-.59l7.78-7.78 2.81-2.81c.8-.78.8-2.07 0-2.86zM5.41 20L4 18.59l7.72-7.72 1.47 1.35L5.41 20z\"/>\n",
              "  </svg>\n",
              "      </button>\n",
              "      \n",
              "  <style>\n",
              "    .colab-df-container {\n",
              "      display:flex;\n",
              "      flex-wrap:wrap;\n",
              "      gap: 12px;\n",
              "    }\n",
              "\n",
              "    .colab-df-convert {\n",
              "      background-color: #E8F0FE;\n",
              "      border: none;\n",
              "      border-radius: 50%;\n",
              "      cursor: pointer;\n",
              "      display: none;\n",
              "      fill: #1967D2;\n",
              "      height: 32px;\n",
              "      padding: 0 0 0 0;\n",
              "      width: 32px;\n",
              "    }\n",
              "\n",
              "    .colab-df-convert:hover {\n",
              "      background-color: #E2EBFA;\n",
              "      box-shadow: 0px 1px 2px rgba(60, 64, 67, 0.3), 0px 1px 3px 1px rgba(60, 64, 67, 0.15);\n",
              "      fill: #174EA6;\n",
              "    }\n",
              "\n",
              "    [theme=dark] .colab-df-convert {\n",
              "      background-color: #3B4455;\n",
              "      fill: #D2E3FC;\n",
              "    }\n",
              "\n",
              "    [theme=dark] .colab-df-convert:hover {\n",
              "      background-color: #434B5C;\n",
              "      box-shadow: 0px 1px 3px 1px rgba(0, 0, 0, 0.15);\n",
              "      filter: drop-shadow(0px 1px 2px rgba(0, 0, 0, 0.3));\n",
              "      fill: #FFFFFF;\n",
              "    }\n",
              "  </style>\n",
              "\n",
              "      <script>\n",
              "        const buttonEl =\n",
              "          document.querySelector('#df-66e4c29c-ce55-49c2-9bb6-a06432993b2a button.colab-df-convert');\n",
              "        buttonEl.style.display =\n",
              "          google.colab.kernel.accessAllowed ? 'block' : 'none';\n",
              "\n",
              "        async function convertToInteractive(key) {\n",
              "          const element = document.querySelector('#df-66e4c29c-ce55-49c2-9bb6-a06432993b2a');\n",
              "          const dataTable =\n",
              "            await google.colab.kernel.invokeFunction('convertToInteractive',\n",
              "                                                     [key], {});\n",
              "          if (!dataTable) return;\n",
              "\n",
              "          const docLinkHtml = 'Like what you see? Visit the ' +\n",
              "            '<a target=\"_blank\" href=https://colab.research.google.com/notebooks/data_table.ipynb>data table notebook</a>'\n",
              "            + ' to learn more about interactive tables.';\n",
              "          element.innerHTML = '';\n",
              "          dataTable['output_type'] = 'display_data';\n",
              "          await google.colab.output.renderOutput(dataTable, element);\n",
              "          const docLink = document.createElement('div');\n",
              "          docLink.innerHTML = docLinkHtml;\n",
              "          element.appendChild(docLink);\n",
              "        }\n",
              "      </script>\n",
              "    </div>\n",
              "  </div>\n",
              "  "
            ]
          },
          "metadata": {},
          "execution_count": 12
        }
      ]
    },
    {
      "cell_type": "code",
      "source": [
        "x_df = df[[\"sepal length (cm)\",\"sepal width (cm)\",\"petal length (cm)\",\"petal width (cm)\"]]\n",
        "print(x_df.shape, np.sum(np.sum(x==x_df)))\n",
        "\n",
        "y_df = df[[\"_setosa\", \"_versicolor\", \"_virginica\"]]\n",
        "print(y_df.shape, np.sum(np.sum(y==y_df)))\n"
      ],
      "metadata": {
        "colab": {
          "base_uri": "https://localhost:8080/"
        },
        "id": "SpUfJ3HEcxSq",
        "outputId": "7aea98f8-5bf8-4b42-db9e-75e498164070"
      },
      "execution_count": 13,
      "outputs": [
        {
          "output_type": "stream",
          "name": "stdout",
          "text": [
            "(150, 4) 600\n",
            "(150, 3) 450\n"
          ]
        }
      ]
    },
    {
      "cell_type": "markdown",
      "source": [
        "# Build Model & Train"
      ],
      "metadata": {
        "id": "zQKj_nXLuD7O"
      }
    },
    {
      "cell_type": "code",
      "execution_count": 19,
      "metadata": {
        "id": "Zrqo-chOWfDP"
      },
      "outputs": [],
      "source": [
        "# Build the model\n",
        "model = model = Sequential() \n",
        "# we have 4 features\n",
        "model.add(Dense(10, activation='relu', input_dim=4))\n",
        "model.add(Dense(10, activation='relu'))\n",
        "model.add(Dropout(0.5))\n",
        "model.add(Dense(3, activation='softmax'))"
      ]
    },
    {
      "cell_type": "code",
      "execution_count": 20,
      "metadata": {
        "id": "jR0rkuzcWfDQ",
        "outputId": "7ae57cae-2ece-41f3-b167-f58f78336106",
        "colab": {
          "base_uri": "https://localhost:8080/"
        }
      },
      "outputs": [
        {
          "output_type": "stream",
          "name": "stdout",
          "text": [
            "Model: \"sequential_2\"\n",
            "_________________________________________________________________\n",
            " Layer (type)                Output Shape              Param #   \n",
            "=================================================================\n",
            " dense_6 (Dense)             (None, 10)                50        \n",
            "                                                                 \n",
            " dense_7 (Dense)             (None, 10)                110       \n",
            "                                                                 \n",
            " dropout_2 (Dropout)         (None, 10)                0         \n",
            "                                                                 \n",
            " dense_8 (Dense)             (None, 3)                 33        \n",
            "                                                                 \n",
            "=================================================================\n",
            "Total params: 193\n",
            "Trainable params: 193\n",
            "Non-trainable params: 0\n",
            "_________________________________________________________________\n"
          ]
        }
      ],
      "source": [
        "model.summary()"
      ]
    },
    {
      "cell_type": "code",
      "execution_count": 21,
      "metadata": {
        "id": "wXtGdEGlWfDQ",
        "colab": {
          "base_uri": "https://localhost:8080/"
        },
        "outputId": "6f477122-6f1b-493a-8022-1af70455b3c6"
      },
      "outputs": [
        {
          "output_type": "stream",
          "name": "stderr",
          "text": [
            "WARNING:absl:`lr` is deprecated in Keras optimizer, please use `learning_rate` or use the legacy optimizer, e.g.,tf.keras.optimizers.legacy.Adam.\n"
          ]
        }
      ],
      "source": [
        "# Adam optimizer with learning rate of 0.001\n",
        "optimizer = Adam(lr=0.001)\n",
        "model.compile(optimizer, loss='categorical_crossentropy', metrics=['accuracy'])"
      ]
    },
    {
      "cell_type": "code",
      "execution_count": 22,
      "metadata": {
        "id": "qUIxrWuYWfDR",
        "outputId": "e863c84f-89e4-4da2-d91a-05ec115d5d7d",
        "colab": {
          "base_uri": "https://localhost:8080/"
        }
      },
      "outputs": [
        {
          "output_type": "stream",
          "name": "stdout",
          "text": [
            "Epoch 1/200\n",
            "24/24 [==============================] - 2s 2ms/step - loss: 1.3056 - accuracy: 0.4250\n",
            "Epoch 2/200\n",
            "24/24 [==============================] - 0s 2ms/step - loss: 1.0835 - accuracy: 0.4083\n",
            "Epoch 3/200\n",
            "24/24 [==============================] - 0s 2ms/step - loss: 1.0715 - accuracy: 0.4083\n",
            "Epoch 4/200\n",
            "24/24 [==============================] - 0s 2ms/step - loss: 0.9793 - accuracy: 0.4667\n",
            "Epoch 5/200\n",
            "24/24 [==============================] - 0s 2ms/step - loss: 0.9407 - accuracy: 0.4833\n",
            "Epoch 6/200\n",
            "24/24 [==============================] - 0s 2ms/step - loss: 0.9249 - accuracy: 0.5083\n",
            "Epoch 7/200\n",
            "24/24 [==============================] - 0s 2ms/step - loss: 0.8583 - accuracy: 0.5500\n",
            "Epoch 8/200\n",
            "24/24 [==============================] - 0s 2ms/step - loss: 0.9052 - accuracy: 0.5000\n",
            "Epoch 9/200\n",
            "24/24 [==============================] - 0s 2ms/step - loss: 0.7910 - accuracy: 0.6000\n",
            "Epoch 10/200\n",
            "24/24 [==============================] - 0s 2ms/step - loss: 0.8209 - accuracy: 0.5083\n",
            "Epoch 11/200\n",
            "24/24 [==============================] - 0s 3ms/step - loss: 0.8021 - accuracy: 0.5333\n",
            "Epoch 12/200\n",
            "24/24 [==============================] - 0s 2ms/step - loss: 0.7668 - accuracy: 0.6000\n",
            "Epoch 13/200\n",
            "24/24 [==============================] - 0s 2ms/step - loss: 0.7425 - accuracy: 0.6167\n",
            "Epoch 14/200\n",
            "24/24 [==============================] - 0s 2ms/step - loss: 0.7215 - accuracy: 0.6167\n",
            "Epoch 15/200\n",
            "24/24 [==============================] - 0s 2ms/step - loss: 0.7182 - accuracy: 0.6333\n",
            "Epoch 16/200\n",
            "24/24 [==============================] - 0s 2ms/step - loss: 0.7024 - accuracy: 0.6333\n",
            "Epoch 17/200\n",
            "24/24 [==============================] - 0s 3ms/step - loss: 0.6756 - accuracy: 0.6750\n",
            "Epoch 18/200\n",
            "24/24 [==============================] - 0s 3ms/step - loss: 0.6847 - accuracy: 0.7417\n",
            "Epoch 19/200\n",
            "24/24 [==============================] - 0s 3ms/step - loss: 0.6480 - accuracy: 0.6917\n",
            "Epoch 20/200\n",
            "24/24 [==============================] - 0s 3ms/step - loss: 0.6640 - accuracy: 0.7333\n",
            "Epoch 21/200\n",
            "24/24 [==============================] - 0s 3ms/step - loss: 0.5872 - accuracy: 0.7417\n",
            "Epoch 22/200\n",
            "24/24 [==============================] - 0s 3ms/step - loss: 0.6550 - accuracy: 0.7750\n",
            "Epoch 23/200\n",
            "24/24 [==============================] - 0s 3ms/step - loss: 0.5852 - accuracy: 0.8000\n",
            "Epoch 24/200\n",
            "24/24 [==============================] - 0s 3ms/step - loss: 0.5852 - accuracy: 0.8167\n",
            "Epoch 25/200\n",
            "24/24 [==============================] - 0s 4ms/step - loss: 0.5357 - accuracy: 0.8583\n",
            "Epoch 26/200\n",
            "24/24 [==============================] - 0s 3ms/step - loss: 0.6263 - accuracy: 0.7083\n",
            "Epoch 27/200\n",
            "24/24 [==============================] - 0s 3ms/step - loss: 0.5616 - accuracy: 0.8083\n",
            "Epoch 28/200\n",
            "24/24 [==============================] - 0s 3ms/step - loss: 0.5292 - accuracy: 0.8417\n",
            "Epoch 29/200\n",
            "24/24 [==============================] - 0s 3ms/step - loss: 0.5762 - accuracy: 0.8250\n",
            "Epoch 30/200\n",
            "24/24 [==============================] - 0s 3ms/step - loss: 0.5852 - accuracy: 0.7417\n",
            "Epoch 31/200\n",
            "24/24 [==============================] - 0s 3ms/step - loss: 0.5963 - accuracy: 0.7500\n",
            "Epoch 32/200\n",
            "24/24 [==============================] - 0s 3ms/step - loss: 0.5585 - accuracy: 0.7833\n",
            "Epoch 33/200\n",
            "24/24 [==============================] - 0s 3ms/step - loss: 0.5244 - accuracy: 0.8333\n",
            "Epoch 34/200\n",
            "24/24 [==============================] - 0s 3ms/step - loss: 0.5852 - accuracy: 0.7667\n",
            "Epoch 35/200\n",
            "24/24 [==============================] - 0s 3ms/step - loss: 0.5542 - accuracy: 0.7750\n",
            "Epoch 36/200\n",
            "24/24 [==============================] - 0s 3ms/step - loss: 0.5031 - accuracy: 0.8083\n",
            "Epoch 37/200\n",
            "24/24 [==============================] - 0s 3ms/step - loss: 0.4876 - accuracy: 0.8500\n",
            "Epoch 38/200\n",
            "24/24 [==============================] - 0s 3ms/step - loss: 0.5180 - accuracy: 0.8250\n",
            "Epoch 39/200\n",
            "24/24 [==============================] - 0s 3ms/step - loss: 0.4861 - accuracy: 0.8000\n",
            "Epoch 40/200\n",
            "24/24 [==============================] - 0s 3ms/step - loss: 0.5171 - accuracy: 0.7917\n",
            "Epoch 41/200\n",
            "24/24 [==============================] - 0s 4ms/step - loss: 0.4756 - accuracy: 0.8167\n",
            "Epoch 42/200\n",
            "24/24 [==============================] - 0s 3ms/step - loss: 0.4572 - accuracy: 0.8250\n",
            "Epoch 43/200\n",
            "24/24 [==============================] - 0s 3ms/step - loss: 0.4448 - accuracy: 0.8333\n",
            "Epoch 44/200\n",
            "24/24 [==============================] - 0s 3ms/step - loss: 0.4812 - accuracy: 0.8333\n",
            "Epoch 45/200\n",
            "24/24 [==============================] - 0s 3ms/step - loss: 0.3968 - accuracy: 0.8583\n",
            "Epoch 46/200\n",
            "24/24 [==============================] - 0s 3ms/step - loss: 0.4113 - accuracy: 0.8333\n",
            "Epoch 47/200\n",
            "24/24 [==============================] - 0s 3ms/step - loss: 0.4144 - accuracy: 0.8500\n",
            "Epoch 48/200\n",
            "24/24 [==============================] - 0s 3ms/step - loss: 0.4450 - accuracy: 0.8333\n",
            "Epoch 49/200\n",
            "24/24 [==============================] - 0s 3ms/step - loss: 0.4686 - accuracy: 0.7917\n",
            "Epoch 50/200\n",
            "24/24 [==============================] - 0s 3ms/step - loss: 0.4646 - accuracy: 0.8083\n",
            "Epoch 51/200\n",
            "24/24 [==============================] - 0s 3ms/step - loss: 0.3846 - accuracy: 0.8333\n",
            "Epoch 52/200\n",
            "24/24 [==============================] - 0s 3ms/step - loss: 0.4669 - accuracy: 0.7917\n",
            "Epoch 53/200\n",
            "24/24 [==============================] - 0s 3ms/step - loss: 0.3965 - accuracy: 0.8583\n",
            "Epoch 54/200\n",
            "24/24 [==============================] - 0s 3ms/step - loss: 0.4323 - accuracy: 0.8333\n",
            "Epoch 55/200\n",
            "24/24 [==============================] - 0s 3ms/step - loss: 0.4235 - accuracy: 0.8000\n",
            "Epoch 56/200\n",
            "24/24 [==============================] - 0s 3ms/step - loss: 0.3697 - accuracy: 0.8500\n",
            "Epoch 57/200\n",
            "24/24 [==============================] - 0s 3ms/step - loss: 0.4170 - accuracy: 0.8250\n",
            "Epoch 58/200\n",
            "24/24 [==============================] - 0s 3ms/step - loss: 0.3468 - accuracy: 0.8750\n",
            "Epoch 59/200\n",
            "24/24 [==============================] - 0s 3ms/step - loss: 0.3815 - accuracy: 0.8250\n",
            "Epoch 60/200\n",
            "24/24 [==============================] - 0s 4ms/step - loss: 0.4441 - accuracy: 0.7833\n",
            "Epoch 61/200\n",
            "24/24 [==============================] - 0s 3ms/step - loss: 0.4357 - accuracy: 0.8417\n",
            "Epoch 62/200\n",
            "24/24 [==============================] - 0s 3ms/step - loss: 0.4532 - accuracy: 0.8250\n",
            "Epoch 63/200\n",
            "24/24 [==============================] - 0s 3ms/step - loss: 0.3545 - accuracy: 0.8667\n",
            "Epoch 64/200\n",
            "24/24 [==============================] - 0s 3ms/step - loss: 0.4124 - accuracy: 0.8250\n",
            "Epoch 65/200\n",
            "24/24 [==============================] - 0s 3ms/step - loss: 0.4584 - accuracy: 0.7750\n",
            "Epoch 66/200\n",
            "24/24 [==============================] - 0s 2ms/step - loss: 0.4356 - accuracy: 0.8333\n",
            "Epoch 67/200\n",
            "24/24 [==============================] - 0s 2ms/step - loss: 0.3886 - accuracy: 0.8417\n",
            "Epoch 68/200\n",
            "24/24 [==============================] - 0s 2ms/step - loss: 0.3380 - accuracy: 0.8750\n",
            "Epoch 69/200\n",
            "24/24 [==============================] - 0s 2ms/step - loss: 0.3555 - accuracy: 0.8417\n",
            "Epoch 70/200\n",
            "24/24 [==============================] - 0s 2ms/step - loss: 0.3826 - accuracy: 0.8333\n",
            "Epoch 71/200\n",
            "24/24 [==============================] - 0s 2ms/step - loss: 0.3339 - accuracy: 0.8583\n",
            "Epoch 72/200\n",
            "24/24 [==============================] - 0s 2ms/step - loss: 0.3786 - accuracy: 0.8500\n",
            "Epoch 73/200\n",
            "24/24 [==============================] - 0s 2ms/step - loss: 0.3808 - accuracy: 0.8417\n",
            "Epoch 74/200\n",
            "24/24 [==============================] - 0s 2ms/step - loss: 0.3427 - accuracy: 0.8667\n",
            "Epoch 75/200\n",
            "24/24 [==============================] - 0s 2ms/step - loss: 0.4189 - accuracy: 0.8417\n",
            "Epoch 76/200\n",
            "24/24 [==============================] - 0s 2ms/step - loss: 0.3852 - accuracy: 0.8333\n",
            "Epoch 77/200\n",
            "24/24 [==============================] - 0s 2ms/step - loss: 0.3933 - accuracy: 0.8500\n",
            "Epoch 78/200\n",
            "24/24 [==============================] - 0s 2ms/step - loss: 0.3486 - accuracy: 0.8583\n",
            "Epoch 79/200\n",
            "24/24 [==============================] - 0s 2ms/step - loss: 0.3618 - accuracy: 0.8583\n",
            "Epoch 80/200\n",
            "24/24 [==============================] - 0s 2ms/step - loss: 0.3819 - accuracy: 0.8500\n",
            "Epoch 81/200\n",
            "24/24 [==============================] - 0s 2ms/step - loss: 0.3445 - accuracy: 0.8750\n",
            "Epoch 82/200\n",
            "24/24 [==============================] - 0s 2ms/step - loss: 0.4483 - accuracy: 0.7667\n",
            "Epoch 83/200\n",
            "24/24 [==============================] - 0s 3ms/step - loss: 0.3822 - accuracy: 0.8167\n",
            "Epoch 84/200\n",
            "24/24 [==============================] - 0s 2ms/step - loss: 0.3387 - accuracy: 0.8750\n",
            "Epoch 85/200\n",
            "24/24 [==============================] - 0s 2ms/step - loss: 0.3984 - accuracy: 0.8167\n",
            "Epoch 86/200\n",
            "24/24 [==============================] - 0s 2ms/step - loss: 0.3752 - accuracy: 0.8583\n",
            "Epoch 87/200\n",
            "24/24 [==============================] - 0s 2ms/step - loss: 0.4073 - accuracy: 0.8250\n",
            "Epoch 88/200\n",
            "24/24 [==============================] - 0s 2ms/step - loss: 0.3685 - accuracy: 0.8333\n",
            "Epoch 89/200\n",
            "24/24 [==============================] - 0s 3ms/step - loss: 0.3748 - accuracy: 0.8500\n",
            "Epoch 90/200\n",
            "24/24 [==============================] - 0s 2ms/step - loss: 0.2313 - accuracy: 0.9250\n",
            "Epoch 91/200\n",
            "24/24 [==============================] - 0s 2ms/step - loss: 0.3445 - accuracy: 0.8667\n",
            "Epoch 92/200\n",
            "24/24 [==============================] - 0s 2ms/step - loss: 0.3415 - accuracy: 0.8583\n",
            "Epoch 93/200\n",
            "24/24 [==============================] - 0s 2ms/step - loss: 0.3546 - accuracy: 0.8583\n",
            "Epoch 94/200\n",
            "24/24 [==============================] - 0s 2ms/step - loss: 0.3560 - accuracy: 0.8500\n",
            "Epoch 95/200\n",
            "24/24 [==============================] - 0s 2ms/step - loss: 0.3481 - accuracy: 0.8417\n",
            "Epoch 96/200\n",
            "24/24 [==============================] - 0s 2ms/step - loss: 0.3893 - accuracy: 0.8250\n",
            "Epoch 97/200\n",
            "24/24 [==============================] - 0s 2ms/step - loss: 0.3339 - accuracy: 0.8667\n",
            "Epoch 98/200\n",
            "24/24 [==============================] - 0s 2ms/step - loss: 0.3059 - accuracy: 0.8917\n",
            "Epoch 99/200\n",
            "24/24 [==============================] - 0s 2ms/step - loss: 0.3225 - accuracy: 0.8667\n",
            "Epoch 100/200\n",
            "24/24 [==============================] - 0s 2ms/step - loss: 0.2804 - accuracy: 0.8750\n",
            "Epoch 101/200\n",
            "24/24 [==============================] - 0s 2ms/step - loss: 0.3404 - accuracy: 0.8667\n",
            "Epoch 102/200\n",
            "24/24 [==============================] - 0s 3ms/step - loss: 0.2816 - accuracy: 0.8833\n",
            "Epoch 103/200\n",
            "24/24 [==============================] - 0s 2ms/step - loss: 0.3183 - accuracy: 0.8750\n",
            "Epoch 104/200\n",
            "24/24 [==============================] - 0s 2ms/step - loss: 0.3575 - accuracy: 0.8500\n",
            "Epoch 105/200\n",
            "24/24 [==============================] - 0s 2ms/step - loss: 0.3833 - accuracy: 0.8333\n",
            "Epoch 106/200\n",
            "24/24 [==============================] - 0s 3ms/step - loss: 0.3114 - accuracy: 0.8833\n",
            "Epoch 107/200\n",
            "24/24 [==============================] - 0s 3ms/step - loss: 0.3306 - accuracy: 0.8750\n",
            "Epoch 108/200\n",
            "24/24 [==============================] - 0s 6ms/step - loss: 0.2924 - accuracy: 0.8750\n",
            "Epoch 109/200\n",
            "24/24 [==============================] - 0s 6ms/step - loss: 0.2941 - accuracy: 0.8917\n",
            "Epoch 110/200\n",
            "24/24 [==============================] - 0s 3ms/step - loss: 0.2816 - accuracy: 0.9000\n",
            "Epoch 111/200\n",
            "24/24 [==============================] - 0s 4ms/step - loss: 0.2784 - accuracy: 0.9083\n",
            "Epoch 112/200\n",
            "24/24 [==============================] - 0s 4ms/step - loss: 0.3341 - accuracy: 0.8667\n",
            "Epoch 113/200\n",
            "24/24 [==============================] - 0s 3ms/step - loss: 0.3035 - accuracy: 0.8750\n",
            "Epoch 114/200\n",
            "24/24 [==============================] - 0s 3ms/step - loss: 0.2971 - accuracy: 0.9083\n",
            "Epoch 115/200\n",
            "24/24 [==============================] - 0s 2ms/step - loss: 0.2998 - accuracy: 0.8667\n",
            "Epoch 116/200\n",
            "24/24 [==============================] - 0s 2ms/step - loss: 0.3156 - accuracy: 0.8750\n",
            "Epoch 117/200\n",
            "24/24 [==============================] - 0s 2ms/step - loss: 0.2962 - accuracy: 0.8833\n",
            "Epoch 118/200\n",
            "24/24 [==============================] - 0s 2ms/step - loss: 0.2865 - accuracy: 0.9000\n",
            "Epoch 119/200\n",
            "24/24 [==============================] - 0s 2ms/step - loss: 0.4023 - accuracy: 0.8167\n",
            "Epoch 120/200\n",
            "24/24 [==============================] - 0s 2ms/step - loss: 0.3231 - accuracy: 0.8833\n",
            "Epoch 121/200\n",
            "24/24 [==============================] - 0s 2ms/step - loss: 0.3083 - accuracy: 0.8917\n",
            "Epoch 122/200\n",
            "24/24 [==============================] - 0s 2ms/step - loss: 0.3446 - accuracy: 0.8750\n",
            "Epoch 123/200\n",
            "24/24 [==============================] - 0s 2ms/step - loss: 0.3694 - accuracy: 0.8667\n",
            "Epoch 124/200\n",
            "24/24 [==============================] - 0s 2ms/step - loss: 0.2524 - accuracy: 0.9167\n",
            "Epoch 125/200\n",
            "24/24 [==============================] - 0s 2ms/step - loss: 0.2717 - accuracy: 0.9333\n",
            "Epoch 126/200\n",
            "24/24 [==============================] - 0s 2ms/step - loss: 0.2917 - accuracy: 0.8833\n",
            "Epoch 127/200\n",
            "24/24 [==============================] - 0s 2ms/step - loss: 0.3406 - accuracy: 0.8750\n",
            "Epoch 128/200\n",
            "24/24 [==============================] - 0s 3ms/step - loss: 0.3172 - accuracy: 0.8583\n",
            "Epoch 129/200\n",
            "24/24 [==============================] - 0s 4ms/step - loss: 0.3040 - accuracy: 0.8667\n",
            "Epoch 130/200\n",
            "24/24 [==============================] - 0s 6ms/step - loss: 0.3146 - accuracy: 0.8750\n",
            "Epoch 131/200\n",
            "24/24 [==============================] - 0s 8ms/step - loss: 0.3479 - accuracy: 0.8250\n",
            "Epoch 132/200\n",
            "24/24 [==============================] - 0s 8ms/step - loss: 0.3160 - accuracy: 0.8750\n",
            "Epoch 133/200\n",
            "24/24 [==============================] - 0s 4ms/step - loss: 0.3234 - accuracy: 0.8500\n",
            "Epoch 134/200\n",
            "24/24 [==============================] - 0s 5ms/step - loss: 0.3014 - accuracy: 0.9000\n",
            "Epoch 135/200\n",
            "24/24 [==============================] - 0s 3ms/step - loss: 0.2845 - accuracy: 0.8583\n",
            "Epoch 136/200\n",
            "24/24 [==============================] - 0s 6ms/step - loss: 0.2547 - accuracy: 0.9083\n",
            "Epoch 137/200\n",
            "24/24 [==============================] - 0s 5ms/step - loss: 0.3653 - accuracy: 0.8417\n",
            "Epoch 138/200\n",
            "24/24 [==============================] - 0s 4ms/step - loss: 0.3003 - accuracy: 0.8583\n",
            "Epoch 139/200\n",
            "24/24 [==============================] - 0s 4ms/step - loss: 0.3147 - accuracy: 0.9083\n",
            "Epoch 140/200\n",
            "24/24 [==============================] - 0s 4ms/step - loss: 0.3225 - accuracy: 0.8583\n",
            "Epoch 141/200\n",
            "24/24 [==============================] - 0s 3ms/step - loss: 0.3010 - accuracy: 0.8917\n",
            "Epoch 142/200\n",
            "24/24 [==============================] - 0s 6ms/step - loss: 0.2970 - accuracy: 0.8833\n",
            "Epoch 143/200\n",
            "24/24 [==============================] - 0s 3ms/step - loss: 0.3199 - accuracy: 0.8583\n",
            "Epoch 144/200\n",
            "24/24 [==============================] - 0s 3ms/step - loss: 0.2660 - accuracy: 0.8917\n",
            "Epoch 145/200\n",
            "24/24 [==============================] - 0s 2ms/step - loss: 0.3182 - accuracy: 0.8750\n",
            "Epoch 146/200\n",
            "24/24 [==============================] - 0s 2ms/step - loss: 0.3193 - accuracy: 0.8667\n",
            "Epoch 147/200\n",
            "24/24 [==============================] - 0s 2ms/step - loss: 0.2523 - accuracy: 0.9000\n",
            "Epoch 148/200\n",
            "24/24 [==============================] - 0s 2ms/step - loss: 0.2867 - accuracy: 0.9250\n",
            "Epoch 149/200\n",
            "24/24 [==============================] - 0s 2ms/step - loss: 0.2218 - accuracy: 0.9167\n",
            "Epoch 150/200\n",
            "24/24 [==============================] - 0s 2ms/step - loss: 0.2988 - accuracy: 0.8750\n",
            "Epoch 151/200\n",
            "24/24 [==============================] - 0s 2ms/step - loss: 0.2615 - accuracy: 0.8833\n",
            "Epoch 152/200\n",
            "24/24 [==============================] - 0s 2ms/step - loss: 0.3005 - accuracy: 0.9000\n",
            "Epoch 153/200\n",
            "24/24 [==============================] - 0s 2ms/step - loss: 0.2973 - accuracy: 0.8750\n",
            "Epoch 154/200\n",
            "24/24 [==============================] - 0s 2ms/step - loss: 0.2742 - accuracy: 0.8917\n",
            "Epoch 155/200\n",
            "24/24 [==============================] - 0s 2ms/step - loss: 0.3391 - accuracy: 0.8333\n",
            "Epoch 156/200\n",
            "24/24 [==============================] - 0s 2ms/step - loss: 0.2831 - accuracy: 0.8917\n",
            "Epoch 157/200\n",
            "24/24 [==============================] - 0s 2ms/step - loss: 0.2379 - accuracy: 0.9000\n",
            "Epoch 158/200\n",
            "24/24 [==============================] - 0s 3ms/step - loss: 0.3762 - accuracy: 0.8417\n",
            "Epoch 159/200\n",
            "24/24 [==============================] - 0s 2ms/step - loss: 0.3250 - accuracy: 0.8667\n",
            "Epoch 160/200\n",
            "24/24 [==============================] - 0s 2ms/step - loss: 0.2965 - accuracy: 0.8500\n",
            "Epoch 161/200\n",
            "24/24 [==============================] - 0s 2ms/step - loss: 0.3450 - accuracy: 0.8500\n",
            "Epoch 162/200\n",
            "24/24 [==============================] - 0s 3ms/step - loss: 0.3182 - accuracy: 0.8833\n",
            "Epoch 163/200\n",
            "24/24 [==============================] - 0s 2ms/step - loss: 0.2780 - accuracy: 0.8917\n",
            "Epoch 164/200\n",
            "24/24 [==============================] - 0s 2ms/step - loss: 0.3342 - accuracy: 0.8417\n",
            "Epoch 165/200\n",
            "24/24 [==============================] - 0s 2ms/step - loss: 0.3206 - accuracy: 0.8750\n",
            "Epoch 166/200\n",
            "24/24 [==============================] - 0s 2ms/step - loss: 0.3510 - accuracy: 0.8583\n",
            "Epoch 167/200\n",
            "24/24 [==============================] - 0s 2ms/step - loss: 0.2597 - accuracy: 0.8917\n",
            "Epoch 168/200\n",
            "24/24 [==============================] - 0s 3ms/step - loss: 0.2796 - accuracy: 0.9000\n",
            "Epoch 169/200\n",
            "24/24 [==============================] - 0s 2ms/step - loss: 0.2588 - accuracy: 0.9167\n",
            "Epoch 170/200\n",
            "24/24 [==============================] - 0s 2ms/step - loss: 0.3092 - accuracy: 0.8917\n",
            "Epoch 171/200\n",
            "24/24 [==============================] - 0s 3ms/step - loss: 0.2337 - accuracy: 0.9083\n",
            "Epoch 172/200\n",
            "24/24 [==============================] - 0s 2ms/step - loss: 0.2766 - accuracy: 0.8833\n",
            "Epoch 173/200\n",
            "24/24 [==============================] - 0s 2ms/step - loss: 0.3364 - accuracy: 0.8250\n",
            "Epoch 174/200\n",
            "24/24 [==============================] - 0s 2ms/step - loss: 0.3183 - accuracy: 0.8500\n",
            "Epoch 175/200\n",
            "24/24 [==============================] - 0s 2ms/step - loss: 0.3430 - accuracy: 0.8500\n",
            "Epoch 176/200\n",
            "24/24 [==============================] - 0s 2ms/step - loss: 0.3184 - accuracy: 0.8583\n",
            "Epoch 177/200\n",
            "24/24 [==============================] - 0s 2ms/step - loss: 0.2702 - accuracy: 0.8917\n",
            "Epoch 178/200\n",
            "24/24 [==============================] - 0s 3ms/step - loss: 0.2974 - accuracy: 0.8750\n",
            "Epoch 179/200\n",
            "24/24 [==============================] - 0s 2ms/step - loss: 0.2156 - accuracy: 0.9250\n",
            "Epoch 180/200\n",
            "24/24 [==============================] - 0s 2ms/step - loss: 0.2050 - accuracy: 0.9083\n",
            "Epoch 181/200\n",
            "24/24 [==============================] - 0s 2ms/step - loss: 0.2768 - accuracy: 0.8500\n",
            "Epoch 182/200\n",
            "24/24 [==============================] - 0s 2ms/step - loss: 0.2865 - accuracy: 0.8667\n",
            "Epoch 183/200\n",
            "24/24 [==============================] - 0s 2ms/step - loss: 0.3354 - accuracy: 0.8417\n",
            "Epoch 184/200\n",
            "24/24 [==============================] - 0s 2ms/step - loss: 0.2650 - accuracy: 0.8583\n",
            "Epoch 185/200\n",
            "24/24 [==============================] - 0s 2ms/step - loss: 0.2796 - accuracy: 0.8833\n",
            "Epoch 186/200\n",
            "24/24 [==============================] - 0s 2ms/step - loss: 0.2272 - accuracy: 0.8833\n",
            "Epoch 187/200\n",
            "24/24 [==============================] - 0s 2ms/step - loss: 0.2513 - accuracy: 0.8917\n",
            "Epoch 188/200\n",
            "24/24 [==============================] - 0s 2ms/step - loss: 0.2154 - accuracy: 0.9083\n",
            "Epoch 189/200\n",
            "24/24 [==============================] - 0s 2ms/step - loss: 0.3351 - accuracy: 0.8500\n",
            "Epoch 190/200\n",
            "24/24 [==============================] - 0s 2ms/step - loss: 0.3158 - accuracy: 0.8667\n",
            "Epoch 191/200\n",
            "24/24 [==============================] - 0s 2ms/step - loss: 0.2996 - accuracy: 0.8500\n",
            "Epoch 192/200\n",
            "24/24 [==============================] - 0s 2ms/step - loss: 0.3370 - accuracy: 0.8333\n",
            "Epoch 193/200\n",
            "24/24 [==============================] - 0s 2ms/step - loss: 0.2543 - accuracy: 0.8917\n",
            "Epoch 194/200\n",
            "24/24 [==============================] - 0s 2ms/step - loss: 0.3293 - accuracy: 0.8667\n",
            "Epoch 195/200\n",
            "24/24 [==============================] - 0s 2ms/step - loss: 0.2834 - accuracy: 0.8750\n",
            "Epoch 196/200\n",
            "24/24 [==============================] - 0s 2ms/step - loss: 0.2522 - accuracy: 0.8917\n",
            "Epoch 197/200\n",
            "24/24 [==============================] - 0s 2ms/step - loss: 0.3620 - accuracy: 0.8250\n",
            "Epoch 198/200\n",
            "24/24 [==============================] - 0s 3ms/step - loss: 0.2816 - accuracy: 0.9083\n",
            "Epoch 199/200\n",
            "24/24 [==============================] - 0s 2ms/step - loss: 0.3076 - accuracy: 0.8583\n",
            "Epoch 200/200\n",
            "24/24 [==============================] - 0s 2ms/step - loss: 0.2672 - accuracy: 0.8750\n"
          ]
        },
        {
          "output_type": "execute_result",
          "data": {
            "text/plain": [
              "<keras.callbacks.History at 0x7f25dd5c3100>"
            ]
          },
          "metadata": {},
          "execution_count": 22
        }
      ],
      "source": [
        "# Train the model\n",
        "model.fit(train_x,train_y,epochs=200,batch_size=5)"
      ]
    },
    {
      "cell_type": "markdown",
      "source": [
        "# Testing"
      ],
      "metadata": {
        "id": "wzYEBc7but2t"
      }
    },
    {
      "cell_type": "code",
      "source": [
        "# FIRT > Test on unseen data\n",
        "results = model.evaluate(test_x, test_y)\n",
        "\n",
        "results"
      ],
      "metadata": {
        "colab": {
          "base_uri": "https://localhost:8080/"
        },
        "id": "Q5gT7FjIuRB0",
        "outputId": "27ca8b5b-8e15-48ca-bbac-4f7ed180308b"
      },
      "execution_count": 23,
      "outputs": [
        {
          "output_type": "stream",
          "name": "stdout",
          "text": [
            "1/1 [==============================] - 0s 433ms/step - loss: 0.0873 - accuracy: 0.9667\n"
          ]
        },
        {
          "output_type": "execute_result",
          "data": {
            "text/plain": [
              "[0.08725865930318832, 0.9666666388511658]"
            ]
          },
          "metadata": {},
          "execution_count": 23
        }
      ]
    },
    {
      "cell_type": "code",
      "execution_count": 24,
      "metadata": {
        "id": "kcKz9z7qWfDR",
        "outputId": "02d5e777-a768-49e0-cfbf-5b4711f39e3d",
        "colab": {
          "base_uri": "https://localhost:8080/"
        }
      },
      "outputs": [
        {
          "output_type": "stream",
          "name": "stdout",
          "text": [
            "Final test set loss: 0.087259\n",
            "Final test set accuracy: 0.966667\n"
          ]
        }
      ],
      "source": [
        "print('Final test set loss: {:4f}'.format(results[0]))\n",
        "print('Final test set accuracy: {:4f}'.format(results[1]))"
      ]
    },
    {
      "cell_type": "code",
      "source": [
        "# SECOND\n",
        "predicted = model.predict(test_x)\n",
        "print(predicted.shape)\n",
        "\n",
        "predicted_classes=np.argmax(predicted,axis=1)\n",
        "print(predicted_classes.shape)"
      ],
      "metadata": {
        "colab": {
          "base_uri": "https://localhost:8080/"
        },
        "id": "HJNB5vKeukaI",
        "outputId": "353b7e57-911c-4aa0-d518-3a223b1f6c4f"
      },
      "execution_count": 26,
      "outputs": [
        {
          "output_type": "stream",
          "name": "stdout",
          "text": [
            "1/1 [==============================] - 0s 35ms/step\n",
            "(30, 3)\n",
            "(30,)\n"
          ]
        }
      ]
    },
    {
      "cell_type": "code",
      "source": [
        "print(test_y.shape)\n",
        "\n",
        "test_y_class = np.argmax(test_y,axis=1)\n",
        "print(test_y_class)"
      ],
      "metadata": {
        "colab": {
          "base_uri": "https://localhost:8080/"
        },
        "id": "dUKsTWWrvTUd",
        "outputId": "2852f26e-d862-4f6e-ba85-78cd7cbe7adb"
      },
      "execution_count": 36,
      "outputs": [
        {
          "output_type": "stream",
          "name": "stdout",
          "text": [
            "(30, 3)\n",
            "[1 0 0 2 1 0 0 2 0 1 1 0 0 0 0 2 2 0 0 0 0 2 1 1 1 2 0 0 1 2]\n"
          ]
        }
      ]
    },
    {
      "cell_type": "code",
      "source": [
        "from sklearn.metrics import confusion_matrix\n",
        "import matplotlib.pyplot as plt\n",
        "\n",
        "cm = confusion_matrix(test_y_class, predicted_classes)\n",
        "\n",
        "# plt.matshow(cm) / plt.imshow(cm)\n",
        "plt.matshow(cm)\n",
        "plt.colorbar()\n",
        "plt.xlabel('Predicted')\n",
        "plt.ylabel('True')\n",
        "plt.show()"
      ],
      "metadata": {
        "colab": {
          "base_uri": "https://localhost:8080/",
          "height": 417
        },
        "id": "_VyWmKpvuWh9",
        "outputId": "fa8feb42-c833-4972-8b56-47794e25e4a3"
      },
      "execution_count": 39,
      "outputs": [
        {
          "output_type": "display_data",
          "data": {
            "text/plain": [
              "<Figure size 480x480 with 2 Axes>"
            ],
            "image/png": "[encoded data removed]"
          },
          "metadata": {}
        }
      ]
    },
    {
      "cell_type": "code",
      "source": [
        "# matplotlib doesn't have heatmap and instead it has imshow\n",
        "! pip install --quiet seaborn\n",
        "import seaborn as sns\n",
        "\n",
        "sns.set(font_scale=1.1) # for label size\n",
        "heatmap = sns.heatmap(cm, annot=True, annot_kws={\"size\": 11}) # font size\n",
        "\n",
        "heatmap.set_xlabel('Predicted')\n",
        "heatmap.set_ylabel('True')\n",
        "\n",
        "plt.show()"
      ],
      "metadata": {
        "colab": {
          "base_uri": "https://localhost:8080/",
          "height": 461
        },
        "id": "7xhfmDaUu9WS",
        "outputId": "80df5411-39a0-478b-89b2-c543abba10c1"
      },
      "execution_count": 42,
      "outputs": [
        {
          "output_type": "display_data",
          "data": {
            "text/plain": [
              "<Figure size 640x480 with 2 Axes>"
            ],
            "image/png": "[encoded data removed]"
          },
          "metadata": {}
        }
      ]
    },
    {
      "cell_type": "code",
      "source": [],
      "metadata": {
        "id": "J-NWn7w4whVV"
      },
      "execution_count": null,
      "outputs": []
    }
  ],
  "metadata": {
    "kernelspec": {
      "display_name": "tensorflow",
      "language": "python",
      "name": "tensorflow"
    },
    "language_info": {
      "codemirror_mode": {
        "name": "ipython",
        "version": 3
      },
      "file_extension": ".py",
      "mimetype": "text/x-python",
      "name": "python",
      "nbconvert_exporter": "python",
      "pygments_lexer": "ipython3",
      "version": "3.6.8"
    },
    "colab": {
      "provenance": [],
      "include_colab_link": true
    }
  },
  "nbformat": 4,
  "nbformat_minor": 0
}