{
  "cells": [
    {
      "cell_type": "code",
      "source": [
        "! git clone https://github.com/z-arabi/SRU-deeplearning-workshop\n",
        "%cd SRU-deeplearning-workshop"
      ],
      "metadata": {
        "id": "DIOoAu2A4TRE",
        "outputId": "86a01066-244f-4bca-fc08-70581a643aab",
        "colab": {
          "base_uri": "https://localhost:8080/"
        }
      },
      "execution_count": 1,
      "outputs": [
        {
          "output_type": "stream",
          "name": "stdout",
          "text": [
            "Cloning into 'SRU-deeplearning-workshop'...\n",
            "remote: Enumerating objects: 280, done.\u001b[K\n",
            "remote: Counting objects: 100% (67/67), done.\u001b[K\n",
            "remote: Compressing objects: 100% (60/60), done.\u001b[K\n",
            "remote: Total 280 (delta 29), reused 11 (delta 7), pack-reused 213\u001b[K\n",
            "Receiving objects: 100% (280/280), 33.24 MiB | 9.65 MiB/s, done.\n",
            "Resolving deltas: 100% (128/128), done.\n",
            "/content/SRU-deeplearning-workshop\n"
          ]
        }
      ]
    },
    {
      "cell_type": "code",
      "execution_count": 2,
      "metadata": {
        "id": "S-xCcYab4Ku6"
      },
      "outputs": [],
      "source": [
        "from classFiles.clr_callback import CyclicLR"
      ]
    },
    {
      "cell_type": "code",
      "execution_count": 3,
      "metadata": {
        "id": "OO3nTJ0z4Ku_"
      },
      "outputs": [],
      "source": [
        "import tensorflow as tf\n",
        "from tensorflow.keras.callbacks import TensorBoard\n",
        "import os\n",
        "import datetime\n",
        "import numpy as np"
      ]
    },
    {
      "cell_type": "code",
      "execution_count": 4,
      "metadata": {
        "id": "ChTpS-5E4KvA",
        "outputId": "9422720d-ea73-48b8-d854-c74a477c6408",
        "colab": {
          "base_uri": "https://localhost:8080/"
        }
      },
      "outputs": [
        {
          "output_type": "stream",
          "name": "stdout",
          "text": [
            "Downloading data from https://storage.googleapis.com/tensorflow/tf-keras-datasets/mnist.npz\n",
            "11490434/11490434 [==============================] - 0s 0us/step\n"
          ]
        }
      ],
      "source": [
        "mnist = tf.keras.datasets.mnist\n",
        "\n",
        "(x_train, y_train),(x_test, y_test) = mnist.load_data()\n",
        "x_train, x_test = x_train / 255.0, x_test / 255.0"
      ]
    },
    {
      "cell_type": "code",
      "execution_count": 5,
      "metadata": {
        "id": "wv-cpK1P4KvB"
      },
      "outputs": [],
      "source": [
        "def create_model():\n",
        "    return tf.keras.models.Sequential([\n",
        "        tf.keras.layers.Flatten(input_shape=(28, 28)),\n",
        "        tf.keras.layers.Dense(512, activation='relu'),\n",
        "        tf.keras.layers.Dropout(0.2),\n",
        "        tf.keras.layers.Dense(10, activation='softmax')\n",
        "    ])"
      ]
    },
    {
      "cell_type": "code",
      "execution_count": 6,
      "metadata": {
        "id": "N7VLwQwL4KvC"
      },
      "outputs": [],
      "source": [
        "# define the minimum learning rate, maximum learning rate, batch size,\n",
        "# step size, CLR method, and number of epochs\n",
        "MIN_LR = 1e-4\n",
        "MAX_LR = 1e-2\n",
        "BATCH_SIZE = 32\n",
        "STEP_SIZE = 8\n",
        "# the simplest way without deacresing everytime\n",
        "CLR_METHOD = \"triangular\"\n",
        "# NUM_EPOCHS = 48"
      ]
    },
    {
      "cell_type": "code",
      "execution_count": 7,
      "metadata": {
        "id": "CXSkYWi34KvE"
      },
      "outputs": [],
      "source": [
        "clr = CyclicLR(\n",
        "    mode=CLR_METHOD,\n",
        "    base_lr=MIN_LR,\n",
        "    max_lr=MAX_LR,\n",
        "    step_size= STEP_SIZE * (x_train.shape[0] // BATCH_SIZE))"
      ]
    },
    {
      "cell_type": "code",
      "execution_count": 8,
      "metadata": {
        "id": "LlpEnfCH4KvF",
        "outputId": "5b5b2356-9e8f-4ebd-fea6-a44a4cf2854f",
        "colab": {
          "base_uri": "https://localhost:8080/"
        }
      },
      "outputs": [
        {
          "output_type": "stream",
          "name": "stderr",
          "text": [
            "WARNING:absl:`lr` is deprecated in Keras optimizer, please use `learning_rate` or use the legacy optimizer, e.g.,tf.keras.optimizers.legacy.SGD.\n"
          ]
        }
      ],
      "source": [
        "model = create_model()\n",
        "opt = tf.keras.optimizers.SGD(lr=MIN_LR, momentum=0.9)\n",
        "\n",
        "model.compile(optimizer=opt,\n",
        "              loss='sparse_categorical_crossentropy',\n",
        "              metrics=['accuracy'])"
      ]
    },
    {
      "cell_type": "code",
      "execution_count": 9,
      "metadata": {
        "id": "vL4XGDoa4KvG",
        "outputId": "97847c6f-313b-40d2-b605-8f750be5b751",
        "colab": {
          "base_uri": "https://localhost:8080/"
        }
      },
      "outputs": [
        {
          "output_type": "stream",
          "name": "stdout",
          "text": [
            "Epoch 1/10\n",
            "1875/1875 [==============================] - 13s 7ms/step - loss: 0.9889 - accuracy: 0.7378 - val_loss: 0.3824 - val_accuracy: 0.9005\n",
            "Epoch 2/10\n",
            "1875/1875 [==============================] - 12s 6ms/step - loss: 0.3468 - accuracy: 0.9020 - val_loss: 0.2558 - val_accuracy: 0.9302\n",
            "Epoch 3/10\n",
            "1875/1875 [==============================] - 13s 7ms/step - loss: 0.2465 - accuracy: 0.9301 - val_loss: 0.1888 - val_accuracy: 0.9489\n",
            "Epoch 4/10\n",
            "1875/1875 [==============================] - 12s 7ms/step - loss: 0.1830 - accuracy: 0.9487 - val_loss: 0.1442 - val_accuracy: 0.9582\n",
            "Epoch 5/10\n",
            "1875/1875 [==============================] - 14s 7ms/step - loss: 0.1422 - accuracy: 0.9603 - val_loss: 0.1163 - val_accuracy: 0.9674\n",
            "Epoch 6/10\n",
            "1875/1875 [==============================] - 13s 7ms/step - loss: 0.1131 - accuracy: 0.9676 - val_loss: 0.0989 - val_accuracy: 0.9718\n",
            "Epoch 7/10\n",
            "1875/1875 [==============================] - 12s 6ms/step - loss: 0.0926 - accuracy: 0.9744 - val_loss: 0.0879 - val_accuracy: 0.9732\n",
            "Epoch 8/10\n",
            "1875/1875 [==============================] - 12s 6ms/step - loss: 0.0776 - accuracy: 0.9774 - val_loss: 0.0789 - val_accuracy: 0.9769\n",
            "Epoch 9/10\n",
            "1875/1875 [==============================] - 12s 6ms/step - loss: 0.0653 - accuracy: 0.9813 - val_loss: 0.0676 - val_accuracy: 0.9795\n",
            "Epoch 10/10\n",
            "1875/1875 [==============================] - 11s 6ms/step - loss: 0.0551 - accuracy: 0.9836 - val_loss: 0.0657 - val_accuracy: 0.9801\n"
          ]
        },
        {
          "output_type": "execute_result",
          "data": {
            "text/plain": [
              "<keras.callbacks.History at 0x7f57cf2ee290>"
            ]
          },
          "metadata": {},
          "execution_count": 9
        }
      ],
      "source": [
        "model.fit(x=x_train,\n",
        "          y=y_train,\n",
        "          epochs=10,\n",
        "          batch_size=32,\n",
        "          validation_data=(x_test, y_test),\n",
        "          callbacks=[clr])"
      ]
    },
    {
      "cell_type": "markdown",
      "metadata": {
        "id": "yyBm4m_z4KvH"
      },
      "source": [
        "### based on:\n",
        "https://www.pyimagesearch.com/2019/07/29/cyclical-learning-rates-with-keras-and-deep-learning/"
      ]
    },
    {
      "cell_type": "code",
      "execution_count": null,
      "metadata": {
        "id": "XSKt7cIe4KvJ"
      },
      "outputs": [],
      "source": []
    }
  ],
  "metadata": {
    "kernelspec": {
      "display_name": "tf2-GPU",
      "language": "python",
      "name": "tf2"
    },
    "language_info": {
      "codemirror_mode": {
        "name": "ipython",
        "version": 3
      },
      "file_extension": ".py",
      "mimetype": "text/x-python",
      "name": "python",
      "nbconvert_exporter": "python",
      "pygments_lexer": "ipython3",
      "version": "3.6.9"
    },
    "colab": {
      "provenance": []
    }
  },
  "nbformat": 4,
  "nbformat_minor": 0
}