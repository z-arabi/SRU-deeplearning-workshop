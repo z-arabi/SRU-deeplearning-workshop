{
  "nbformat": 4,
  "nbformat_minor": 0,
  "metadata": {
    "colab": {
      "provenance": [],
      "gpuType": "T4",
      "authorship_tag": "ABX9TyPNFcfkgN5ZQ+JNJc0j6seI",
      "include_colab_link": true
    },
    "kernelspec": {
      "name": "python3",
      "display_name": "Python 3"
    },
    "language_info": {
      "name": "python"
    },
    "accelerator": "GPU"
  },
  "cells": [
    {
      "cell_type": "markdown",
      "metadata": {
        "id": "view-in-github",
        "colab_type": "text"
      },
      "source": [
        "<a href=\"https://colab.research.google.com/github/z-arabi/SRU-deeplearning-workshop/blob/master/09_Callbacks.ipynb\" target=\"_parent\"><img src=\"https://colab.research.google.com/assets/colab-badge.svg\" alt=\"Open In Colab\"/></a>"
      ]
    },
    {
      "cell_type": "code",
      "execution_count": 1,
      "metadata": {
        "id": "BCNYHzb4zto8"
      },
      "outputs": [],
      "source": [
        "import tensorflow as tf\n",
        "import datetime\n",
        "import matplotlib.pyplot as plt\n",
        "from tensorflow.keras.layers import Flatten, Dense"
      ]
    },
    {
      "cell_type": "code",
      "source": [
        "# https://keras.io/api/datasets/fashion_mnist/#load_data-function\n",
        "mnist = tf.keras.datasets.fashion_mnist\n",
        "(x_train, y_train), (x_test, y_test) = mnist.load_data()\n",
        "\n",
        "print(x_train.shape, x_train.dtype)"
      ],
      "metadata": {
        "colab": {
          "base_uri": "https://localhost:8080/"
        },
        "id": "d7UEvbzgz1pc",
        "outputId": "31640e96-3923-4e80-fa3f-94031c8394b7"
      },
      "execution_count": 2,
      "outputs": [
        {
          "output_type": "stream",
          "name": "stdout",
          "text": [
            "Downloading data from https://storage.googleapis.com/tensorflow/tf-keras-datasets/train-labels-idx1-ubyte.gz\n",
            "29515/29515 [==============================] - 0s 0us/step\n",
            "Downloading data from https://storage.googleapis.com/tensorflow/tf-keras-datasets/train-images-idx3-ubyte.gz\n",
            "26421880/26421880 [==============================] - 1s 0us/step\n",
            "Downloading data from https://storage.googleapis.com/tensorflow/tf-keras-datasets/t10k-labels-idx1-ubyte.gz\n",
            "5148/5148 [==============================] - 0s 0us/step\n",
            "Downloading data from https://storage.googleapis.com/tensorflow/tf-keras-datasets/t10k-images-idx3-ubyte.gz\n",
            "4422102/4422102 [==============================] - 1s 0us/step\n",
            "(60000, 28, 28) uint8\n"
          ]
        }
      ]
    },
    {
      "cell_type": "code",
      "source": [
        "print(y_train[0])\n",
        "plt.imshow(x_train[0])"
      ],
      "metadata": {
        "colab": {
          "base_uri": "https://localhost:8080/",
          "height": 474
        },
        "id": "QRAHOGo50ZQ4",
        "outputId": "4ef57c4a-f92e-48c7-bd54-99113c478897"
      },
      "execution_count": 3,
      "outputs": [
        {
          "output_type": "stream",
          "name": "stdout",
          "text": [
            "9\n"
          ]
        },
        {
          "output_type": "execute_result",
          "data": {
            "text/plain": [
              "<matplotlib.image.AxesImage at 0x7f5b63177f10>"
            ]
          },
          "metadata": {},
          "execution_count": 3
        },
        {
          "output_type": "display_data",
          "data": {
            "text/plain": [
              "<Figure size 640x480 with 1 Axes>"
            ],
            "image/png": "[encoded data removed]"
          },
          "metadata": {}
        }
      ]
    },
    {
      "cell_type": "code",
      "source": [
        "# normalization\n",
        "x_train = x_train / 255.0\n",
        "x_test = x_test / 255.0"
      ],
      "metadata": {
        "id": "BCCQkeyG0pK2"
      },
      "execution_count": 4,
      "outputs": []
    },
    {
      "cell_type": "code",
      "source": [
        "# not one hot > sparse\n",
        "print(y_train.shape)"
      ],
      "metadata": {
        "colab": {
          "base_uri": "https://localhost:8080/"
        },
        "id": "ZbREHKik58ob",
        "outputId": "962d341f-0340-4677-be9b-ab96a9d1a9c3"
      },
      "execution_count": 5,
      "outputs": [
        {
          "output_type": "stream",
          "name": "stdout",
          "text": [
            "(60000,)\n"
          ]
        }
      ]
    },
    {
      "cell_type": "markdown",
      "source": [
        "## Custom Callback"
      ],
      "metadata": {
        "id": "acahhrENcs4m"
      }
    },
    {
      "cell_type": "code",
      "source": [
        "class MyCustomCallback(tf.keras.callbacks.Callback):\n",
        "\n",
        "  def on_train_begin(self,logs=None):\n",
        "    print(\"Training is started!\")\n",
        "\n",
        "  def on_epoch_begin(self, epoch, logs=None):\n",
        "    print(\"-\"*50)\n",
        "    print(f\"Epochs {epoch} is strated!\")\n",
        "\n",
        "  def on_train_batch_begin(self,batch, logs=None):\n",
        "    if batch%100 == 0:\n",
        "      print(f\"\\n Training: batch {batch} begins\")\n",
        "\n",
        "  def on_test_begin(self,logs=None):\n",
        "    print(\"\\n\", \"*\"*50)\n",
        "    t = datetime.datetime.now().time()\n",
        "    print(f'Evaluation begins at {t}')\n",
        "\n",
        "  def on_test_end(self,logs=None):\n",
        "    t = datetime.datetime.now().time()\n",
        "    print(f'Evaluation finishes at {t}')\n",
        "\n",
        "  def on_train_end(self,logs=None):\n",
        "    print(\"Training is ended!\")\n"
      ],
      "metadata": {
        "id": "_LNL97Mm07w1"
      },
      "execution_count": 6,
      "outputs": []
    },
    {
      "cell_type": "code",
      "source": [
        "my_callback = MyCustomCallback()"
      ],
      "metadata": {
        "id": "n9N5bXn12McZ"
      },
      "execution_count": 7,
      "outputs": []
    },
    {
      "cell_type": "code",
      "source": [
        "model = tf.keras.models.Sequential([\n",
        "    Flatten(input_shape=(28,28)),\n",
        "    Dense(512,activation=tf.nn.relu),\n",
        "    Dense(10, activation=tf.nn.softmax)\n",
        "])\n",
        "\n",
        "model.compile(optimizer=\"adam\",\n",
        "              loss=\"sparse_categorical_crossentropy\",\n",
        "              metrics=[\"accuracy\"])\n",
        "\n",
        "'''\n",
        "verbose is for default baseLogger:\n",
        "verbose=0 will show you nothing (silent) from BaseLogger\n",
        "verbose=1 will show you an animated progress bar\n",
        "verbose=2 will just mention the number of epoch\n",
        "'''\n",
        "model.fit(x_train, y_train,\n",
        "          epochs=2,\n",
        "          validation_split=0.2,\n",
        "          callbacks=[my_callback])"
      ],
      "metadata": {
        "colab": {
          "base_uri": "https://localhost:8080/"
        },
        "id": "PTwWpHVz2QqH",
        "outputId": "0a1a804c-db8a-48e6-9bfd-1885b1440fdd"
      },
      "execution_count": 8,
      "outputs": [
        {
          "output_type": "stream",
          "name": "stdout",
          "text": [
            "Training is started!\n",
            "--------------------------------------------------\n",
            "Epochs 0 is strated!\n",
            "Epoch 1/2\n",
            "\n",
            " Training: batch 0 begins\n",
            "  96/1500 [>.............................] - ETA: 6s - loss: 0.8471 - accuracy: 0.7035\n",
            " Training: batch 100 begins\n",
            " 192/1500 [==>...........................] - ETA: 6s - loss: 0.7439 - accuracy: 0.7357\n",
            " Training: batch 200 begins\n",
            " 290/1500 [====>.........................] - ETA: 5s - loss: 0.6787 - accuracy: 0.7609\n",
            " Training: batch 300 begins\n",
            " 399/1500 [======>.......................] - ETA: 5s - loss: 0.6496 - accuracy: 0.7714\n",
            " Training: batch 400 begins\n",
            " 496/1500 [========>.....................] - ETA: 4s - loss: 0.6192 - accuracy: 0.7820\n",
            " Training: batch 500 begins\n",
            " 590/1500 [==========>...................] - ETA: 4s - loss: 0.5962 - accuracy: 0.7903\n",
            " Training: batch 600 begins\n",
            " 694/1500 [============>.................] - ETA: 3s - loss: 0.5759 - accuracy: 0.7967\n",
            " Training: batch 700 begins\n",
            " 793/1500 [==============>...............] - ETA: 3s - loss: 0.5608 - accuracy: 0.8008\n",
            " Training: batch 800 begins\n",
            " 887/1500 [================>.............] - ETA: 2s - loss: 0.5471 - accuracy: 0.8061\n",
            " Training: batch 900 begins\n",
            " 982/1500 [==================>...........] - ETA: 2s - loss: 0.5363 - accuracy: 0.8102\n",
            " Training: batch 1000 begins\n",
            "1099/1500 [====================>.........] - ETA: 1s - loss: 0.5242 - accuracy: 0.8142\n",
            " Training: batch 1100 begins\n",
            "1193/1500 [======================>.......] - ETA: 1s - loss: 0.5159 - accuracy: 0.8167\n",
            " Training: batch 1200 begins\n",
            "1291/1500 [========================>.....] - ETA: 0s - loss: 0.5098 - accuracy: 0.8186\n",
            " Training: batch 1300 begins\n",
            "1391/1500 [==========================>...] - ETA: 0s - loss: 0.5026 - accuracy: 0.8208\n",
            " Training: batch 1400 begins\n",
            "1489/1500 [============================>.] - ETA: 0s - loss: 0.4948 - accuracy: 0.8231\n",
            " **************************************************\n",
            "Evaluation begins at 07:53:01.751996\n",
            "Evaluation finishes at 07:53:02.561863\n",
            "1500/1500 [==============================] - 15s 5ms/step - loss: 0.4941 - accuracy: 0.8234 - val_loss: 0.4250 - val_accuracy: 0.8450\n",
            "--------------------------------------------------\n",
            "Epochs 1 is strated!\n",
            "Epoch 2/2\n",
            "\n",
            " Training: batch 0 begins\n",
            "  96/1500 [>.............................] - ETA: 3s - loss: 0.3951 - accuracy: 0.8574\n",
            " Training: batch 100 begins\n",
            " 197/1500 [==>...........................] - ETA: 3s - loss: 0.3999 - accuracy: 0.8550\n",
            " Training: batch 200 begins\n",
            " 293/1500 [====>.........................] - ETA: 3s - loss: 0.3947 - accuracy: 0.8564\n",
            " Training: batch 300 begins\n",
            " 390/1500 [======>.......................] - ETA: 3s - loss: 0.3865 - accuracy: 0.8592\n",
            " Training: batch 400 begins\n",
            " 487/1500 [========>.....................] - ETA: 3s - loss: 0.3838 - accuracy: 0.8606\n",
            " Training: batch 500 begins\n",
            " 599/1500 [==========>...................] - ETA: 3s - loss: 0.3810 - accuracy: 0.8618\n",
            " Training: batch 600 begins\n",
            " 695/1500 [============>.................] - ETA: 2s - loss: 0.3799 - accuracy: 0.8625\n",
            " Training: batch 700 begins\n",
            " 787/1500 [==============>...............] - ETA: 2s - loss: 0.3776 - accuracy: 0.8636\n",
            " Training: batch 800 begins\n",
            " 896/1500 [================>.............] - ETA: 2s - loss: 0.3765 - accuracy: 0.8636\n",
            " Training: batch 900 begins\n",
            " 995/1500 [==================>...........] - ETA: 1s - loss: 0.3735 - accuracy: 0.8647\n",
            " Training: batch 1000 begins\n",
            "1091/1500 [====================>.........] - ETA: 1s - loss: 0.3717 - accuracy: 0.8656\n",
            " Training: batch 1100 begins\n",
            "1186/1500 [======================>.......] - ETA: 1s - loss: 0.3712 - accuracy: 0.8654\n",
            " Training: batch 1200 begins\n",
            "1282/1500 [========================>.....] - ETA: 0s - loss: 0.3706 - accuracy: 0.8658\n",
            " Training: batch 1300 begins\n",
            "1399/1500 [==========================>...] - ETA: 0s - loss: 0.3686 - accuracy: 0.8665\n",
            " Training: batch 1400 begins\n",
            "1490/1500 [============================>.] - ETA: 0s - loss: 0.3676 - accuracy: 0.8670\n",
            " **************************************************\n",
            "Evaluation begins at 07:53:07.949732\n",
            "Evaluation finishes at 07:53:08.629119\n",
            "1500/1500 [==============================] - 5s 4ms/step - loss: 0.3680 - accuracy: 0.8669 - val_loss: 0.3632 - val_accuracy: 0.8710\n",
            "Training is ended!\n"
          ]
        },
        {
          "output_type": "execute_result",
          "data": {
            "text/plain": [
              "<keras.callbacks.History at 0x7f5b61363310>"
            ]
          },
          "metadata": {},
          "execution_count": 8
        }
      ]
    },
    {
      "cell_type": "markdown",
      "source": [
        "# CSVLogger"
      ],
      "metadata": {
        "id": "aoJ_pzcYcv0z"
      }
    },
    {
      "cell_type": "code",
      "source": [
        "from tensorflow.keras.callbacks import CSVLogger"
      ],
      "metadata": {
        "id": "JIX8BXm85foW"
      },
      "execution_count": 9,
      "outputs": []
    },
    {
      "cell_type": "code",
      "source": [
        "csv_logger = CSVLogger('training.log')\n",
        "# you can use !tail -f training.log"
      ],
      "metadata": {
        "id": "MrUdtTP0ciUO"
      },
      "execution_count": 10,
      "outputs": []
    },
    {
      "cell_type": "code",
      "source": [
        "model = tf.keras.models.Sequential([\n",
        "    Flatten(input_shape=(28,28)),\n",
        "    Dense(512,activation=tf.nn.relu),\n",
        "    Dense(10, activation=tf.nn.softmax)\n",
        "])\n",
        "\n",
        "model.compile(optimizer=\"adam\",\n",
        "              loss=\"sparse_categorical_crossentropy\",\n",
        "              metrics=[\"accuracy\"])\n",
        "\n",
        "model.fit(x_train, y_train,\n",
        "          epochs=5,\n",
        "          validation_split=0.2,\n",
        "          callbacks=[csv_logger])"
      ],
      "metadata": {
        "colab": {
          "base_uri": "https://localhost:8080/"
        },
        "id": "LT3ItkLBcmz4",
        "outputId": "eb884f1e-7871-4e15-adb5-b8c76f692fdb"
      },
      "execution_count": 11,
      "outputs": [
        {
          "output_type": "stream",
          "name": "stdout",
          "text": [
            "Epoch 1/5\n",
            "1500/1500 [==============================] - 5s 3ms/step - loss: 0.4923 - accuracy: 0.8244 - val_loss: 0.4008 - val_accuracy: 0.8543\n",
            "Epoch 2/5\n",
            "1500/1500 [==============================] - 5s 3ms/step - loss: 0.3708 - accuracy: 0.8653 - val_loss: 0.3434 - val_accuracy: 0.8776\n",
            "Epoch 3/5\n",
            "1500/1500 [==============================] - 4s 3ms/step - loss: 0.3318 - accuracy: 0.8781 - val_loss: 0.3532 - val_accuracy: 0.8687\n",
            "Epoch 4/5\n",
            "1500/1500 [==============================] - 6s 4ms/step - loss: 0.3051 - accuracy: 0.8863 - val_loss: 0.3538 - val_accuracy: 0.8743\n",
            "Epoch 5/5\n",
            "1500/1500 [==============================] - 7s 5ms/step - loss: 0.2868 - accuracy: 0.8942 - val_loss: 0.3376 - val_accuracy: 0.8771\n"
          ]
        },
        {
          "output_type": "execute_result",
          "data": {
            "text/plain": [
              "<keras.callbacks.History at 0x7f5b61046080>"
            ]
          },
          "metadata": {},
          "execution_count": 11
        }
      ]
    },
    {
      "cell_type": "markdown",
      "source": [
        "## Early stopping"
      ],
      "metadata": {
        "id": "OU_On1G4e5aw"
      }
    },
    {
      "cell_type": "code",
      "source": [
        "# with overfitting\n",
        "model = tf.keras.models.Sequential([\n",
        "    Flatten(input_shape=(28,28)),\n",
        "    Dense(512,activation=tf.nn.relu),\n",
        "    Dense(512,activation=tf.nn.relu),\n",
        "    Dense(10, activation=tf.nn.softmax)\n",
        "])\n",
        "\n",
        "model.compile(optimizer=\"adam\",\n",
        "              loss=\"sparse_categorical_crossentropy\",\n",
        "              metrics=[\"accuracy\"])\n",
        "\n",
        "history = model.fit(x_train, y_train,\n",
        "          epochs=10,\n",
        "          validation_split=0.2)"
      ],
      "metadata": {
        "colab": {
          "base_uri": "https://localhost:8080/"
        },
        "id": "RcfA8qgFc_ee",
        "outputId": "e65b57e5-2b8d-4a33-c07c-7acc2184d1cf"
      },
      "execution_count": 12,
      "outputs": [
        {
          "output_type": "stream",
          "name": "stdout",
          "text": [
            "Epoch 1/10\n",
            "1500/1500 [==============================] - 12s 6ms/step - loss: 0.4832 - accuracy: 0.8254 - val_loss: 0.3943 - val_accuracy: 0.8560\n",
            "Epoch 2/10\n",
            "1500/1500 [==============================] - 8s 5ms/step - loss: 0.3647 - accuracy: 0.8656 - val_loss: 0.3773 - val_accuracy: 0.8612\n",
            "Epoch 3/10\n",
            "1500/1500 [==============================] - 8s 5ms/step - loss: 0.3290 - accuracy: 0.8771 - val_loss: 0.3453 - val_accuracy: 0.8753\n",
            "Epoch 4/10\n",
            "1500/1500 [==============================] - 5s 4ms/step - loss: 0.3004 - accuracy: 0.8875 - val_loss: 0.3252 - val_accuracy: 0.8835\n",
            "Epoch 5/10\n",
            "1500/1500 [==============================] - 8s 5ms/step - loss: 0.2869 - accuracy: 0.8916 - val_loss: 0.3202 - val_accuracy: 0.8839\n",
            "Epoch 6/10\n",
            "1500/1500 [==============================] - 5s 3ms/step - loss: 0.2688 - accuracy: 0.8983 - val_loss: 0.3435 - val_accuracy: 0.8785\n",
            "Epoch 7/10\n",
            "1500/1500 [==============================] - 6s 4ms/step - loss: 0.2563 - accuracy: 0.9034 - val_loss: 0.3275 - val_accuracy: 0.8813\n",
            "Epoch 8/10\n",
            "1500/1500 [==============================] - 7s 5ms/step - loss: 0.2421 - accuracy: 0.9092 - val_loss: 0.3365 - val_accuracy: 0.8880\n",
            "Epoch 9/10\n",
            "1500/1500 [==============================] - 8s 6ms/step - loss: 0.2330 - accuracy: 0.9111 - val_loss: 0.3347 - val_accuracy: 0.8875\n",
            "Epoch 10/10\n",
            "1500/1500 [==============================] - 7s 5ms/step - loss: 0.2195 - accuracy: 0.9167 - val_loss: 0.3501 - val_accuracy: 0.8878\n"
          ]
        }
      ]
    },
    {
      "cell_type": "code",
      "source": [
        "def plot_history(history):\n",
        "  acc = history.history['accuracy']\n",
        "  val_acc = history.history['val_accuracy']\n",
        "  loss = history.history['loss']\n",
        "  val_loss = history.history['val_loss']\n",
        "\n",
        "  import matplotlib.pyplot as plt\n",
        "  %matplotlib inline\n",
        "\n",
        "  epochs = range(len(acc))\n",
        "\n",
        "  plt.figure()\n",
        "  plt.plot(epochs, acc, \"b-o\", label=\"Training acc\")\n",
        "  plt.plot(epochs, val_acc, \"g-o\", label=\"Validation acc\")\n",
        "  plt.title('Training and validation accuracy')\n",
        "  plt.legend()\n",
        "\n",
        "  plt.figure()\n",
        "  plt.plot(epochs, loss, \"b-o\", label=\"Training loss\")\n",
        "  plt.plot(epochs, val_loss, \"g-o\", label=\"Validation loss\")\n",
        "  plt.title('Training and validation accuracy')\n",
        "  plt.legend()"
      ],
      "metadata": {
        "id": "cZ9rRY38fHmW"
      },
      "execution_count": 13,
      "outputs": []
    },
    {
      "cell_type": "code",
      "source": [
        "plot_history(history)"
      ],
      "metadata": {
        "colab": {
          "base_uri": "https://localhost:8080/",
          "height": 887
        },
        "id": "0aU8gfNZf3U8",
        "outputId": "f240eaed-6ec6-4652-fb65-eb412d47a01d"
      },
      "execution_count": 14,
      "outputs": [
        {
          "output_type": "display_data",
          "data": {
            "text/plain": [
              "<Figure size 640x480 with 1 Axes>"
            ],
            "image/png": "[encoded data removed]"
          },
          "metadata": {}
        },
        {
          "output_type": "display_data",
          "data": {
            "text/plain": [
              "<Figure size 640x480 with 1 Axes>"
            ],
            "image/png": "[encoded data removed]"
          },
          "metadata": {}
        }
      ]
    },
    {
      "cell_type": "code",
      "source": [
        "from tensorflow.keras.callbacks import EarlyStopping"
      ],
      "metadata": {
        "id": "qdX9nmvKfYgU"
      },
      "execution_count": 15,
      "outputs": []
    },
    {
      "cell_type": "code",
      "source": [
        "early_stopping = EarlyStopping(patience=2, monitor=\"val_loss\")"
      ],
      "metadata": {
        "id": "2DTFzhY6feEX"
      },
      "execution_count": 16,
      "outputs": []
    },
    {
      "cell_type": "code",
      "source": [
        "model = tf.keras.models.Sequential([\n",
        "    Flatten(input_shape=(28,28)),\n",
        "    Dense(512,activation=tf.nn.relu),\n",
        "    Dense(512,activation=tf.nn.relu),\n",
        "    Dense(10, activation=tf.nn.softmax)\n",
        "])\n",
        "\n",
        "model.compile(optimizer=\"adam\",\n",
        "              loss=\"sparse_categorical_crossentropy\",\n",
        "              metrics=[\"accuracy\"])\n",
        "\n",
        "history_earlyStopping = model.fit(x_train, y_train,\n",
        "          epochs=10,\n",
        "          validation_split=0.2,\n",
        "          callbacks=[early_stopping])"
      ],
      "metadata": {
        "colab": {
          "base_uri": "https://localhost:8080/"
        },
        "id": "RdIxBVhlfm7g",
        "outputId": "51ec5ef5-4508-4d74-dbd0-939a09024656"
      },
      "execution_count": 17,
      "outputs": [
        {
          "output_type": "stream",
          "name": "stdout",
          "text": [
            "Epoch 1/10\n",
            "1500/1500 [==============================] - 9s 5ms/step - loss: 0.4852 - accuracy: 0.8221 - val_loss: 0.4025 - val_accuracy: 0.8561\n",
            "Epoch 2/10\n",
            "1500/1500 [==============================] - 9s 6ms/step - loss: 0.3651 - accuracy: 0.8651 - val_loss: 0.4117 - val_accuracy: 0.8507\n",
            "Epoch 3/10\n",
            "1500/1500 [==============================] - 8s 6ms/step - loss: 0.3290 - accuracy: 0.8785 - val_loss: 0.3736 - val_accuracy: 0.8618\n",
            "Epoch 4/10\n",
            "1500/1500 [==============================] - 9s 6ms/step - loss: 0.3039 - accuracy: 0.8865 - val_loss: 0.3547 - val_accuracy: 0.8763\n",
            "Epoch 5/10\n",
            "1500/1500 [==============================] - 9s 6ms/step - loss: 0.2850 - accuracy: 0.8934 - val_loss: 0.3493 - val_accuracy: 0.8735\n",
            "Epoch 6/10\n",
            "1500/1500 [==============================] - 5s 3ms/step - loss: 0.2712 - accuracy: 0.8981 - val_loss: 0.3725 - val_accuracy: 0.8704\n",
            "Epoch 7/10\n",
            "1500/1500 [==============================] - 6s 4ms/step - loss: 0.2564 - accuracy: 0.9019 - val_loss: 0.3299 - val_accuracy: 0.8850\n",
            "Epoch 8/10\n",
            "1500/1500 [==============================] - 5s 3ms/step - loss: 0.2421 - accuracy: 0.9093 - val_loss: 0.3274 - val_accuracy: 0.8916\n",
            "Epoch 9/10\n",
            "1500/1500 [==============================] - 5s 3ms/step - loss: 0.2333 - accuracy: 0.9108 - val_loss: 0.3412 - val_accuracy: 0.8857\n",
            "Epoch 10/10\n",
            "1500/1500 [==============================] - 6s 4ms/step - loss: 0.2211 - accuracy: 0.9150 - val_loss: 0.3287 - val_accuracy: 0.8853\n"
          ]
        }
      ]
    },
    {
      "cell_type": "code",
      "source": [
        "plot_history(history_earlyStopping)"
      ],
      "metadata": {
        "colab": {
          "base_uri": "https://localhost:8080/",
          "height": 887
        },
        "id": "X-ydpwygf8Xw",
        "outputId": "1787f1f0-6e3e-49c6-a3b3-630e916b77eb"
      },
      "execution_count": 18,
      "outputs": [
        {
          "output_type": "display_data",
          "data": {
            "text/plain": [
              "<Figure size 640x480 with 1 Axes>"
            ],
            "image/png": "[encoded data removed]"
          },
          "metadata": {}
        },
        {
          "output_type": "display_data",
          "data": {
            "text/plain": [
              "<Figure size 640x480 with 1 Axes>"
            ],
            "image/png": "[encoded data removed]"
          },
          "metadata": {}
        }
      ]
    },
    {
      "cell_type": "code",
      "source": [
        "history_earlyStopping.params"
      ],
      "metadata": {
        "colab": {
          "base_uri": "https://localhost:8080/"
        },
        "id": "2zyvCNkfgC7D",
        "outputId": "7aaf2436-5ef2-4708-a53d-34c02745849c"
      },
      "execution_count": 19,
      "outputs": [
        {
          "output_type": "execute_result",
          "data": {
            "text/plain": [
              "{'verbose': 1, 'epochs': 10, 'steps': 1500}"
            ]
          },
          "metadata": {},
          "execution_count": 19
        }
      ]
    },
    {
      "cell_type": "code",
      "source": [
        "history_earlyStopping.epoch"
      ],
      "metadata": {
        "colab": {
          "base_uri": "https://localhost:8080/"
        },
        "id": "9dLbuMsIhMYt",
        "outputId": "ac67acd4-e789-4176-d139-33ccf951aa31"
      },
      "execution_count": 20,
      "outputs": [
        {
          "output_type": "execute_result",
          "data": {
            "text/plain": [
              "[0, 1, 2, 3, 4, 5, 6, 7, 8, 9]"
            ]
          },
          "metadata": {},
          "execution_count": 20
        }
      ]
    },
    {
      "cell_type": "markdown",
      "source": [
        "## Lambda Callback\n"
      ],
      "metadata": {
        "id": "fpQeBs4apc0k"
      }
    },
    {
      "cell_type": "code",
      "source": [
        "from tensorflow.keras.callbacks import LambdaCallback"
      ],
      "metadata": {
        "id": "5Gi8emdIpw5V"
      },
      "execution_count": 21,
      "outputs": []
    },
    {
      "cell_type": "code",
      "source": [
        "model = tf.keras.models.Sequential([\n",
        "    Flatten(input_shape=(28,28)),\n",
        "    Dense(512,activation=tf.nn.relu),\n",
        "    Dense(10, activation=tf.nn.softmax)\n",
        "])\n",
        "\n",
        "model.compile(optimizer=\"adam\",\n",
        "              loss=\"sparse_categorical_crossentropy\",\n",
        "              metrics=[\"accuracy\"])\n",
        "\n",
        "history_earlyStopping = model.fit(x_train, y_train,\n",
        "          epochs=10,\n",
        "          validation_split=0.2,\n",
        "          callbacks=[LambdaCallback(on_epoch_begin=lambda epochs, logs: print(epochs))])"
      ],
      "metadata": {
        "id": "9AeaT069hUbx",
        "colab": {
          "base_uri": "https://localhost:8080/"
        },
        "outputId": "01ab6914-755e-4712-c644-29ffcf9e2e50"
      },
      "execution_count": 22,
      "outputs": [
        {
          "output_type": "stream",
          "name": "stdout",
          "text": [
            "0\n",
            "Epoch 1/10\n",
            "1500/1500 [==============================] - 6s 4ms/step - loss: 0.4919 - accuracy: 0.8239 - val_loss: 0.3826 - val_accuracy: 0.8653\n",
            "1\n",
            "Epoch 2/10\n",
            "1500/1500 [==============================] - 5s 3ms/step - loss: 0.3686 - accuracy: 0.8650 - val_loss: 0.3559 - val_accuracy: 0.8728\n",
            "2\n",
            "Epoch 3/10\n",
            "1500/1500 [==============================] - 5s 3ms/step - loss: 0.3297 - accuracy: 0.8780 - val_loss: 0.3490 - val_accuracy: 0.8757\n",
            "3\n",
            "Epoch 4/10\n",
            "1500/1500 [==============================] - 5s 3ms/step - loss: 0.3022 - accuracy: 0.8885 - val_loss: 0.3366 - val_accuracy: 0.8797\n",
            "4\n",
            "Epoch 5/10\n",
            "1500/1500 [==============================] - 5s 3ms/step - loss: 0.2857 - accuracy: 0.8928 - val_loss: 0.3305 - val_accuracy: 0.8788\n",
            "5\n",
            "Epoch 6/10\n",
            "1500/1500 [==============================] - 5s 3ms/step - loss: 0.2718 - accuracy: 0.8972 - val_loss: 0.3427 - val_accuracy: 0.8756\n",
            "6\n",
            "Epoch 7/10\n",
            "1500/1500 [==============================] - 5s 3ms/step - loss: 0.2566 - accuracy: 0.9034 - val_loss: 0.3379 - val_accuracy: 0.8799\n",
            "7\n",
            "Epoch 8/10\n",
            "1500/1500 [==============================] - 5s 3ms/step - loss: 0.2421 - accuracy: 0.9085 - val_loss: 0.3153 - val_accuracy: 0.8882\n",
            "8\n",
            "Epoch 9/10\n",
            "1500/1500 [==============================] - 5s 4ms/step - loss: 0.2330 - accuracy: 0.9117 - val_loss: 0.3505 - val_accuracy: 0.8806\n",
            "9\n",
            "Epoch 10/10\n",
            "1500/1500 [==============================] - 5s 3ms/step - loss: 0.2228 - accuracy: 0.9172 - val_loss: 0.3137 - val_accuracy: 0.8902\n"
          ]
        }
      ]
    },
    {
      "cell_type": "markdown",
      "source": [
        "## Learning Rate Scheduler"
      ],
      "metadata": {
        "id": "rZMXVA96qbL6"
      }
    },
    {
      "cell_type": "code",
      "source": [
        "from tensorflow.keras.callbacks import LearningRateScheduler"
      ],
      "metadata": {
        "id": "yLguMk-Hp9vQ"
      },
      "execution_count": 23,
      "outputs": []
    },
    {
      "cell_type": "code",
      "source": [
        "def scheduler(epoch):\n",
        "  if epoch < 2:\n",
        "    return 0.001\n",
        "  elif epoch < 6 :\n",
        "    return 0.0001\n",
        "  else:\n",
        "    return 0.00001\n",
        "\n",
        "learning_rate_schedule = LearningRateScheduler(scheduler, verbose=1)"
      ],
      "metadata": {
        "id": "8HeVRDHoqlDS"
      },
      "execution_count": 24,
      "outputs": []
    },
    {
      "cell_type": "code",
      "source": [
        "model = tf.keras.models.Sequential([\n",
        "    Flatten(input_shape=(28,28)),\n",
        "    Dense(512,activation=tf.nn.relu),\n",
        "    Dense(10, activation=tf.nn.softmax)\n",
        "])\n",
        "\n",
        "model.compile(optimizer=\"adam\",\n",
        "              loss=\"sparse_categorical_crossentropy\",\n",
        "              metrics=[\"accuracy\"])\n",
        "\n",
        "model.fit(x_train, y_train,\n",
        "          epochs=10,\n",
        "          validation_split=0.2,\n",
        "          callbacks=[learning_rate_schedule])"
      ],
      "metadata": {
        "colab": {
          "base_uri": "https://localhost:8080/"
        },
        "id": "fcLSZt2dqh6Z",
        "outputId": "c4c678ec-4ed0-4889-958c-f25e7fb3ec6f"
      },
      "execution_count": 25,
      "outputs": [
        {
          "output_type": "stream",
          "name": "stdout",
          "text": [
            "\n",
            "Epoch 1: LearningRateScheduler setting learning rate to 0.001.\n",
            "Epoch 1/10\n",
            "1500/1500 [==============================] - 7s 4ms/step - loss: 0.4909 - accuracy: 0.8250 - val_loss: 0.4034 - val_accuracy: 0.8528 - lr: 0.0010\n",
            "\n",
            "Epoch 2: LearningRateScheduler setting learning rate to 0.001.\n",
            "Epoch 2/10\n",
            "1500/1500 [==============================] - 5s 3ms/step - loss: 0.3692 - accuracy: 0.8645 - val_loss: 0.3741 - val_accuracy: 0.8648 - lr: 0.0010\n",
            "\n",
            "Epoch 3: LearningRateScheduler setting learning rate to 0.0001.\n",
            "Epoch 3/10\n",
            "1500/1500 [==============================] - 6s 4ms/step - loss: 0.2917 - accuracy: 0.8918 - val_loss: 0.3229 - val_accuracy: 0.8798 - lr: 1.0000e-04\n",
            "\n",
            "Epoch 4: LearningRateScheduler setting learning rate to 0.0001.\n",
            "Epoch 4/10\n",
            "1500/1500 [==============================] - 5s 3ms/step - loss: 0.2789 - accuracy: 0.8975 - val_loss: 0.3175 - val_accuracy: 0.8835 - lr: 1.0000e-04\n",
            "\n",
            "Epoch 5: LearningRateScheduler setting learning rate to 0.0001.\n",
            "Epoch 5/10\n",
            "1500/1500 [==============================] - 5s 3ms/step - loss: 0.2715 - accuracy: 0.9000 - val_loss: 0.3111 - val_accuracy: 0.8852 - lr: 1.0000e-04\n",
            "\n",
            "Epoch 6: LearningRateScheduler setting learning rate to 0.0001.\n",
            "Epoch 6/10\n",
            "1500/1500 [==============================] - 6s 4ms/step - loss: 0.2644 - accuracy: 0.9022 - val_loss: 0.3077 - val_accuracy: 0.8877 - lr: 1.0000e-04\n",
            "\n",
            "Epoch 7: LearningRateScheduler setting learning rate to 1e-05.\n",
            "Epoch 7/10\n",
            "1500/1500 [==============================] - 5s 3ms/step - loss: 0.2532 - accuracy: 0.9071 - val_loss: 0.3043 - val_accuracy: 0.8869 - lr: 1.0000e-05\n",
            "\n",
            "Epoch 8: LearningRateScheduler setting learning rate to 1e-05.\n",
            "Epoch 8/10\n",
            "1500/1500 [==============================] - 6s 4ms/step - loss: 0.2513 - accuracy: 0.9078 - val_loss: 0.3039 - val_accuracy: 0.8875 - lr: 1.0000e-05\n",
            "\n",
            "Epoch 9: LearningRateScheduler setting learning rate to 1e-05.\n",
            "Epoch 9/10\n",
            "1500/1500 [==============================] - 5s 3ms/step - loss: 0.2503 - accuracy: 0.9080 - val_loss: 0.3033 - val_accuracy: 0.8874 - lr: 1.0000e-05\n",
            "\n",
            "Epoch 10: LearningRateScheduler setting learning rate to 1e-05.\n",
            "Epoch 10/10\n",
            "1500/1500 [==============================] - 6s 4ms/step - loss: 0.2494 - accuracy: 0.9078 - val_loss: 0.3032 - val_accuracy: 0.8875 - lr: 1.0000e-05\n"
          ]
        }
      ]
    },
    {
      "cell_type": "markdown",
      "source": [
        "## Model Checkpoint"
      ],
      "metadata": {
        "id": "XFDogHZnt6ns"
      }
    },
    {
      "cell_type": "code",
      "source": [
        "from tensorflow.keras.callbacks import ModelCheckpoint\n",
        "import os"
      ],
      "metadata": {
        "id": "LMmIl1XCt-pz"
      },
      "execution_count": 32,
      "outputs": []
    },
    {
      "cell_type": "code",
      "source": [
        "def create_model():\n",
        "  model = tf.keras.models.Sequential([\n",
        "    Flatten(input_shape=(28,28)),\n",
        "    Dense(512,activation=tf.nn.relu),\n",
        "    Dense(10, activation=tf.nn.softmax)\n",
        "  ])\n",
        "\n",
        "  model.compile(optimizer=\"adam\",\n",
        "                loss=\"sparse_categorical_crossentropy\",\n",
        "                metrics=[\"accuracy\"])\n",
        "\n",
        "  return model"
      ],
      "metadata": {
        "id": "h1XIZuGKuMSz"
      },
      "execution_count": 27,
      "outputs": []
    },
    {
      "cell_type": "code",
      "source": [
        "model = create_model()"
      ],
      "metadata": {
        "id": "jNwzHVt3uMNC"
      },
      "execution_count": 33,
      "outputs": []
    },
    {
      "cell_type": "code",
      "source": [
        "filepath = \"training_1/cp.ckpt\" #tensorflow format\n",
        "cp_dir = os.path.dirname(filepath) #create directory\n",
        "cp_callback = ModelCheckpoint(filepath = filepath,\n",
        "                              save_weights_only = True,\n",
        "                              verbose=1)\n",
        "\n",
        "# for each epoch it returns 4 files, uses in distributed training\n",
        "# save the last epoch information"
      ],
      "metadata": {
        "id": "AWculNy1uZOk"
      },
      "execution_count": 37,
      "outputs": []
    },
    {
      "cell_type": "code",
      "source": [
        "model.fit(x_train, y_train,\n",
        "          epochs=10,\n",
        "          validation_split=0.2,\n",
        "          callbacks=[cp_callback])"
      ],
      "metadata": {
        "colab": {
          "base_uri": "https://localhost:8080/"
        },
        "id": "69CMiYlUq_Kz",
        "outputId": "0a6f915d-d95c-4c05-b51a-d10d01f32a26"
      },
      "execution_count": 38,
      "outputs": [
        {
          "output_type": "stream",
          "name": "stdout",
          "text": [
            "Epoch 1/10\n",
            "1498/1500 [============================>.] - ETA: 0s - loss: 0.2565 - accuracy: 0.9044\n",
            "Epoch 1: saving model to training_1/cp.ckpt\n",
            "1500/1500 [==============================] - 5s 3ms/step - loss: 0.2564 - accuracy: 0.9044 - val_loss: 0.3242 - val_accuracy: 0.8870\n",
            "Epoch 2/10\n",
            "1482/1500 [============================>.] - ETA: 0s - loss: 0.2444 - accuracy: 0.9075\n",
            "Epoch 2: saving model to training_1/cp.ckpt\n",
            "1500/1500 [==============================] - 5s 3ms/step - loss: 0.2442 - accuracy: 0.9075 - val_loss: 0.3093 - val_accuracy: 0.8917\n",
            "Epoch 3/10\n",
            "1493/1500 [============================>.] - ETA: 0s - loss: 0.2317 - accuracy: 0.9127\n",
            "Epoch 3: saving model to training_1/cp.ckpt\n",
            "1500/1500 [==============================] - 5s 3ms/step - loss: 0.2316 - accuracy: 0.9127 - val_loss: 0.3493 - val_accuracy: 0.8767\n",
            "Epoch 4/10\n",
            "1497/1500 [============================>.] - ETA: 0s - loss: 0.2231 - accuracy: 0.9169\n",
            "Epoch 4: saving model to training_1/cp.ckpt\n",
            "1500/1500 [==============================] - 5s 3ms/step - loss: 0.2230 - accuracy: 0.9169 - val_loss: 0.3286 - val_accuracy: 0.8909\n",
            "Epoch 5/10\n",
            "1487/1500 [============================>.] - ETA: 0s - loss: 0.2137 - accuracy: 0.9202\n",
            "Epoch 5: saving model to training_1/cp.ckpt\n",
            "1500/1500 [==============================] - 5s 3ms/step - loss: 0.2140 - accuracy: 0.9201 - val_loss: 0.3194 - val_accuracy: 0.8917\n",
            "Epoch 6/10\n",
            "1490/1500 [============================>.] - ETA: 0s - loss: 0.2055 - accuracy: 0.9236\n",
            "Epoch 6: saving model to training_1/cp.ckpt\n",
            "1500/1500 [==============================] - 5s 3ms/step - loss: 0.2055 - accuracy: 0.9238 - val_loss: 0.3308 - val_accuracy: 0.8888\n",
            "Epoch 7/10\n",
            "1492/1500 [============================>.] - ETA: 0s - loss: 0.1942 - accuracy: 0.9271\n",
            "Epoch 7: saving model to training_1/cp.ckpt\n",
            "1500/1500 [==============================] - 5s 3ms/step - loss: 0.1943 - accuracy: 0.9270 - val_loss: 0.3177 - val_accuracy: 0.8946\n",
            "Epoch 8/10\n",
            "1489/1500 [============================>.] - ETA: 0s - loss: 0.1916 - accuracy: 0.9283\n",
            "Epoch 8: saving model to training_1/cp.ckpt\n",
            "1500/1500 [==============================] - 4s 3ms/step - loss: 0.1918 - accuracy: 0.9281 - val_loss: 0.3423 - val_accuracy: 0.8863\n",
            "Epoch 9/10\n",
            "1494/1500 [============================>.] - ETA: 0s - loss: 0.1821 - accuracy: 0.9321\n",
            "Epoch 9: saving model to training_1/cp.ckpt\n",
            "1500/1500 [==============================] - 5s 3ms/step - loss: 0.1821 - accuracy: 0.9321 - val_loss: 0.3297 - val_accuracy: 0.8925\n",
            "Epoch 10/10\n",
            "1491/1500 [============================>.] - ETA: 0s - loss: 0.1773 - accuracy: 0.9331\n",
            "Epoch 10: saving model to training_1/cp.ckpt\n",
            "1500/1500 [==============================] - 4s 3ms/step - loss: 0.1776 - accuracy: 0.9331 - val_loss: 0.3371 - val_accuracy: 0.8913\n"
          ]
        },
        {
          "output_type": "execute_result",
          "data": {
            "text/plain": [
              "<keras.callbacks.History at 0x7f5aab2ae200>"
            ]
          },
          "metadata": {},
          "execution_count": 38
        }
      ]
    },
    {
      "cell_type": "code",
      "source": [
        "model = create_model()\n",
        "loss, acc = model.evaluate(x_test, y_test)"
      ],
      "metadata": {
        "colab": {
          "base_uri": "https://localhost:8080/"
        },
        "id": "1zKgZDZbuygx",
        "outputId": "77028d95-8c2f-47f0-ed76-bdee4fad13db"
      },
      "execution_count": 39,
      "outputs": [
        {
          "output_type": "stream",
          "name": "stdout",
          "text": [
            "313/313 [==============================] - 1s 2ms/step - loss: 2.3333 - accuracy: 0.1330\n"
          ]
        }
      ]
    },
    {
      "cell_type": "code",
      "source": [
        "model.load_weights(filepath)\n",
        "loss, acc = model.evaluate(x_test, y_test)\n",
        "# we see that the model saves and loads correctly"
      ],
      "metadata": {
        "colab": {
          "base_uri": "https://localhost:8080/"
        },
        "id": "gCWnMiwCxVO6",
        "outputId": "3e66b20d-3f53-4b81-f50e-d838efb026dc"
      },
      "execution_count": 40,
      "outputs": [
        {
          "output_type": "stream",
          "name": "stdout",
          "text": [
            "313/313 [==============================] - 1s 4ms/step - loss: 0.3605 - accuracy: 0.8831\n"
          ]
        }
      ]
    },
    {
      "cell_type": "code",
      "source": [
        "cp_path = \"training_2/cp-{epoch:04d}.ckpt\"\n",
        "cp_dir = os.path.dirname(cp_path)"
      ],
      "metadata": {
        "id": "gpdWTlDzxs14"
      },
      "execution_count": 44,
      "outputs": []
    },
    {
      "cell_type": "code",
      "source": [
        "cp_callback = ModelCheckpoint(filepath = cp_path,\n",
        "                              save_weights_only = True,\n",
        "                              save_freq='epoch',\n",
        "                              period=5,\n",
        "                              verbose=1)\n",
        "\n",
        "# save_freq = int > every int mini-batch saves\n",
        "# period > every n epoch saves"
      ],
      "metadata": {
        "colab": {
          "base_uri": "https://localhost:8080/"
        },
        "id": "FFVDlXjuyFBr",
        "outputId": "6c16dbe3-b182-4a31-8e59-ce69ecb2688d"
      },
      "execution_count": 45,
      "outputs": [
        {
          "output_type": "stream",
          "name": "stderr",
          "text": [
            "WARNING:tensorflow:`period` argument is deprecated. Please use `save_freq` to specify the frequency in number of batches seen.\n"
          ]
        }
      ]
    },
    {
      "cell_type": "code",
      "source": [
        "model.fit(x_train, y_train,\n",
        "          epochs=10,\n",
        "          validation_split=0.2,\n",
        "          callbacks=[cp_callback])"
      ],
      "metadata": {
        "colab": {
          "base_uri": "https://localhost:8080/"
        },
        "id": "iK2_m8PVyac3",
        "outputId": "d907584a-65b3-4d9e-a8b5-417152066c2f"
      },
      "execution_count": 46,
      "outputs": [
        {
          "output_type": "stream",
          "name": "stdout",
          "text": [
            "Epoch 1/10\n",
            "1500/1500 [==============================] - 6s 3ms/step - loss: 0.1686 - accuracy: 0.9364 - val_loss: 0.3315 - val_accuracy: 0.8975\n",
            "Epoch 2/10\n",
            "1500/1500 [==============================] - 5s 4ms/step - loss: 0.1663 - accuracy: 0.9385 - val_loss: 0.3421 - val_accuracy: 0.8899\n",
            "Epoch 3/10\n",
            "1500/1500 [==============================] - 5s 3ms/step - loss: 0.1601 - accuracy: 0.9401 - val_loss: 0.3737 - val_accuracy: 0.8880\n",
            "Epoch 4/10\n",
            "1500/1500 [==============================] - 5s 3ms/step - loss: 0.1547 - accuracy: 0.9423 - val_loss: 0.3374 - val_accuracy: 0.8905\n",
            "Epoch 5/10\n",
            "1486/1500 [============================>.] - ETA: 0s - loss: 0.1483 - accuracy: 0.9453\n",
            "Epoch 5: saving model to training_2/cp-0005.ckpt\n",
            "1500/1500 [==============================] - 5s 4ms/step - loss: 0.1484 - accuracy: 0.9452 - val_loss: 0.3959 - val_accuracy: 0.8834\n",
            "Epoch 6/10\n",
            "1500/1500 [==============================] - 5s 3ms/step - loss: 0.1478 - accuracy: 0.9434 - val_loss: 0.3684 - val_accuracy: 0.8917\n",
            "Epoch 7/10\n",
            "1500/1500 [==============================] - 5s 4ms/step - loss: 0.1408 - accuracy: 0.9463 - val_loss: 0.3646 - val_accuracy: 0.8928\n",
            "Epoch 8/10\n",
            "1500/1500 [==============================] - 5s 3ms/step - loss: 0.1380 - accuracy: 0.9476 - val_loss: 0.3761 - val_accuracy: 0.8909\n",
            "Epoch 9/10\n",
            "1500/1500 [==============================] - 5s 3ms/step - loss: 0.1329 - accuracy: 0.9506 - val_loss: 0.3575 - val_accuracy: 0.8953\n",
            "Epoch 10/10\n",
            "1482/1500 [============================>.] - ETA: 0s - loss: 0.1289 - accuracy: 0.9522\n",
            "Epoch 10: saving model to training_2/cp-0010.ckpt\n",
            "1500/1500 [==============================] - 5s 3ms/step - loss: 0.1286 - accuracy: 0.9522 - val_loss: 0.3894 - val_accuracy: 0.8890\n"
          ]
        },
        {
          "output_type": "execute_result",
          "data": {
            "text/plain": [
              "<keras.callbacks.History at 0x7f5ab891e2f0>"
            ]
          },
          "metadata": {},
          "execution_count": 46
        }
      ]
    },
    {
      "cell_type": "code",
      "source": [
        "# it reads the last cp from the checkpoint file in the directory\n",
        "# if we change it, we will face error\n",
        "latest = tf.train.latest_checkpoint(cp_dir)\n",
        "latest"
      ],
      "metadata": {
        "colab": {
          "base_uri": "https://localhost:8080/",
          "height": 39
        },
        "id": "VEwCyKQlyu0M",
        "outputId": "5c1aa178-2231-4c67-f283-313f6bcd6864"
      },
      "execution_count": 47,
      "outputs": [
        {
          "output_type": "execute_result",
          "data": {
            "text/plain": [
              "'training_2/cp-0010.ckpt'"
            ],
            "application/vnd.google.colaboratory.intrinsic+json": {
              "type": "string"
            }
          },
          "metadata": {},
          "execution_count": 47
        }
      ]
    },
    {
      "cell_type": "code",
      "source": [
        "os.mkdir(\"training_3\")\n",
        "ckpt_callback = ModelCheckpoint(filepath=\"training_3/weights.{epoch:02d}-{val_loss:.2f}.hdf5\",\n",
        "                                monitor = \"val_loss\")"
      ],
      "metadata": {
        "id": "GAAThF5ozIq5"
      },
      "execution_count": 49,
      "outputs": []
    },
    {
      "cell_type": "code",
      "source": [
        "model = create_model()\n",
        "model.fit(x_train, y_train,\n",
        "          epochs=10, \n",
        "          validation_split=0.2,\n",
        "          callbacks=[learning_rate_schedule, ckpt_callback])"
      ],
      "metadata": {
        "colab": {
          "base_uri": "https://localhost:8080/"
        },
        "id": "7vqL4S1E0Bc3",
        "outputId": "dbcd908f-e422-4db1-b4b4-0300fbb199a9"
      },
      "execution_count": 58,
      "outputs": [
        {
          "output_type": "stream",
          "name": "stdout",
          "text": [
            "\n",
            "Epoch 1: LearningRateScheduler setting learning rate to 0.001.\n",
            "Epoch 1/10\n",
            "1500/1500 [==============================] - 6s 3ms/step - loss: 0.4931 - accuracy: 0.8253 - val_loss: 0.4378 - val_accuracy: 0.8447 - lr: 0.0010\n",
            "\n",
            "Epoch 2: LearningRateScheduler setting learning rate to 0.001.\n",
            "Epoch 2/10\n",
            "1500/1500 [==============================] - 5s 4ms/step - loss: 0.3693 - accuracy: 0.8661 - val_loss: 0.3547 - val_accuracy: 0.8746 - lr: 0.0010\n",
            "\n",
            "Epoch 3: LearningRateScheduler setting learning rate to 0.0001.\n",
            "Epoch 3/10\n",
            "1500/1500 [==============================] - 5s 3ms/step - loss: 0.2899 - accuracy: 0.8936 - val_loss: 0.3190 - val_accuracy: 0.8821 - lr: 1.0000e-04\n",
            "\n",
            "Epoch 4: LearningRateScheduler setting learning rate to 0.0001.\n",
            "Epoch 4/10\n",
            "1500/1500 [==============================] - 6s 4ms/step - loss: 0.2772 - accuracy: 0.8989 - val_loss: 0.3135 - val_accuracy: 0.8861 - lr: 1.0000e-04\n",
            "\n",
            "Epoch 5: LearningRateScheduler setting learning rate to 0.0001.\n",
            "Epoch 5/10\n",
            "1500/1500 [==============================] - 5s 3ms/step - loss: 0.2689 - accuracy: 0.9015 - val_loss: 0.3124 - val_accuracy: 0.8873 - lr: 1.0000e-04\n",
            "\n",
            "Epoch 6: LearningRateScheduler setting learning rate to 0.0001.\n",
            "Epoch 6/10\n",
            "1500/1500 [==============================] - 5s 3ms/step - loss: 0.2618 - accuracy: 0.9040 - val_loss: 0.3103 - val_accuracy: 0.8875 - lr: 1.0000e-04\n",
            "\n",
            "Epoch 7: LearningRateScheduler setting learning rate to 1e-05.\n",
            "Epoch 7/10\n",
            "1500/1500 [==============================] - 5s 4ms/step - loss: 0.2509 - accuracy: 0.9084 - val_loss: 0.3037 - val_accuracy: 0.8896 - lr: 1.0000e-05\n",
            "\n",
            "Epoch 8: LearningRateScheduler setting learning rate to 1e-05.\n",
            "Epoch 8/10\n",
            "1500/1500 [==============================] - 5s 4ms/step - loss: 0.2493 - accuracy: 0.9089 - val_loss: 0.3034 - val_accuracy: 0.8895 - lr: 1.0000e-05\n",
            "\n",
            "Epoch 9: LearningRateScheduler setting learning rate to 1e-05.\n",
            "Epoch 9/10\n",
            "1500/1500 [==============================] - 6s 4ms/step - loss: 0.2483 - accuracy: 0.9098 - val_loss: 0.3030 - val_accuracy: 0.8898 - lr: 1.0000e-05\n",
            "\n",
            "Epoch 10: LearningRateScheduler setting learning rate to 1e-05.\n",
            "Epoch 10/10\n",
            "1500/1500 [==============================] - 5s 3ms/step - loss: 0.2474 - accuracy: 0.9097 - val_loss: 0.3027 - val_accuracy: 0.8903 - lr: 1.0000e-05\n"
          ]
        },
        {
          "output_type": "execute_result",
          "data": {
            "text/plain": [
              "<keras.callbacks.History at 0x7f5ab82bd6c0>"
            ]
          },
          "metadata": {},
          "execution_count": 58
        }
      ]
    },
    {
      "cell_type": "code",
      "source": [
        "checkpoint_path = \"/content/training_3/weights.10-0.30.hdf5\""
      ],
      "metadata": {
        "id": "u-1szOFa0Ss3"
      },
      "execution_count": 74,
      "outputs": []
    },
    {
      "cell_type": "code",
      "source": [
        "del model"
      ],
      "metadata": {
        "id": "wZvAD7m50xNR"
      },
      "execution_count": 75,
      "outputs": []
    },
    {
      "cell_type": "code",
      "source": [
        "from tensorflow.keras.models import load_model\n",
        "\n",
        "model = load_model(checkpoint_path)"
      ],
      "metadata": {
        "id": "ce2jEHDu0yHK"
      },
      "execution_count": 85,
      "outputs": []
    },
    {
      "cell_type": "code",
      "source": [
        "# continue the training\n",
        "model.compile(optimizer=\"adam\",\n",
        "              loss=\"sparse_categorical_crossentropy\",\n",
        "              metrics=[\"accuracy\"])\n",
        "\n",
        "# now we resume the training \n",
        "# so the epoch 1 here means the epoch 11 but the LR scheduler doesn't understand that\n",
        "model.fit(x_train, y_train,\n",
        "          epochs=3, \n",
        "          validation_split=0.2,\n",
        "          callbacks=[learning_rate_schedule])"
      ],
      "metadata": {
        "colab": {
          "base_uri": "https://localhost:8080/"
        },
        "id": "jBMQWjk_04PV",
        "outputId": "0eb70a88-d68d-4104-c552-fc72c8776517"
      },
      "execution_count": 86,
      "outputs": [
        {
          "output_type": "stream",
          "name": "stdout",
          "text": [
            "\n",
            "Epoch 1: LearningRateScheduler setting learning rate to 0.001.\n",
            "Epoch 1/3\n",
            "1500/1500 [==============================] - 6s 3ms/step - loss: 0.3122 - accuracy: 0.8851 - val_loss: 0.3485 - val_accuracy: 0.8786 - lr: 0.0010\n",
            "\n",
            "Epoch 2: LearningRateScheduler setting learning rate to 0.001.\n",
            "Epoch 2/3\n",
            "1500/1500 [==============================] - 7s 4ms/step - loss: 0.2931 - accuracy: 0.8899 - val_loss: 0.3370 - val_accuracy: 0.8813 - lr: 0.0010\n",
            "\n",
            "Epoch 3: LearningRateScheduler setting learning rate to 0.0001.\n",
            "Epoch 3/3\n",
            "1500/1500 [==============================] - 5s 3ms/step - loss: 0.2325 - accuracy: 0.9145 - val_loss: 0.2950 - val_accuracy: 0.8934 - lr: 1.0000e-04\n"
          ]
        },
        {
          "output_type": "execute_result",
          "data": {
            "text/plain": [
              "<keras.callbacks.History at 0x7f5ab82aa0e0>"
            ]
          },
          "metadata": {},
          "execution_count": 86
        }
      ]
    },
    {
      "cell_type": "code",
      "source": [
        "last_epoch = int(checkpoint_path.split('-')[-2].split('.')[-1])\n",
        "last_epoch"
      ],
      "metadata": {
        "colab": {
          "base_uri": "https://localhost:8080/"
        },
        "id": "GsTfdiyT55ud",
        "outputId": "638598cb-dc2d-47de-df10-a5ee5ae1ed15"
      },
      "execution_count": 83,
      "outputs": [
        {
          "output_type": "execute_result",
          "data": {
            "text/plain": [
              "10"
            ]
          },
          "metadata": {},
          "execution_count": 83
        }
      ]
    },
    {
      "cell_type": "code",
      "source": [
        "# so to fix this\n",
        "del model\n",
        "model = load_model(checkpoint_path)\n",
        "\n",
        "model.compile(optimizer=\"adam\",\n",
        "              loss=\"sparse_categorical_crossentropy\",\n",
        "              metrics=[\"accuracy\"])\n",
        "\n",
        "# Note that in conjunction with initial_epoch, epochs is to be understood as \"final epoch\".\n",
        "history = model.fit(x_train, y_train,\n",
        "          epochs=13, \n",
        "          validation_split=0.2,\n",
        "          callbacks=[learning_rate_schedule],\n",
        "          initial_epoch=10)"
      ],
      "metadata": {
        "colab": {
          "base_uri": "https://localhost:8080/"
        },
        "id": "MX3loD9j1P1N",
        "outputId": "05533421-37ae-4df2-97ef-e34596347344"
      },
      "execution_count": 96,
      "outputs": [
        {
          "output_type": "stream",
          "name": "stdout",
          "text": [
            "\n",
            "Epoch 11: LearningRateScheduler setting learning rate to 1e-05.\n",
            "Epoch 11/13\n",
            "1500/1500 [==============================] - 6s 3ms/step - loss: 0.2466 - accuracy: 0.9100 - val_loss: 0.3023 - val_accuracy: 0.8902 - lr: 1.0000e-05\n",
            "\n",
            "Epoch 12: LearningRateScheduler setting learning rate to 1e-05.\n",
            "Epoch 12/13\n",
            "1500/1500 [==============================] - 5s 3ms/step - loss: 0.2459 - accuracy: 0.9106 - val_loss: 0.3023 - val_accuracy: 0.8900 - lr: 1.0000e-05\n",
            "\n",
            "Epoch 13: LearningRateScheduler setting learning rate to 1e-05.\n",
            "Epoch 13/13\n",
            "1500/1500 [==============================] - 5s 3ms/step - loss: 0.2452 - accuracy: 0.9108 - val_loss: 0.3021 - val_accuracy: 0.8902 - lr: 1.0000e-05\n"
          ]
        }
      ]
    },
    {
      "cell_type": "code",
      "source": [],
      "metadata": {
        "id": "txjYtIku7SRh"
      },
      "execution_count": null,
      "outputs": []
    }
  ]
}