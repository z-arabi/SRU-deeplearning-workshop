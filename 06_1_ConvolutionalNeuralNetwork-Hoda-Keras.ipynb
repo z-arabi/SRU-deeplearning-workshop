{
  "cells": [
    {
      "cell_type": "markdown",
      "metadata": {
        "id": "view-in-github",
        "colab_type": "text"
      },
      "source": [
        "<a href=\"https://colab.research.google.com/github/z-arabi/SRU-deeplearning-workshop/blob/master/06_ConvolutionalNeuralNetwork-Hoda-Keras.ipynb\" target=\"_parent\"><img src=\"https://colab.research.google.com/assets/colab-badge.svg\" alt=\"Open In Colab\"/></a>"
      ]
    },
    {
      "cell_type": "code",
      "source": [
        "! git clone https://github.com/z-arabi/SRU-deeplearning-workshop\n",
        "%cd SRU-deeplearning-workshop"
      ],
      "metadata": {
        "id": "yG50VgG58D8v",
        "outputId": "179f1f3e-afba-4696-a45c-b4c0d2576291",
        "colab": {
          "base_uri": "https://localhost:8080/"
        }
      },
      "execution_count": 1,
      "outputs": [
        {
          "output_type": "stream",
          "name": "stdout",
          "text": [
            "Cloning into 'SRU-deeplearning-workshop'...\n",
            "remote: Enumerating objects: 194, done.\u001b[K\n",
            "remote: Counting objects: 100% (105/105), done.\u001b[K\n",
            "remote: Compressing objects: 100% (94/94), done.\u001b[K\n",
            "remote: Total 194 (delta 48), reused 35 (delta 11), pack-reused 89\u001b[K\n",
            "Receiving objects: 100% (194/194), 14.79 MiB | 26.62 MiB/s, done.\n",
            "Resolving deltas: 100% (85/85), done.\n",
            "/content/SRU-deeplearning-workshop\n"
          ]
        }
      ]
    },
    {
      "cell_type": "markdown",
      "metadata": {
        "id": "vGDsab-Y76h5"
      },
      "source": [
        "# CNN Architecture"
      ]
    },
    {
      "cell_type": "code",
      "source": [
        "import keras\n",
        "from keras import layers\n",
        "from keras.models import Sequential\n",
        "from keras.layers import Dense, Dropout, Activation\n",
        "import numpy as np\n",
        "import matplotlib.pyplot as plt"
      ],
      "metadata": {
        "id": "NElSGjCk8RPc"
      },
      "execution_count": 2,
      "outputs": []
    },
    {
      "cell_type": "code",
      "execution_count": 3,
      "metadata": {
        "id": "bCOK2iB976iB"
      },
      "outputs": [],
      "source": [
        "model = Sequential()\n",
        "\n",
        "# in 1D input > model.add(Dense(64, activation='relu', input_dim=25))\n",
        "# in images > we use Conv > input_shape > must be 3 dims\n",
        "# num of filters, (3*3)*number of input channels\n",
        "# consider we have images with the shape of 28*28*1\n",
        "\n",
        "# padding > \"valid\" as default\n",
        "model.add(layers.Conv2D(32, (3, 3), activation='relu',\n",
        "                        input_shape=(28, 28, 1)))\n",
        "\n",
        "# strides: Integer, tuple of 2 integers, or None. default: None\n",
        "# If None, it will default to pool_size. > stride=(1,1) / (2,2)\n",
        "model.add(layers.MaxPooling2D((2, 2)))\n",
        "\n",
        "model.add(layers.Conv2D(64, (3, 3), activation='relu'))\n",
        "model.add(layers.MaxPooling2D((2, 2)))\n",
        "model.add(layers.Conv2D(64, (3, 3), activation='relu'))\n",
        "model.add(layers.Flatten())\n",
        "model.add(layers.Dense(64, activation='relu'))\n",
        "model.add(Dropout(0.5))\n",
        "model.add(layers.Dense(10, activation='softmax'))\n"
      ]
    },
    {
      "cell_type": "code",
      "execution_count": 4,
      "metadata": {
        "id": "9Jibjg6A76iE",
        "outputId": "648cc7f2-77aa-40f9-c46a-bf6a4c89e80a",
        "colab": {
          "base_uri": "https://localhost:8080/"
        }
      },
      "outputs": [
        {
          "output_type": "stream",
          "name": "stdout",
          "text": [
            "Model: \"sequential\"\n",
            "_________________________________________________________________\n",
            " Layer (type)                Output Shape              Param #   \n",
            "=================================================================\n",
            " conv2d (Conv2D)             (None, 26, 26, 32)        320       \n",
            "                                                                 \n",
            " max_pooling2d (MaxPooling2D  (None, 13, 13, 32)       0         \n",
            " )                                                               \n",
            "                                                                 \n",
            " conv2d_1 (Conv2D)           (None, 11, 11, 64)        18496     \n",
            "                                                                 \n",
            " max_pooling2d_1 (MaxPooling  (None, 5, 5, 64)         0         \n",
            " 2D)                                                             \n",
            "                                                                 \n",
            " conv2d_2 (Conv2D)           (None, 3, 3, 64)          36928     \n",
            "                                                                 \n",
            " flatten (Flatten)           (None, 576)               0         \n",
            "                                                                 \n",
            " dense (Dense)               (None, 64)                36928     \n",
            "                                                                 \n",
            " dropout (Dropout)           (None, 64)                0         \n",
            "                                                                 \n",
            " dense_1 (Dense)             (None, 10)                650       \n",
            "                                                                 \n",
            "=================================================================\n",
            "Total params: 93,322\n",
            "Trainable params: 93,322\n",
            "Non-trainable params: 0\n",
            "_________________________________________________________________\n"
          ]
        }
      ],
      "source": [
        "'''\n",
        "layer input > 28*28*1\n",
        "out conv > \n",
        "out > 26*26*32\n",
        "params > 3*3*1*32 +32 = 320\n",
        "out max pool >\n",
        "out > 13*13*32\n",
        "it deosn't have any training params\n",
        "second conv>\n",
        "out > 11*11*64\n",
        "params > 3*3*32*64 + 64 = 18496\n",
        "second pool>\n",
        "out > 5*5*64\n",
        "third conv > \n",
        "out > 3*3*64\n",
        "params > 3*3*64*64 + 64 = 36928\n",
        "flatten > 576 neurons\n",
        "dense 64 > params = 576*64 + 64 = 36928\n",
        "dropout > nothing!!!!\n",
        "dense 10 > params = 64*10 + 10 = 650\n",
        "'''\n",
        "model.summary()"
      ]
    },
    {
      "cell_type": "markdown",
      "metadata": {
        "id": "iVzNU4oL76iF"
      },
      "source": [
        "## CNN on Hoda Dataset\n"
      ]
    },
    {
      "cell_type": "code",
      "source": [
        "from dataset import load_hoda"
      ],
      "metadata": {
        "id": "mcolkLoQA3No"
      },
      "execution_count": 5,
      "outputs": []
    },
    {
      "cell_type": "code",
      "source": [
        "np.random.seed(123)  # for reproducibility\n",
        "\n",
        "# Load pre-shuffled HODA data into train and test sets\n",
        "x_train_original, y_train_original, x_test_original, y_test_original = load_hoda(\n",
        "                                                                        training_sample_size=3500,\n",
        "                                                                        test_sample_size=400,size=28)"
      ],
      "metadata": {
        "id": "iFmQbCLhBDTe"
      },
      "execution_count": 6,
      "outputs": []
    },
    {
      "cell_type": "code",
      "source": [
        "print(type(x_train_original))\n",
        "print(x_train_original.shape)\n",
        "print(x_train_original.dtype)\n",
        "print(x_train_original.min(), x_train_original.max())"
      ],
      "metadata": {
        "id": "6ucTxBKBBKjU",
        "outputId": "bd8ffedd-25bc-45e8-c151-93ee9431320e",
        "colab": {
          "base_uri": "https://localhost:8080/"
        }
      },
      "execution_count": 7,
      "outputs": [
        {
          "output_type": "stream",
          "name": "stdout",
          "text": [
            "<class 'numpy.ndarray'>\n",
            "(3500, 784)\n",
            "uint8\n",
            "0 255\n"
          ]
        }
      ]
    },
    {
      "cell_type": "code",
      "source": [
        "x_train = np.array(x_train_original)\n",
        "x_test = np.array(x_test_original)\n",
        "\n",
        "x_train = x_train.astype('float32')\n",
        "x_test = x_test.astype('float32')\n",
        "\n",
        "x_train /= 255\n",
        "x_test /= 255\n",
        "\n",
        "print(type(x_train))\n",
        "print(x_train.shape)\n",
        "print(x_train.dtype)\n",
        "print(x_train.min(), x_train.max())"
      ],
      "metadata": {
        "id": "dsE7SVgzBdJk",
        "outputId": "dacd1ccd-25b7-4a86-961b-ea85c6604171",
        "colab": {
          "base_uri": "https://localhost:8080/"
        }
      },
      "execution_count": 15,
      "outputs": [
        {
          "output_type": "stream",
          "name": "stdout",
          "text": [
            "<class 'numpy.ndarray'>\n",
            "(3500, 784)\n",
            "float32\n",
            "0.0 1.0\n"
          ]
        }
      ]
    },
    {
      "cell_type": "code",
      "source": [
        "# Reshape to original image shape (n x 784)  ==> (n x 28 x 28 x 1)\n",
        "x_train = x_train.reshape(-1,28,28,1)\n",
        "x_test = x_test.reshape(-1,28,28,1)\n",
        "\n",
        "print(x_train.shape)"
      ],
      "metadata": {
        "id": "l08jAAwNCPFo",
        "outputId": "0976e98e-0595-49c6-8978-be978a0965bb",
        "colab": {
          "base_uri": "https://localhost:8080/"
        }
      },
      "execution_count": 16,
      "outputs": [
        {
          "output_type": "stream",
          "name": "stdout",
          "text": [
            "(3500, 28, 28, 1)\n"
          ]
        }
      ]
    },
    {
      "cell_type": "code",
      "source": [
        "print(y_train_original.shape)\n",
        "\n",
        "y_train = keras.utils.to_categorical(y_train_original, num_classes=10)\n",
        "y_test = keras.utils.to_categorical(y_test_original, num_classes=10)\n",
        "\n",
        "print(y_train.shape)"
      ],
      "metadata": {
        "id": "ODQBKXraCoMC",
        "outputId": "a85afb42-bd34-4125-814d-d66885f31870",
        "colab": {
          "base_uri": "https://localhost:8080/"
        }
      },
      "execution_count": 17,
      "outputs": [
        {
          "output_type": "stream",
          "name": "stdout",
          "text": [
            "(3500,)\n",
            "(3500, 10)\n"
          ]
        }
      ]
    },
    {
      "cell_type": "code",
      "source": [
        "# test and validation set\n",
        "x_val = x_test[:200]\n",
        "x_test = x_test[200:]\n",
        "y_val = y_test[:200]\n",
        "y_test = y_test[200:]"
      ],
      "metadata": {
        "id": "1YM7MHu8C-tF"
      },
      "execution_count": 18,
      "outputs": []
    },
    {
      "cell_type": "code",
      "source": [
        "# Define model architectur\n",
        "model = Sequential()\n",
        "model.add(layers.Conv2D(32, (3, 3), activation='relu',\n",
        "                        input_shape=(28, 28, 1)))\n",
        "model.add(layers.MaxPooling2D((2, 2)))\n",
        "model.add(layers.Conv2D(64, (3, 3), activation='relu'))\n",
        "model.add(layers.MaxPooling2D((2, 2)))\n",
        "model.add(layers.Conv2D(64, (3, 3), activation='relu'))\n",
        "model.add(layers.Flatten())\n",
        "model.add(layers.Dense(64, activation='relu'))\n",
        "model.add(Dropout(0.5))\n",
        "model.add(layers.Dense(10, activation='softmax'))"
      ],
      "metadata": {
        "id": "FTV2HrlRDH4p"
      },
      "execution_count": 19,
      "outputs": []
    },
    {
      "cell_type": "code",
      "source": [
        "# Compile model\n",
        "'''\n",
        "Model.compile(\n",
        "    optimizer=\"rmsprop\",\n",
        "    loss=None,\n",
        "    metrics=None,\n",
        "    loss_weights=None,\n",
        "    weighted_metrics=None,\n",
        "    run_eagerly=None,\n",
        "    steps_per_execution=None,\n",
        "    jit_compile=None,\n",
        "    **kwargs\n",
        ")\n",
        "'''\n",
        "model.compile(loss='categorical_crossentropy',\n",
        "              optimizer='adam',\n",
        "              metrics=['accuracy'])"
      ],
      "metadata": {
        "id": "aDNJjCQ7DJYs"
      },
      "execution_count": 20,
      "outputs": []
    },
    {
      "cell_type": "code",
      "execution_count": 21,
      "metadata": {
        "id": "jzc_n_ix76iH",
        "outputId": "43e2b5b1-ac4d-4cc5-fda2-68bfb6f9fb13",
        "colab": {
          "base_uri": "https://localhost:8080/"
        }
      },
      "outputs": [
        {
          "output_type": "stream",
          "name": "stdout",
          "text": [
            "Epoch 1/100\n",
            "14/14 [==============================] - 2s 25ms/step - loss: 2.0369 - accuracy: 0.3714 - val_loss: 1.3039 - val_accuracy: 0.7250\n",
            "Epoch 2/100\n",
            "14/14 [==============================] - 0s 10ms/step - loss: 1.1455 - accuracy: 0.6220 - val_loss: 0.5387 - val_accuracy: 0.8350\n",
            "Epoch 3/100\n",
            "14/14 [==============================] - 0s 11ms/step - loss: 0.7761 - accuracy: 0.7423 - val_loss: 0.3202 - val_accuracy: 0.9150\n",
            "Epoch 4/100\n",
            "14/14 [==============================] - 0s 10ms/step - loss: 0.5680 - accuracy: 0.8091 - val_loss: 0.2509 - val_accuracy: 0.9150\n",
            "Epoch 5/100\n",
            "14/14 [==============================] - 0s 12ms/step - loss: 0.4793 - accuracy: 0.8369 - val_loss: 0.2016 - val_accuracy: 0.9250\n",
            "Epoch 6/100\n",
            "14/14 [==============================] - 0s 12ms/step - loss: 0.4156 - accuracy: 0.8586 - val_loss: 0.1824 - val_accuracy: 0.9400\n",
            "Epoch 7/100\n",
            "14/14 [==============================] - 0s 11ms/step - loss: 0.3451 - accuracy: 0.8869 - val_loss: 0.1585 - val_accuracy: 0.9500\n",
            "Epoch 8/100\n",
            "14/14 [==============================] - 0s 11ms/step - loss: 0.2957 - accuracy: 0.9080 - val_loss: 0.1733 - val_accuracy: 0.9450\n",
            "Epoch 9/100\n",
            "14/14 [==============================] - 0s 11ms/step - loss: 0.2673 - accuracy: 0.9091 - val_loss: 0.1430 - val_accuracy: 0.9650\n",
            "Epoch 10/100\n",
            "14/14 [==============================] - 0s 11ms/step - loss: 0.2496 - accuracy: 0.9171 - val_loss: 0.1302 - val_accuracy: 0.9550\n",
            "Epoch 11/100\n",
            "14/14 [==============================] - 0s 11ms/step - loss: 0.2105 - accuracy: 0.9331 - val_loss: 0.1181 - val_accuracy: 0.9700\n",
            "Epoch 12/100\n",
            "14/14 [==============================] - 0s 11ms/step - loss: 0.2009 - accuracy: 0.9357 - val_loss: 0.1004 - val_accuracy: 0.9650\n",
            "Epoch 13/100\n",
            "14/14 [==============================] - 0s 11ms/step - loss: 0.1759 - accuracy: 0.9389 - val_loss: 0.0992 - val_accuracy: 0.9650\n",
            "Epoch 14/100\n",
            "14/14 [==============================] - 0s 13ms/step - loss: 0.1701 - accuracy: 0.9454 - val_loss: 0.1025 - val_accuracy: 0.9700\n",
            "Epoch 15/100\n",
            "14/14 [==============================] - 0s 12ms/step - loss: 0.1636 - accuracy: 0.9474 - val_loss: 0.0907 - val_accuracy: 0.9750\n",
            "Epoch 16/100\n",
            "14/14 [==============================] - 0s 13ms/step - loss: 0.1409 - accuracy: 0.9557 - val_loss: 0.0779 - val_accuracy: 0.9850\n",
            "Epoch 17/100\n",
            "14/14 [==============================] - 0s 11ms/step - loss: 0.1356 - accuracy: 0.9551 - val_loss: 0.0904 - val_accuracy: 0.9850\n",
            "Epoch 18/100\n",
            "14/14 [==============================] - 0s 10ms/step - loss: 0.1319 - accuracy: 0.9566 - val_loss: 0.0920 - val_accuracy: 0.9800\n",
            "Epoch 19/100\n",
            "14/14 [==============================] - 0s 11ms/step - loss: 0.1269 - accuracy: 0.9566 - val_loss: 0.0817 - val_accuracy: 0.9700\n",
            "Epoch 20/100\n",
            "14/14 [==============================] - 0s 9ms/step - loss: 0.1124 - accuracy: 0.9634 - val_loss: 0.0785 - val_accuracy: 0.9750\n",
            "Epoch 21/100\n",
            "14/14 [==============================] - 0s 9ms/step - loss: 0.1175 - accuracy: 0.9631 - val_loss: 0.0821 - val_accuracy: 0.9800\n",
            "Epoch 22/100\n",
            "14/14 [==============================] - 0s 9ms/step - loss: 0.0956 - accuracy: 0.9666 - val_loss: 0.0870 - val_accuracy: 0.9800\n",
            "Epoch 23/100\n",
            "14/14 [==============================] - 0s 11ms/step - loss: 0.0804 - accuracy: 0.9726 - val_loss: 0.0753 - val_accuracy: 0.9700\n",
            "Epoch 24/100\n",
            "14/14 [==============================] - 0s 8ms/step - loss: 0.0840 - accuracy: 0.9709 - val_loss: 0.0743 - val_accuracy: 0.9700\n",
            "Epoch 25/100\n",
            "14/14 [==============================] - 0s 8ms/step - loss: 0.0874 - accuracy: 0.9694 - val_loss: 0.0681 - val_accuracy: 0.9800\n",
            "Epoch 26/100\n",
            "14/14 [==============================] - 0s 9ms/step - loss: 0.0823 - accuracy: 0.9689 - val_loss: 0.0768 - val_accuracy: 0.9750\n",
            "Epoch 27/100\n",
            "14/14 [==============================] - 0s 8ms/step - loss: 0.0908 - accuracy: 0.9663 - val_loss: 0.0901 - val_accuracy: 0.9750\n",
            "Epoch 28/100\n",
            "14/14 [==============================] - 0s 9ms/step - loss: 0.0798 - accuracy: 0.9706 - val_loss: 0.0867 - val_accuracy: 0.9750\n",
            "Epoch 29/100\n",
            "14/14 [==============================] - 0s 8ms/step - loss: 0.0783 - accuracy: 0.9706 - val_loss: 0.0761 - val_accuracy: 0.9750\n",
            "Epoch 30/100\n",
            "14/14 [==============================] - 0s 8ms/step - loss: 0.0613 - accuracy: 0.9783 - val_loss: 0.0719 - val_accuracy: 0.9800\n",
            "Epoch 31/100\n",
            "14/14 [==============================] - 0s 9ms/step - loss: 0.0643 - accuracy: 0.9791 - val_loss: 0.0832 - val_accuracy: 0.9800\n",
            "Epoch 32/100\n",
            "14/14 [==============================] - 0s 9ms/step - loss: 0.0613 - accuracy: 0.9800 - val_loss: 0.0730 - val_accuracy: 0.9700\n",
            "Epoch 33/100\n",
            "14/14 [==============================] - 0s 8ms/step - loss: 0.0545 - accuracy: 0.9809 - val_loss: 0.0996 - val_accuracy: 0.9700\n",
            "Epoch 34/100\n",
            "14/14 [==============================] - 0s 8ms/step - loss: 0.0618 - accuracy: 0.9780 - val_loss: 0.0806 - val_accuracy: 0.9750\n",
            "Epoch 35/100\n",
            "14/14 [==============================] - 0s 8ms/step - loss: 0.0666 - accuracy: 0.9751 - val_loss: 0.0674 - val_accuracy: 0.9800\n",
            "Epoch 36/100\n",
            "14/14 [==============================] - 0s 8ms/step - loss: 0.0653 - accuracy: 0.9763 - val_loss: 0.0773 - val_accuracy: 0.9750\n",
            "Epoch 37/100\n",
            "14/14 [==============================] - 0s 8ms/step - loss: 0.0522 - accuracy: 0.9791 - val_loss: 0.0821 - val_accuracy: 0.9800\n",
            "Epoch 38/100\n",
            "14/14 [==============================] - 0s 8ms/step - loss: 0.0542 - accuracy: 0.9789 - val_loss: 0.0908 - val_accuracy: 0.9700\n",
            "Epoch 39/100\n",
            "14/14 [==============================] - 0s 8ms/step - loss: 0.0437 - accuracy: 0.9860 - val_loss: 0.0909 - val_accuracy: 0.9750\n",
            "Epoch 40/100\n",
            "14/14 [==============================] - 0s 10ms/step - loss: 0.0409 - accuracy: 0.9843 - val_loss: 0.0848 - val_accuracy: 0.9850\n",
            "Epoch 41/100\n",
            "14/14 [==============================] - 0s 9ms/step - loss: 0.0476 - accuracy: 0.9809 - val_loss: 0.1003 - val_accuracy: 0.9800\n",
            "Epoch 42/100\n",
            "14/14 [==============================] - 0s 8ms/step - loss: 0.0470 - accuracy: 0.9857 - val_loss: 0.0776 - val_accuracy: 0.9750\n",
            "Epoch 43/100\n",
            "14/14 [==============================] - 0s 9ms/step - loss: 0.0447 - accuracy: 0.9814 - val_loss: 0.0794 - val_accuracy: 0.9800\n",
            "Epoch 44/100\n",
            "14/14 [==============================] - 0s 9ms/step - loss: 0.0389 - accuracy: 0.9857 - val_loss: 0.0906 - val_accuracy: 0.9750\n",
            "Epoch 45/100\n",
            "14/14 [==============================] - 0s 8ms/step - loss: 0.0379 - accuracy: 0.9854 - val_loss: 0.0919 - val_accuracy: 0.9850\n",
            "Epoch 46/100\n",
            "14/14 [==============================] - 0s 8ms/step - loss: 0.0395 - accuracy: 0.9874 - val_loss: 0.0940 - val_accuracy: 0.9750\n",
            "Epoch 47/100\n",
            "14/14 [==============================] - 0s 9ms/step - loss: 0.0371 - accuracy: 0.9851 - val_loss: 0.0918 - val_accuracy: 0.9800\n",
            "Epoch 48/100\n",
            "14/14 [==============================] - 0s 8ms/step - loss: 0.0381 - accuracy: 0.9866 - val_loss: 0.0866 - val_accuracy: 0.9850\n",
            "Epoch 49/100\n",
            "14/14 [==============================] - 0s 9ms/step - loss: 0.0328 - accuracy: 0.9883 - val_loss: 0.0768 - val_accuracy: 0.9800\n",
            "Epoch 50/100\n",
            "14/14 [==============================] - 0s 8ms/step - loss: 0.0297 - accuracy: 0.9891 - val_loss: 0.0892 - val_accuracy: 0.9700\n",
            "Epoch 51/100\n",
            "14/14 [==============================] - 0s 8ms/step - loss: 0.0335 - accuracy: 0.9886 - val_loss: 0.0820 - val_accuracy: 0.9750\n",
            "Epoch 52/100\n",
            "14/14 [==============================] - 0s 8ms/step - loss: 0.0273 - accuracy: 0.9920 - val_loss: 0.0907 - val_accuracy: 0.9850\n",
            "Epoch 53/100\n",
            "14/14 [==============================] - 0s 8ms/step - loss: 0.0371 - accuracy: 0.9894 - val_loss: 0.0970 - val_accuracy: 0.9850\n",
            "Epoch 54/100\n",
            "14/14 [==============================] - 0s 8ms/step - loss: 0.0357 - accuracy: 0.9883 - val_loss: 0.1082 - val_accuracy: 0.9800\n",
            "Epoch 55/100\n",
            "14/14 [==============================] - 0s 8ms/step - loss: 0.0288 - accuracy: 0.9894 - val_loss: 0.0831 - val_accuracy: 0.9800\n",
            "Epoch 56/100\n",
            "14/14 [==============================] - 0s 9ms/step - loss: 0.0292 - accuracy: 0.9897 - val_loss: 0.0940 - val_accuracy: 0.9750\n",
            "Epoch 57/100\n",
            "14/14 [==============================] - 0s 8ms/step - loss: 0.0255 - accuracy: 0.9917 - val_loss: 0.0871 - val_accuracy: 0.9750\n",
            "Epoch 58/100\n",
            "14/14 [==============================] - 0s 8ms/step - loss: 0.0230 - accuracy: 0.9940 - val_loss: 0.0829 - val_accuracy: 0.9750\n",
            "Epoch 59/100\n",
            "14/14 [==============================] - 0s 8ms/step - loss: 0.0295 - accuracy: 0.9897 - val_loss: 0.1007 - val_accuracy: 0.9850\n",
            "Epoch 60/100\n",
            "14/14 [==============================] - 0s 8ms/step - loss: 0.0295 - accuracy: 0.9909 - val_loss: 0.0719 - val_accuracy: 0.9850\n",
            "Epoch 61/100\n",
            "14/14 [==============================] - 0s 9ms/step - loss: 0.0239 - accuracy: 0.9906 - val_loss: 0.0995 - val_accuracy: 0.9750\n",
            "Epoch 62/100\n",
            "14/14 [==============================] - 0s 9ms/step - loss: 0.0233 - accuracy: 0.9914 - val_loss: 0.0928 - val_accuracy: 0.9850\n",
            "Epoch 63/100\n",
            "14/14 [==============================] - 0s 8ms/step - loss: 0.0220 - accuracy: 0.9926 - val_loss: 0.0783 - val_accuracy: 0.9800\n",
            "Epoch 64/100\n",
            "14/14 [==============================] - 0s 9ms/step - loss: 0.0261 - accuracy: 0.9909 - val_loss: 0.0874 - val_accuracy: 0.9750\n",
            "Epoch 65/100\n",
            "14/14 [==============================] - 0s 8ms/step - loss: 0.0282 - accuracy: 0.9903 - val_loss: 0.0781 - val_accuracy: 0.9850\n",
            "Epoch 66/100\n",
            "14/14 [==============================] - 0s 8ms/step - loss: 0.0254 - accuracy: 0.9914 - val_loss: 0.0999 - val_accuracy: 0.9700\n",
            "Epoch 67/100\n",
            "14/14 [==============================] - 0s 8ms/step - loss: 0.0215 - accuracy: 0.9929 - val_loss: 0.0911 - val_accuracy: 0.9850\n",
            "Epoch 68/100\n",
            "14/14 [==============================] - 0s 8ms/step - loss: 0.0223 - accuracy: 0.9937 - val_loss: 0.1008 - val_accuracy: 0.9850\n",
            "Epoch 69/100\n",
            "14/14 [==============================] - 0s 8ms/step - loss: 0.0235 - accuracy: 0.9906 - val_loss: 0.0992 - val_accuracy: 0.9750\n",
            "Epoch 70/100\n",
            "14/14 [==============================] - 0s 8ms/step - loss: 0.0208 - accuracy: 0.9934 - val_loss: 0.0670 - val_accuracy: 0.9850\n",
            "Epoch 71/100\n",
            "14/14 [==============================] - 0s 8ms/step - loss: 0.0234 - accuracy: 0.9903 - val_loss: 0.0753 - val_accuracy: 0.9750\n",
            "Epoch 72/100\n",
            "14/14 [==============================] - 0s 9ms/step - loss: 0.0220 - accuracy: 0.9923 - val_loss: 0.0902 - val_accuracy: 0.9850\n",
            "Epoch 73/100\n",
            "14/14 [==============================] - 0s 10ms/step - loss: 0.0190 - accuracy: 0.9926 - val_loss: 0.1071 - val_accuracy: 0.9800\n",
            "Epoch 74/100\n",
            "14/14 [==============================] - 0s 9ms/step - loss: 0.0258 - accuracy: 0.9894 - val_loss: 0.0746 - val_accuracy: 0.9850\n",
            "Epoch 75/100\n",
            "14/14 [==============================] - 0s 9ms/step - loss: 0.0226 - accuracy: 0.9923 - val_loss: 0.0841 - val_accuracy: 0.9800\n",
            "Epoch 76/100\n",
            "14/14 [==============================] - 0s 8ms/step - loss: 0.0197 - accuracy: 0.9943 - val_loss: 0.1064 - val_accuracy: 0.9850\n",
            "Epoch 77/100\n",
            "14/14 [==============================] - 0s 8ms/step - loss: 0.0224 - accuracy: 0.9934 - val_loss: 0.1225 - val_accuracy: 0.9800\n",
            "Epoch 78/100\n",
            "14/14 [==============================] - 0s 9ms/step - loss: 0.0240 - accuracy: 0.9926 - val_loss: 0.1228 - val_accuracy: 0.9800\n",
            "Epoch 79/100\n",
            "14/14 [==============================] - 0s 8ms/step - loss: 0.0168 - accuracy: 0.9934 - val_loss: 0.0793 - val_accuracy: 0.9850\n",
            "Epoch 80/100\n",
            "14/14 [==============================] - 0s 10ms/step - loss: 0.0176 - accuracy: 0.9940 - val_loss: 0.1151 - val_accuracy: 0.9700\n",
            "Epoch 81/100\n",
            "14/14 [==============================] - 0s 10ms/step - loss: 0.0201 - accuracy: 0.9934 - val_loss: 0.1199 - val_accuracy: 0.9800\n",
            "Epoch 82/100\n",
            "14/14 [==============================] - 0s 19ms/step - loss: 0.0207 - accuracy: 0.9903 - val_loss: 0.1289 - val_accuracy: 0.9800\n",
            "Epoch 83/100\n",
            "14/14 [==============================] - 0s 17ms/step - loss: 0.0191 - accuracy: 0.9937 - val_loss: 0.0921 - val_accuracy: 0.9800\n",
            "Epoch 84/100\n",
            "14/14 [==============================] - 0s 16ms/step - loss: 0.0211 - accuracy: 0.9934 - val_loss: 0.0921 - val_accuracy: 0.9700\n",
            "Epoch 85/100\n",
            "14/14 [==============================] - 0s 16ms/step - loss: 0.0163 - accuracy: 0.9934 - val_loss: 0.1141 - val_accuracy: 0.9800\n",
            "Epoch 86/100\n",
            "14/14 [==============================] - 0s 21ms/step - loss: 0.0163 - accuracy: 0.9940 - val_loss: 0.1215 - val_accuracy: 0.9750\n",
            "Epoch 87/100\n",
            "14/14 [==============================] - 0s 13ms/step - loss: 0.0180 - accuracy: 0.9934 - val_loss: 0.1094 - val_accuracy: 0.9800\n",
            "Epoch 88/100\n",
            "14/14 [==============================] - 0s 18ms/step - loss: 0.0130 - accuracy: 0.9963 - val_loss: 0.1371 - val_accuracy: 0.9850\n",
            "Epoch 89/100\n",
            "14/14 [==============================] - 0s 17ms/step - loss: 0.0168 - accuracy: 0.9937 - val_loss: 0.1226 - val_accuracy: 0.9800\n",
            "Epoch 90/100\n",
            "14/14 [==============================] - 0s 17ms/step - loss: 0.0164 - accuracy: 0.9951 - val_loss: 0.1321 - val_accuracy: 0.9850\n",
            "Epoch 91/100\n",
            "14/14 [==============================] - 0s 29ms/step - loss: 0.0135 - accuracy: 0.9957 - val_loss: 0.1004 - val_accuracy: 0.9850\n",
            "Epoch 92/100\n",
            "14/14 [==============================] - 0s 25ms/step - loss: 0.0188 - accuracy: 0.9937 - val_loss: 0.0944 - val_accuracy: 0.9850\n",
            "Epoch 93/100\n",
            "14/14 [==============================] - 0s 20ms/step - loss: 0.0205 - accuracy: 0.9937 - val_loss: 0.1066 - val_accuracy: 0.9850\n",
            "Epoch 94/100\n",
            "14/14 [==============================] - 0s 19ms/step - loss: 0.0162 - accuracy: 0.9943 - val_loss: 0.1018 - val_accuracy: 0.9850\n",
            "Epoch 95/100\n",
            "14/14 [==============================] - 0s 19ms/step - loss: 0.0170 - accuracy: 0.9943 - val_loss: 0.0849 - val_accuracy: 0.9750\n",
            "Epoch 96/100\n",
            "14/14 [==============================] - 0s 22ms/step - loss: 0.0162 - accuracy: 0.9943 - val_loss: 0.0795 - val_accuracy: 0.9800\n",
            "Epoch 97/100\n",
            "14/14 [==============================] - 0s 20ms/step - loss: 0.0109 - accuracy: 0.9960 - val_loss: 0.1065 - val_accuracy: 0.9800\n",
            "Epoch 98/100\n",
            "14/14 [==============================] - 0s 19ms/step - loss: 0.0200 - accuracy: 0.9929 - val_loss: 0.1314 - val_accuracy: 0.9750\n",
            "Epoch 99/100\n",
            "14/14 [==============================] - 0s 25ms/step - loss: 0.0126 - accuracy: 0.9960 - val_loss: 0.1162 - val_accuracy: 0.9800\n",
            "Epoch 100/100\n",
            "14/14 [==============================] - 0s 21ms/step - loss: 0.0181 - accuracy: 0.9940 - val_loss: 0.1009 - val_accuracy: 0.9800\n"
          ]
        }
      ],
      "source": [
        "# Fit model on training data\n",
        "'''\n",
        "Model.fit(\n",
        "    x=None,\n",
        "    y=None,\n",
        "    batch_size=None,\n",
        "    epochs=1,\n",
        "    verbose=\"auto\",\n",
        "    callbacks=None,\n",
        "    validation_split=0.0, # use train dataset\n",
        "    validation_data=None, # tuple of (x_val, y_val)\n",
        "    shuffle=True,\n",
        "    class_weight=None,\n",
        "    sample_weight=None,\n",
        "    initial_epoch=0,\n",
        "    steps_per_epoch=None,\n",
        "    validation_steps=None,\n",
        "    validation_batch_size=None,\n",
        "    validation_freq=1,\n",
        "    max_queue_size=10,\n",
        "    workers=1,\n",
        "    use_multiprocessing=False,\n",
        ")'''\n",
        "\n",
        "# 3500 train data , batch_size=256 > 13.67 > 14 iterations in each epoch\n",
        "\n",
        "history = model.fit(x_train, y_train,\n",
        "          epochs=100, batch_size=256, validation_data = (x_val, y_val))"
      ]
    },
    {
      "cell_type": "code",
      "source": [
        "print(type(history.history))\n",
        "print(history.history.keys())\n",
        "print(len(history.history['loss']))\n",
        "\n",
        "acc = history.history['accuracy']\n",
        "val_acc = history.history['val_accuracy']\n",
        "loss = history.history['loss']\n",
        "val_loss = history.history['val_loss']"
      ],
      "metadata": {
        "id": "plpyQoDkD6Vh",
        "outputId": "90c66bcc-d48c-4c3c-8d65-62a2cc6c6a91",
        "colab": {
          "base_uri": "https://localhost:8080/"
        }
      },
      "execution_count": 22,
      "outputs": [
        {
          "output_type": "stream",
          "name": "stdout",
          "text": [
            "<class 'dict'>\n",
            "dict_keys(['loss', 'accuracy', 'val_loss', 'val_accuracy'])\n",
            "100\n"
          ]
        }
      ]
    },
    {
      "cell_type": "code",
      "source": [
        "import matplotlib.pyplot as plt\n",
        "%matplotlib inline\n",
        "\n",
        "epochs = range(len(acc))\n",
        "\n",
        "plt.plot(epochs, acc, \"b-o\", label=\"Training acc\")\n",
        "plt.plot(epochs, val_acc, \"g-o\", label=\"Validation acc\")\n",
        "plt.title('Training and validation accuracy')\n",
        "plt.legend()"
      ],
      "metadata": {
        "id": "0V_ZLGy4EhaE",
        "outputId": "f627f5cb-e581-464b-c9cb-e554c7652e46",
        "colab": {
          "base_uri": "https://localhost:8080/",
          "height": 474
        }
      },
      "execution_count": 23,
      "outputs": [
        {
          "output_type": "execute_result",
          "data": {
            "text/plain": [
              "<matplotlib.legend.Legend at 0x7fda007b5b10>"
            ]
          },
          "metadata": {},
          "execution_count": 23
        },
        {
          "output_type": "display_data",
          "data": {
            "text/plain": [
              "<Figure size 640x480 with 1 Axes>"
            ],
            "image/png": "[encoded data removed]"
          },
          "metadata": {}
        }
      ]
    },
    {
      "cell_type": "code",
      "source": [
        "plt.plot(epochs, loss, 'b-o', label='Training loss')\n",
        "plt.plot(epochs, val_loss, 'g-o', label='Validation loss')\n",
        "plt.title('Training and validation loss')\n",
        "plt.legend()"
      ],
      "metadata": {
        "id": "zp8eUCbTIfKe",
        "outputId": "d9d8076f-b844-4bfa-c117-f2e57d249d4d",
        "colab": {
          "base_uri": "https://localhost:8080/",
          "height": 474
        }
      },
      "execution_count": 24,
      "outputs": [
        {
          "output_type": "execute_result",
          "data": {
            "text/plain": [
              "<matplotlib.legend.Legend at 0x7fda00816290>"
            ]
          },
          "metadata": {},
          "execution_count": 24
        },
        {
          "output_type": "display_data",
          "data": {
            "text/plain": [
              "<Figure size 640x480 with 1 Axes>"
            ],
            "image/png": "[encoded data removed]"
          },
          "metadata": {}
        }
      ]
    }
  ],
  "metadata": {
    "anaconda-cloud": {},
    "kernelspec": {
      "display_name": "Python 3",
      "name": "python3"
    },
    "language_info": {
      "name": "python"
    },
    "nbpresent": {
      "slides": {
        "300ee14f-a043-486e-b274-7ff253907cd7": {
          "id": "300ee14f-a043-486e-b274-7ff253907cd7",
          "prev": "cb74e0bc-4513-4d13-b7f1-14c3078a7927",
          "regions": {
            "26dc3f39-a230-447c-af4c-f5e5b2fb7835": {
              "attrs": {
                "height": 0.8,
                "width": 0.8,
                "x": 0.1,
                "y": 0.1
              },
              "content": {
                "cell": "c58440a5-3f8f-4f37-9c79-6bf766209406",
                "part": "whole"
              },
              "id": "26dc3f39-a230-447c-af4c-f5e5b2fb7835"
            }
          }
        },
        "878aa53a-1444-4100-8f50-7a408191c579": {
          "id": "878aa53a-1444-4100-8f50-7a408191c579",
          "prev": null,
          "regions": {
            "a6c6843a-5ea6-4fbc-b890-3b4b8ae475b3": {
              "attrs": {
                "height": 0.8,
                "width": 0.8,
                "x": 0.1,
                "y": 0.1
              },
              "content": {
                "cell": "588ee1fa-64b5-453b-ade7-8e6b2515821c",
                "part": "whole"
              },
              "id": "a6c6843a-5ea6-4fbc-b890-3b4b8ae475b3"
            }
          }
        },
        "96ffe88e-7b50-43de-afdd-942e564f4e3e": {
          "id": "96ffe88e-7b50-43de-afdd-942e564f4e3e",
          "prev": "878aa53a-1444-4100-8f50-7a408191c579",
          "regions": {
            "b7e52e12-489a-468d-b10c-af2024fd2856": {
              "attrs": {
                "height": 0.8,
                "width": 0.8,
                "x": 0.1,
                "y": 0.1
              },
              "content": {
                "cell": "de829a92-1fb6-44ad-a2c6-fc1001e1f6e1",
                "part": "whole"
              },
              "id": "b7e52e12-489a-468d-b10c-af2024fd2856"
            }
          }
        },
        "cb74e0bc-4513-4d13-b7f1-14c3078a7927": {
          "id": "cb74e0bc-4513-4d13-b7f1-14c3078a7927",
          "prev": "96ffe88e-7b50-43de-afdd-942e564f4e3e",
          "regions": {
            "444878ee-68f3-4abb-acff-a7079b21e86d": {
              "attrs": {
                "height": 0.8,
                "width": 0.8,
                "x": 0.1,
                "y": 0.1
              },
              "content": {
                "cell": "25f3f538-1ee8-4d98-a6bb-14cbeb7a702d",
                "part": "whole"
              },
              "id": "444878ee-68f3-4abb-acff-a7079b21e86d"
            }
          }
        }
      },
      "themes": {}
    },
    "colab": {
      "provenance": [],
      "include_colab_link": true
    },
    "gpuClass": "standard",
    "accelerator": "GPU"
  },
  "nbformat": 4,
  "nbformat_minor": 0
}